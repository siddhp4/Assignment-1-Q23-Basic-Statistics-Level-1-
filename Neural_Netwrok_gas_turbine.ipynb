{
  "cells": [
    {
      "cell_type": "markdown",
      "metadata": {
        "id": "view-in-github",
        "colab_type": "text"
      },
      "source": [
        "<a href=\"https://colab.research.google.com/github/siddhp4/Assignment-1-Q23-Basic-Statistics-Level-1-/blob/main/Neural_Netwrok_gas_turbine.ipynb\" target=\"_parent\"><img src=\"https://colab.research.google.com/assets/colab-badge.svg\" alt=\"Open In Colab\"/></a>"
      ]
    },
    {
      "cell_type": "code",
      "execution_count": null,
      "metadata": {
        "id": "Hwt3AmWOIny4"
      },
      "outputs": [],
      "source": [
        "# Importing the necessary packages\n",
        "import pandas as pd\n",
        "import numpy as np\n",
        "import keras\n",
        "import tensorflow\n",
        "from sklearn.preprocessing import StandardScaler\n",
        "import seaborn as sns"
      ]
    },
    {
      "cell_type": "code",
      "execution_count": null,
      "metadata": {
        "id": "tJdVIEdQJWXj"
      },
      "outputs": [],
      "source": [
        "gt=pd.read_csv(\"gas_turbines.csv\")"
      ]
    },
    {
      "cell_type": "code",
      "execution_count": null,
      "metadata": {
        "colab": {
          "base_uri": "https://localhost:8080/",
          "height": 424
        },
        "id": "S5LWQ0I2an8x",
        "outputId": "fee5c243-6e3b-4e13-c6b9-65f1e33d2bff"
      },
      "outputs": [
        {
          "data": {
            "text/html": [
              "\n",
              "  <div id=\"df-d1b1614e-9ddb-4c99-9c61-d54d8ab1c15b\">\n",
              "    <div class=\"colab-df-container\">\n",
              "      <div>\n",
              "<style scoped>\n",
              "    .dataframe tbody tr th:only-of-type {\n",
              "        vertical-align: middle;\n",
              "    }\n",
              "\n",
              "    .dataframe tbody tr th {\n",
              "        vertical-align: top;\n",
              "    }\n",
              "\n",
              "    .dataframe thead th {\n",
              "        text-align: right;\n",
              "    }\n",
              "</style>\n",
              "<table border=\"1\" class=\"dataframe\">\n",
              "  <thead>\n",
              "    <tr style=\"text-align: right;\">\n",
              "      <th></th>\n",
              "      <th>AT</th>\n",
              "      <th>AP</th>\n",
              "      <th>AH</th>\n",
              "      <th>AFDP</th>\n",
              "      <th>GTEP</th>\n",
              "      <th>TIT</th>\n",
              "      <th>TAT</th>\n",
              "      <th>TEY</th>\n",
              "      <th>CDP</th>\n",
              "      <th>CO</th>\n",
              "      <th>NOX</th>\n",
              "    </tr>\n",
              "  </thead>\n",
              "  <tbody>\n",
              "    <tr>\n",
              "      <th>0</th>\n",
              "      <td>6.8594</td>\n",
              "      <td>1007.9</td>\n",
              "      <td>96.799</td>\n",
              "      <td>3.5000</td>\n",
              "      <td>19.663</td>\n",
              "      <td>1059.2</td>\n",
              "      <td>550.00</td>\n",
              "      <td>114.70</td>\n",
              "      <td>10.605</td>\n",
              "      <td>3.1547</td>\n",
              "      <td>82.722</td>\n",
              "    </tr>\n",
              "    <tr>\n",
              "      <th>1</th>\n",
              "      <td>6.7850</td>\n",
              "      <td>1008.4</td>\n",
              "      <td>97.118</td>\n",
              "      <td>3.4998</td>\n",
              "      <td>19.728</td>\n",
              "      <td>1059.3</td>\n",
              "      <td>550.00</td>\n",
              "      <td>114.72</td>\n",
              "      <td>10.598</td>\n",
              "      <td>3.2363</td>\n",
              "      <td>82.776</td>\n",
              "    </tr>\n",
              "    <tr>\n",
              "      <th>2</th>\n",
              "      <td>6.8977</td>\n",
              "      <td>1008.8</td>\n",
              "      <td>95.939</td>\n",
              "      <td>3.4824</td>\n",
              "      <td>19.779</td>\n",
              "      <td>1059.4</td>\n",
              "      <td>549.87</td>\n",
              "      <td>114.71</td>\n",
              "      <td>10.601</td>\n",
              "      <td>3.2012</td>\n",
              "      <td>82.468</td>\n",
              "    </tr>\n",
              "    <tr>\n",
              "      <th>3</th>\n",
              "      <td>7.0569</td>\n",
              "      <td>1009.2</td>\n",
              "      <td>95.249</td>\n",
              "      <td>3.4805</td>\n",
              "      <td>19.792</td>\n",
              "      <td>1059.6</td>\n",
              "      <td>549.99</td>\n",
              "      <td>114.72</td>\n",
              "      <td>10.606</td>\n",
              "      <td>3.1923</td>\n",
              "      <td>82.670</td>\n",
              "    </tr>\n",
              "    <tr>\n",
              "      <th>4</th>\n",
              "      <td>7.3978</td>\n",
              "      <td>1009.7</td>\n",
              "      <td>95.150</td>\n",
              "      <td>3.4976</td>\n",
              "      <td>19.765</td>\n",
              "      <td>1059.7</td>\n",
              "      <td>549.98</td>\n",
              "      <td>114.72</td>\n",
              "      <td>10.612</td>\n",
              "      <td>3.2484</td>\n",
              "      <td>82.311</td>\n",
              "    </tr>\n",
              "    <tr>\n",
              "      <th>...</th>\n",
              "      <td>...</td>\n",
              "      <td>...</td>\n",
              "      <td>...</td>\n",
              "      <td>...</td>\n",
              "      <td>...</td>\n",
              "      <td>...</td>\n",
              "      <td>...</td>\n",
              "      <td>...</td>\n",
              "      <td>...</td>\n",
              "      <td>...</td>\n",
              "      <td>...</td>\n",
              "    </tr>\n",
              "    <tr>\n",
              "      <th>15034</th>\n",
              "      <td>9.0301</td>\n",
              "      <td>1005.6</td>\n",
              "      <td>98.460</td>\n",
              "      <td>3.5421</td>\n",
              "      <td>19.164</td>\n",
              "      <td>1049.7</td>\n",
              "      <td>546.21</td>\n",
              "      <td>111.61</td>\n",
              "      <td>10.400</td>\n",
              "      <td>4.5186</td>\n",
              "      <td>79.559</td>\n",
              "    </tr>\n",
              "    <tr>\n",
              "      <th>15035</th>\n",
              "      <td>7.8879</td>\n",
              "      <td>1005.9</td>\n",
              "      <td>99.093</td>\n",
              "      <td>3.5059</td>\n",
              "      <td>19.414</td>\n",
              "      <td>1046.3</td>\n",
              "      <td>543.22</td>\n",
              "      <td>111.78</td>\n",
              "      <td>10.433</td>\n",
              "      <td>4.8470</td>\n",
              "      <td>79.917</td>\n",
              "    </tr>\n",
              "    <tr>\n",
              "      <th>15036</th>\n",
              "      <td>7.2647</td>\n",
              "      <td>1006.3</td>\n",
              "      <td>99.496</td>\n",
              "      <td>3.4770</td>\n",
              "      <td>19.530</td>\n",
              "      <td>1037.7</td>\n",
              "      <td>537.32</td>\n",
              "      <td>110.19</td>\n",
              "      <td>10.483</td>\n",
              "      <td>7.9632</td>\n",
              "      <td>90.912</td>\n",
              "    </tr>\n",
              "    <tr>\n",
              "      <th>15037</th>\n",
              "      <td>7.0060</td>\n",
              "      <td>1006.8</td>\n",
              "      <td>99.008</td>\n",
              "      <td>3.4486</td>\n",
              "      <td>19.377</td>\n",
              "      <td>1043.2</td>\n",
              "      <td>541.24</td>\n",
              "      <td>110.74</td>\n",
              "      <td>10.533</td>\n",
              "      <td>6.2494</td>\n",
              "      <td>93.227</td>\n",
              "    </tr>\n",
              "    <tr>\n",
              "      <th>15038</th>\n",
              "      <td>6.9279</td>\n",
              "      <td>1007.2</td>\n",
              "      <td>97.533</td>\n",
              "      <td>3.4275</td>\n",
              "      <td>19.306</td>\n",
              "      <td>1049.9</td>\n",
              "      <td>545.85</td>\n",
              "      <td>111.58</td>\n",
              "      <td>10.583</td>\n",
              "      <td>4.9816</td>\n",
              "      <td>92.498</td>\n",
              "    </tr>\n",
              "  </tbody>\n",
              "</table>\n",
              "<p>15039 rows × 11 columns</p>\n",
              "</div>\n",
              "      <button class=\"colab-df-convert\" onclick=\"convertToInteractive('df-d1b1614e-9ddb-4c99-9c61-d54d8ab1c15b')\"\n",
              "              title=\"Convert this dataframe to an interactive table.\"\n",
              "              style=\"display:none;\">\n",
              "        \n",
              "  <svg xmlns=\"http://www.w3.org/2000/svg\" height=\"24px\"viewBox=\"0 0 24 24\"\n",
              "       width=\"24px\">\n",
              "    <path d=\"M0 0h24v24H0V0z\" fill=\"none\"/>\n",
              "    <path d=\"M18.56 5.44l.94 2.06.94-2.06 2.06-.94-2.06-.94-.94-2.06-.94 2.06-2.06.94zm-11 1L8.5 8.5l.94-2.06 2.06-.94-2.06-.94L8.5 2.5l-.94 2.06-2.06.94zm10 10l.94 2.06.94-2.06 2.06-.94-2.06-.94-.94-2.06-.94 2.06-2.06.94z\"/><path d=\"M17.41 7.96l-1.37-1.37c-.4-.4-.92-.59-1.43-.59-.52 0-1.04.2-1.43.59L10.3 9.45l-7.72 7.72c-.78.78-.78 2.05 0 2.83L4 21.41c.39.39.9.59 1.41.59.51 0 1.02-.2 1.41-.59l7.78-7.78 2.81-2.81c.8-.78.8-2.07 0-2.86zM5.41 20L4 18.59l7.72-7.72 1.47 1.35L5.41 20z\"/>\n",
              "  </svg>\n",
              "      </button>\n",
              "      \n",
              "  <style>\n",
              "    .colab-df-container {\n",
              "      display:flex;\n",
              "      flex-wrap:wrap;\n",
              "      gap: 12px;\n",
              "    }\n",
              "\n",
              "    .colab-df-convert {\n",
              "      background-color: #E8F0FE;\n",
              "      border: none;\n",
              "      border-radius: 50%;\n",
              "      cursor: pointer;\n",
              "      display: none;\n",
              "      fill: #1967D2;\n",
              "      height: 32px;\n",
              "      padding: 0 0 0 0;\n",
              "      width: 32px;\n",
              "    }\n",
              "\n",
              "    .colab-df-convert:hover {\n",
              "      background-color: #E2EBFA;\n",
              "      box-shadow: 0px 1px 2px rgba(60, 64, 67, 0.3), 0px 1px 3px 1px rgba(60, 64, 67, 0.15);\n",
              "      fill: #174EA6;\n",
              "    }\n",
              "\n",
              "    [theme=dark] .colab-df-convert {\n",
              "      background-color: #3B4455;\n",
              "      fill: #D2E3FC;\n",
              "    }\n",
              "\n",
              "    [theme=dark] .colab-df-convert:hover {\n",
              "      background-color: #434B5C;\n",
              "      box-shadow: 0px 1px 3px 1px rgba(0, 0, 0, 0.15);\n",
              "      filter: drop-shadow(0px 1px 2px rgba(0, 0, 0, 0.3));\n",
              "      fill: #FFFFFF;\n",
              "    }\n",
              "  </style>\n",
              "\n",
              "      <script>\n",
              "        const buttonEl =\n",
              "          document.querySelector('#df-d1b1614e-9ddb-4c99-9c61-d54d8ab1c15b button.colab-df-convert');\n",
              "        buttonEl.style.display =\n",
              "          google.colab.kernel.accessAllowed ? 'block' : 'none';\n",
              "\n",
              "        async function convertToInteractive(key) {\n",
              "          const element = document.querySelector('#df-d1b1614e-9ddb-4c99-9c61-d54d8ab1c15b');\n",
              "          const dataTable =\n",
              "            await google.colab.kernel.invokeFunction('convertToInteractive',\n",
              "                                                     [key], {});\n",
              "          if (!dataTable) return;\n",
              "\n",
              "          const docLinkHtml = 'Like what you see? Visit the ' +\n",
              "            '<a target=\"_blank\" href=https://colab.research.google.com/notebooks/data_table.ipynb>data table notebook</a>'\n",
              "            + ' to learn more about interactive tables.';\n",
              "          element.innerHTML = '';\n",
              "          dataTable['output_type'] = 'display_data';\n",
              "          await google.colab.output.renderOutput(dataTable, element);\n",
              "          const docLink = document.createElement('div');\n",
              "          docLink.innerHTML = docLinkHtml;\n",
              "          element.appendChild(docLink);\n",
              "        }\n",
              "      </script>\n",
              "    </div>\n",
              "  </div>\n",
              "  "
            ],
            "text/plain": [
              "           AT      AP      AH    AFDP  ...     TEY     CDP      CO     NOX\n",
              "0      6.8594  1007.9  96.799  3.5000  ...  114.70  10.605  3.1547  82.722\n",
              "1      6.7850  1008.4  97.118  3.4998  ...  114.72  10.598  3.2363  82.776\n",
              "2      6.8977  1008.8  95.939  3.4824  ...  114.71  10.601  3.2012  82.468\n",
              "3      7.0569  1009.2  95.249  3.4805  ...  114.72  10.606  3.1923  82.670\n",
              "4      7.3978  1009.7  95.150  3.4976  ...  114.72  10.612  3.2484  82.311\n",
              "...       ...     ...     ...     ...  ...     ...     ...     ...     ...\n",
              "15034  9.0301  1005.6  98.460  3.5421  ...  111.61  10.400  4.5186  79.559\n",
              "15035  7.8879  1005.9  99.093  3.5059  ...  111.78  10.433  4.8470  79.917\n",
              "15036  7.2647  1006.3  99.496  3.4770  ...  110.19  10.483  7.9632  90.912\n",
              "15037  7.0060  1006.8  99.008  3.4486  ...  110.74  10.533  6.2494  93.227\n",
              "15038  6.9279  1007.2  97.533  3.4275  ...  111.58  10.583  4.9816  92.498\n",
              "\n",
              "[15039 rows x 11 columns]"
            ]
          },
          "execution_count": 4,
          "metadata": {},
          "output_type": "execute_result"
        }
      ],
      "source": [
        "gt"
      ]
    },
    {
      "cell_type": "code",
      "execution_count": null,
      "metadata": {
        "colab": {
          "base_uri": "https://localhost:8080/"
        },
        "id": "JKtjVRSeapF5",
        "outputId": "96e21dce-84a0-4167-d26a-3e9a7420c5d3"
      },
      "outputs": [
        {
          "name": "stdout",
          "output_type": "stream",
          "text": [
            "<class 'pandas.core.frame.DataFrame'>\n",
            "RangeIndex: 15039 entries, 0 to 15038\n",
            "Data columns (total 11 columns):\n",
            " #   Column  Non-Null Count  Dtype  \n",
            "---  ------  --------------  -----  \n",
            " 0   AT      15039 non-null  float64\n",
            " 1   AP      15039 non-null  float64\n",
            " 2   AH      15039 non-null  float64\n",
            " 3   AFDP    15039 non-null  float64\n",
            " 4   GTEP    15039 non-null  float64\n",
            " 5   TIT     15039 non-null  float64\n",
            " 6   TAT     15039 non-null  float64\n",
            " 7   TEY     15039 non-null  float64\n",
            " 8   CDP     15039 non-null  float64\n",
            " 9   CO      15039 non-null  float64\n",
            " 10  NOX     15039 non-null  float64\n",
            "dtypes: float64(11)\n",
            "memory usage: 1.3 MB\n"
          ]
        }
      ],
      "source": [
        "gt.info()"
      ]
    },
    {
      "cell_type": "code",
      "execution_count": null,
      "metadata": {
        "colab": {
          "base_uri": "https://localhost:8080/",
          "height": 364
        },
        "id": "siCdn2YTKm6F",
        "outputId": "5cf0356b-ba7d-4953-f9f9-acd801e6841c"
      },
      "outputs": [
        {
          "data": {
            "text/html": [
              "\n",
              "  <div id=\"df-b18c3730-1858-4f45-8b72-dc3f3d8a8500\">\n",
              "    <div class=\"colab-df-container\">\n",
              "      <div>\n",
              "<style scoped>\n",
              "    .dataframe tbody tr th:only-of-type {\n",
              "        vertical-align: middle;\n",
              "    }\n",
              "\n",
              "    .dataframe tbody tr th {\n",
              "        vertical-align: top;\n",
              "    }\n",
              "\n",
              "    .dataframe thead th {\n",
              "        text-align: right;\n",
              "    }\n",
              "</style>\n",
              "<table border=\"1\" class=\"dataframe\">\n",
              "  <thead>\n",
              "    <tr style=\"text-align: right;\">\n",
              "      <th></th>\n",
              "      <th>AT</th>\n",
              "      <th>AP</th>\n",
              "      <th>AH</th>\n",
              "      <th>AFDP</th>\n",
              "      <th>GTEP</th>\n",
              "      <th>TIT</th>\n",
              "      <th>TAT</th>\n",
              "      <th>TEY</th>\n",
              "      <th>CDP</th>\n",
              "      <th>CO</th>\n",
              "      <th>NOX</th>\n",
              "    </tr>\n",
              "  </thead>\n",
              "  <tbody>\n",
              "    <tr>\n",
              "      <th>count</th>\n",
              "      <td>15039.000000</td>\n",
              "      <td>15039.00000</td>\n",
              "      <td>15039.000000</td>\n",
              "      <td>15039.000000</td>\n",
              "      <td>15039.000000</td>\n",
              "      <td>15039.000000</td>\n",
              "      <td>15039.000000</td>\n",
              "      <td>15039.000000</td>\n",
              "      <td>15039.000000</td>\n",
              "      <td>15039.000000</td>\n",
              "      <td>15039.000000</td>\n",
              "    </tr>\n",
              "    <tr>\n",
              "      <th>mean</th>\n",
              "      <td>17.764381</td>\n",
              "      <td>1013.19924</td>\n",
              "      <td>79.124174</td>\n",
              "      <td>4.200294</td>\n",
              "      <td>25.419061</td>\n",
              "      <td>1083.798770</td>\n",
              "      <td>545.396183</td>\n",
              "      <td>134.188464</td>\n",
              "      <td>12.102353</td>\n",
              "      <td>1.972499</td>\n",
              "      <td>68.190934</td>\n",
              "    </tr>\n",
              "    <tr>\n",
              "      <th>std</th>\n",
              "      <td>7.574323</td>\n",
              "      <td>6.41076</td>\n",
              "      <td>13.793439</td>\n",
              "      <td>0.760197</td>\n",
              "      <td>4.173916</td>\n",
              "      <td>16.527806</td>\n",
              "      <td>7.866803</td>\n",
              "      <td>15.829717</td>\n",
              "      <td>1.103196</td>\n",
              "      <td>2.222206</td>\n",
              "      <td>10.470586</td>\n",
              "    </tr>\n",
              "    <tr>\n",
              "      <th>min</th>\n",
              "      <td>0.522300</td>\n",
              "      <td>985.85000</td>\n",
              "      <td>30.344000</td>\n",
              "      <td>2.087400</td>\n",
              "      <td>17.878000</td>\n",
              "      <td>1000.800000</td>\n",
              "      <td>512.450000</td>\n",
              "      <td>100.170000</td>\n",
              "      <td>9.904400</td>\n",
              "      <td>0.000388</td>\n",
              "      <td>27.765000</td>\n",
              "    </tr>\n",
              "    <tr>\n",
              "      <th>25%</th>\n",
              "      <td>11.408000</td>\n",
              "      <td>1008.90000</td>\n",
              "      <td>69.750000</td>\n",
              "      <td>3.723900</td>\n",
              "      <td>23.294000</td>\n",
              "      <td>1079.600000</td>\n",
              "      <td>542.170000</td>\n",
              "      <td>127.985000</td>\n",
              "      <td>11.622000</td>\n",
              "      <td>0.858055</td>\n",
              "      <td>61.303500</td>\n",
              "    </tr>\n",
              "    <tr>\n",
              "      <th>50%</th>\n",
              "      <td>18.186000</td>\n",
              "      <td>1012.80000</td>\n",
              "      <td>82.266000</td>\n",
              "      <td>4.186200</td>\n",
              "      <td>25.082000</td>\n",
              "      <td>1088.700000</td>\n",
              "      <td>549.890000</td>\n",
              "      <td>133.780000</td>\n",
              "      <td>12.025000</td>\n",
              "      <td>1.390200</td>\n",
              "      <td>66.601000</td>\n",
              "    </tr>\n",
              "    <tr>\n",
              "      <th>75%</th>\n",
              "      <td>23.862500</td>\n",
              "      <td>1016.90000</td>\n",
              "      <td>90.043500</td>\n",
              "      <td>4.550900</td>\n",
              "      <td>27.184000</td>\n",
              "      <td>1096.000000</td>\n",
              "      <td>550.060000</td>\n",
              "      <td>140.895000</td>\n",
              "      <td>12.578000</td>\n",
              "      <td>2.160400</td>\n",
              "      <td>73.935500</td>\n",
              "    </tr>\n",
              "    <tr>\n",
              "      <th>max</th>\n",
              "      <td>34.929000</td>\n",
              "      <td>1034.20000</td>\n",
              "      <td>100.200000</td>\n",
              "      <td>7.610600</td>\n",
              "      <td>37.402000</td>\n",
              "      <td>1100.800000</td>\n",
              "      <td>550.610000</td>\n",
              "      <td>174.610000</td>\n",
              "      <td>15.081000</td>\n",
              "      <td>44.103000</td>\n",
              "      <td>119.890000</td>\n",
              "    </tr>\n",
              "  </tbody>\n",
              "</table>\n",
              "</div>\n",
              "      <button class=\"colab-df-convert\" onclick=\"convertToInteractive('df-b18c3730-1858-4f45-8b72-dc3f3d8a8500')\"\n",
              "              title=\"Convert this dataframe to an interactive table.\"\n",
              "              style=\"display:none;\">\n",
              "        \n",
              "  <svg xmlns=\"http://www.w3.org/2000/svg\" height=\"24px\"viewBox=\"0 0 24 24\"\n",
              "       width=\"24px\">\n",
              "    <path d=\"M0 0h24v24H0V0z\" fill=\"none\"/>\n",
              "    <path d=\"M18.56 5.44l.94 2.06.94-2.06 2.06-.94-2.06-.94-.94-2.06-.94 2.06-2.06.94zm-11 1L8.5 8.5l.94-2.06 2.06-.94-2.06-.94L8.5 2.5l-.94 2.06-2.06.94zm10 10l.94 2.06.94-2.06 2.06-.94-2.06-.94-.94-2.06-.94 2.06-2.06.94z\"/><path d=\"M17.41 7.96l-1.37-1.37c-.4-.4-.92-.59-1.43-.59-.52 0-1.04.2-1.43.59L10.3 9.45l-7.72 7.72c-.78.78-.78 2.05 0 2.83L4 21.41c.39.39.9.59 1.41.59.51 0 1.02-.2 1.41-.59l7.78-7.78 2.81-2.81c.8-.78.8-2.07 0-2.86zM5.41 20L4 18.59l7.72-7.72 1.47 1.35L5.41 20z\"/>\n",
              "  </svg>\n",
              "      </button>\n",
              "      \n",
              "  <style>\n",
              "    .colab-df-container {\n",
              "      display:flex;\n",
              "      flex-wrap:wrap;\n",
              "      gap: 12px;\n",
              "    }\n",
              "\n",
              "    .colab-df-convert {\n",
              "      background-color: #E8F0FE;\n",
              "      border: none;\n",
              "      border-radius: 50%;\n",
              "      cursor: pointer;\n",
              "      display: none;\n",
              "      fill: #1967D2;\n",
              "      height: 32px;\n",
              "      padding: 0 0 0 0;\n",
              "      width: 32px;\n",
              "    }\n",
              "\n",
              "    .colab-df-convert:hover {\n",
              "      background-color: #E2EBFA;\n",
              "      box-shadow: 0px 1px 2px rgba(60, 64, 67, 0.3), 0px 1px 3px 1px rgba(60, 64, 67, 0.15);\n",
              "      fill: #174EA6;\n",
              "    }\n",
              "\n",
              "    [theme=dark] .colab-df-convert {\n",
              "      background-color: #3B4455;\n",
              "      fill: #D2E3FC;\n",
              "    }\n",
              "\n",
              "    [theme=dark] .colab-df-convert:hover {\n",
              "      background-color: #434B5C;\n",
              "      box-shadow: 0px 1px 3px 1px rgba(0, 0, 0, 0.15);\n",
              "      filter: drop-shadow(0px 1px 2px rgba(0, 0, 0, 0.3));\n",
              "      fill: #FFFFFF;\n",
              "    }\n",
              "  </style>\n",
              "\n",
              "      <script>\n",
              "        const buttonEl =\n",
              "          document.querySelector('#df-b18c3730-1858-4f45-8b72-dc3f3d8a8500 button.colab-df-convert');\n",
              "        buttonEl.style.display =\n",
              "          google.colab.kernel.accessAllowed ? 'block' : 'none';\n",
              "\n",
              "        async function convertToInteractive(key) {\n",
              "          const element = document.querySelector('#df-b18c3730-1858-4f45-8b72-dc3f3d8a8500');\n",
              "          const dataTable =\n",
              "            await google.colab.kernel.invokeFunction('convertToInteractive',\n",
              "                                                     [key], {});\n",
              "          if (!dataTable) return;\n",
              "\n",
              "          const docLinkHtml = 'Like what you see? Visit the ' +\n",
              "            '<a target=\"_blank\" href=https://colab.research.google.com/notebooks/data_table.ipynb>data table notebook</a>'\n",
              "            + ' to learn more about interactive tables.';\n",
              "          element.innerHTML = '';\n",
              "          dataTable['output_type'] = 'display_data';\n",
              "          await google.colab.output.renderOutput(dataTable, element);\n",
              "          const docLink = document.createElement('div');\n",
              "          docLink.innerHTML = docLinkHtml;\n",
              "          element.appendChild(docLink);\n",
              "        }\n",
              "      </script>\n",
              "    </div>\n",
              "  </div>\n",
              "  "
            ],
            "text/plain": [
              "                 AT           AP  ...            CO           NOX\n",
              "count  15039.000000  15039.00000  ...  15039.000000  15039.000000\n",
              "mean      17.764381   1013.19924  ...      1.972499     68.190934\n",
              "std        7.574323      6.41076  ...      2.222206     10.470586\n",
              "min        0.522300    985.85000  ...      0.000388     27.765000\n",
              "25%       11.408000   1008.90000  ...      0.858055     61.303500\n",
              "50%       18.186000   1012.80000  ...      1.390200     66.601000\n",
              "75%       23.862500   1016.90000  ...      2.160400     73.935500\n",
              "max       34.929000   1034.20000  ...     44.103000    119.890000\n",
              "\n",
              "[8 rows x 11 columns]"
            ]
          },
          "execution_count": 6,
          "metadata": {},
          "output_type": "execute_result"
        }
      ],
      "source": [
        "gt.describe()"
      ]
    },
    {
      "cell_type": "code",
      "execution_count": null,
      "metadata": {
        "colab": {
          "base_uri": "https://localhost:8080/",
          "height": 282
        },
        "id": "AHqqGt_bN5CL",
        "outputId": "c05c4213-824a-4fe5-a54c-5224d987d5af"
      },
      "outputs": [
        {
          "data": {
            "text/plain": [
              "<matplotlib.collections.PathCollection at 0x7f4bb3940e90>"
            ]
          },
          "execution_count": 7,
          "metadata": {},
          "output_type": "execute_result"
        },
        {
          "data": {
            "image/png": "[encoded data removed]",
            "text/plain": [
              "<Figure size 432x288 with 1 Axes>"
            ]
          },
          "metadata": {},
          "output_type": "display_data"
        }
      ],
      "source": [
        "import matplotlib.pyplot as plt\n",
        "plt.scatter(x=\"CDP\",y=\"TEY\",data=gt)#which is linerly co-related"
      ]
    },
    {
      "cell_type": "code",
      "execution_count": null,
      "metadata": {
        "colab": {
          "base_uri": "https://localhost:8080/",
          "height": 282
        },
        "id": "o2h61zgfOKHL",
        "outputId": "71389657-12b4-4681-cabf-1c4982ec2fa8"
      },
      "outputs": [
        {
          "data": {
            "text/plain": [
              "<matplotlib.axes._subplots.AxesSubplot at 0x7f4bb38bed90>"
            ]
          },
          "execution_count": 8,
          "metadata": {},
          "output_type": "execute_result"
        },
        {
          "data": {
            "image/png": "[encoded data removed]",
            "text/plain": [
              "<Figure size 432x288 with 1 Axes>"
            ]
          },
          "metadata": {},
          "output_type": "display_data"
        }
      ],
      "source": [
        "sns.barplot(data=gt)"
      ]
    },
    {
      "cell_type": "code",
      "execution_count": null,
      "metadata": {
        "colab": {
          "base_uri": "https://localhost:8080/",
          "height": 352
        },
        "id": "vZaqWCcNOQfv",
        "outputId": "4e422dc8-298b-4f95-8e47-8cd67ece1285"
      },
      "outputs": [
        {
          "data": {
            "text/plain": [
              "(array([ 247., 2671.,  474.,  528., 7145.,  462.,  989., 1215., 1160.,\n",
              "         148.]),\n",
              " array([100.17 , 107.614, 115.058, 122.502, 129.946, 137.39 , 144.834,\n",
              "        152.278, 159.722, 167.166, 174.61 ]),\n",
              " <a list of 10 Patch objects>)"
            ]
          },
          "execution_count": 9,
          "metadata": {},
          "output_type": "execute_result"
        },
        {
          "data": {
            "image/png": "[encoded data removed]",
            "text/plain": [
              "<Figure size 432x288 with 1 Axes>"
            ]
          },
          "metadata": {},
          "output_type": "display_data"
        }
      ],
      "source": [
        "plt.hist(gt['TEY'])"
      ]
    },
    {
      "cell_type": "code",
      "execution_count": null,
      "metadata": {
        "id": "_WUyqpojKp0W"
      },
      "outputs": [],
      "source": [
        "#here according to question the target variable is TEY i.e(Turbine Energy Yeild)"
      ]
    },
    {
      "cell_type": "code",
      "execution_count": null,
      "metadata": {
        "id": "tQ4KBcUjNWqT"
      },
      "outputs": [],
      "source": [
        "from sklearn.preprocessing import StandardScaler"
      ]
    },
    {
      "cell_type": "code",
      "execution_count": null,
      "metadata": {
        "id": "XPLuxvMeNawq"
      },
      "outputs": [],
      "source": [
        "scaler = StandardScaler()\n",
        "standardized_gt=scaler.fit_transform(gt)\n",
        "df=pd.DataFrame(standardized_gt, columns=gt.columns)"
      ]
    },
    {
      "cell_type": "code",
      "execution_count": null,
      "metadata": {
        "colab": {
          "base_uri": "https://localhost:8080/",
          "height": 424
        },
        "id": "Rsghlm7_OKfh",
        "outputId": "3ea837e2-1545-4f35-cf15-5265d9c46510"
      },
      "outputs": [
        {
          "data": {
            "text/html": [
              "\n",
              "  <div id=\"df-c35e3878-04e6-422f-be58-b337eb458204\">\n",
              "    <div class=\"colab-df-container\">\n",
              "      <div>\n",
              "<style scoped>\n",
              "    .dataframe tbody tr th:only-of-type {\n",
              "        vertical-align: middle;\n",
              "    }\n",
              "\n",
              "    .dataframe tbody tr th {\n",
              "        vertical-align: top;\n",
              "    }\n",
              "\n",
              "    .dataframe thead th {\n",
              "        text-align: right;\n",
              "    }\n",
              "</style>\n",
              "<table border=\"1\" class=\"dataframe\">\n",
              "  <thead>\n",
              "    <tr style=\"text-align: right;\">\n",
              "      <th></th>\n",
              "      <th>AT</th>\n",
              "      <th>AP</th>\n",
              "      <th>AH</th>\n",
              "      <th>AFDP</th>\n",
              "      <th>GTEP</th>\n",
              "      <th>TIT</th>\n",
              "      <th>TAT</th>\n",
              "      <th>TEY</th>\n",
              "      <th>CDP</th>\n",
              "      <th>CO</th>\n",
              "      <th>NOX</th>\n",
              "    </tr>\n",
              "  </thead>\n",
              "  <tbody>\n",
              "    <tr>\n",
              "      <th>0</th>\n",
              "      <td>-1.439778</td>\n",
              "      <td>-0.826644</td>\n",
              "      <td>1.281436</td>\n",
              "      <td>-0.921232</td>\n",
              "      <td>-1.379101</td>\n",
              "      <td>-1.488376</td>\n",
              "      <td>0.585240</td>\n",
              "      <td>-1.231172</td>\n",
              "      <td>-1.357331</td>\n",
              "      <td>0.532012</td>\n",
              "      <td>1.387845</td>\n",
              "    </tr>\n",
              "    <tr>\n",
              "      <th>1</th>\n",
              "      <td>-1.449601</td>\n",
              "      <td>-0.748647</td>\n",
              "      <td>1.304564</td>\n",
              "      <td>-0.921495</td>\n",
              "      <td>-1.363528</td>\n",
              "      <td>-1.482325</td>\n",
              "      <td>0.585240</td>\n",
              "      <td>-1.229909</td>\n",
              "      <td>-1.363676</td>\n",
              "      <td>0.568733</td>\n",
              "      <td>1.393002</td>\n",
              "    </tr>\n",
              "    <tr>\n",
              "      <th>2</th>\n",
              "      <td>-1.434721</td>\n",
              "      <td>-0.686250</td>\n",
              "      <td>1.219086</td>\n",
              "      <td>-0.944385</td>\n",
              "      <td>-1.351309</td>\n",
              "      <td>-1.476275</td>\n",
              "      <td>0.568715</td>\n",
              "      <td>-1.230541</td>\n",
              "      <td>-1.360957</td>\n",
              "      <td>0.552938</td>\n",
              "      <td>1.363586</td>\n",
              "    </tr>\n",
              "    <tr>\n",
              "      <th>3</th>\n",
              "      <td>-1.413702</td>\n",
              "      <td>-0.623853</td>\n",
              "      <td>1.169060</td>\n",
              "      <td>-0.946884</td>\n",
              "      <td>-1.348194</td>\n",
              "      <td>-1.464173</td>\n",
              "      <td>0.583969</td>\n",
              "      <td>-1.229909</td>\n",
              "      <td>-1.356424</td>\n",
              "      <td>0.548933</td>\n",
              "      <td>1.382878</td>\n",
              "    </tr>\n",
              "    <tr>\n",
              "      <th>4</th>\n",
              "      <td>-1.368693</td>\n",
              "      <td>-0.545857</td>\n",
              "      <td>1.161883</td>\n",
              "      <td>-0.924389</td>\n",
              "      <td>-1.354663</td>\n",
              "      <td>-1.458123</td>\n",
              "      <td>0.582698</td>\n",
              "      <td>-1.229909</td>\n",
              "      <td>-1.350985</td>\n",
              "      <td>0.574179</td>\n",
              "      <td>1.348591</td>\n",
              "    </tr>\n",
              "    <tr>\n",
              "      <th>...</th>\n",
              "      <td>...</td>\n",
              "      <td>...</td>\n",
              "      <td>...</td>\n",
              "      <td>...</td>\n",
              "      <td>...</td>\n",
              "      <td>...</td>\n",
              "      <td>...</td>\n",
              "      <td>...</td>\n",
              "      <td>...</td>\n",
              "      <td>...</td>\n",
              "      <td>...</td>\n",
              "    </tr>\n",
              "    <tr>\n",
              "      <th>15034</th>\n",
              "      <td>-1.153182</td>\n",
              "      <td>-1.185428</td>\n",
              "      <td>1.401860</td>\n",
              "      <td>-0.865850</td>\n",
              "      <td>-1.498657</td>\n",
              "      <td>-2.063184</td>\n",
              "      <td>0.103453</td>\n",
              "      <td>-1.426381</td>\n",
              "      <td>-1.543161</td>\n",
              "      <td>1.145792</td>\n",
              "      <td>1.085751</td>\n",
              "    </tr>\n",
              "    <tr>\n",
              "      <th>15035</th>\n",
              "      <td>-1.303986</td>\n",
              "      <td>-1.138630</td>\n",
              "      <td>1.447753</td>\n",
              "      <td>-0.913470</td>\n",
              "      <td>-1.438759</td>\n",
              "      <td>-2.268905</td>\n",
              "      <td>-0.276638</td>\n",
              "      <td>-1.415642</td>\n",
              "      <td>-1.513247</td>\n",
              "      <td>1.293578</td>\n",
              "      <td>1.119943</td>\n",
              "    </tr>\n",
              "    <tr>\n",
              "      <th>15036</th>\n",
              "      <td>-1.386267</td>\n",
              "      <td>-1.076233</td>\n",
              "      <td>1.476971</td>\n",
              "      <td>-0.951488</td>\n",
              "      <td>-1.410967</td>\n",
              "      <td>-2.789257</td>\n",
              "      <td>-1.026650</td>\n",
              "      <td>-1.516089</td>\n",
              "      <td>-1.467922</td>\n",
              "      <td>2.695925</td>\n",
              "      <td>2.170062</td>\n",
              "    </tr>\n",
              "    <tr>\n",
              "      <th>15037</th>\n",
              "      <td>-1.420423</td>\n",
              "      <td>-0.998236</td>\n",
              "      <td>1.441590</td>\n",
              "      <td>-0.988848</td>\n",
              "      <td>-1.447624</td>\n",
              "      <td>-2.456474</td>\n",
              "      <td>-0.528337</td>\n",
              "      <td>-1.481343</td>\n",
              "      <td>-1.422598</td>\n",
              "      <td>1.924683</td>\n",
              "      <td>2.391165</td>\n",
              "    </tr>\n",
              "    <tr>\n",
              "      <th>15038</th>\n",
              "      <td>-1.430734</td>\n",
              "      <td>-0.935839</td>\n",
              "      <td>1.334652</td>\n",
              "      <td>-1.016605</td>\n",
              "      <td>-1.464635</td>\n",
              "      <td>-2.051083</td>\n",
              "      <td>0.057689</td>\n",
              "      <td>-1.428277</td>\n",
              "      <td>-1.377273</td>\n",
              "      <td>1.354150</td>\n",
              "      <td>2.321539</td>\n",
              "    </tr>\n",
              "  </tbody>\n",
              "</table>\n",
              "<p>15039 rows × 11 columns</p>\n",
              "</div>\n",
              "      <button class=\"colab-df-convert\" onclick=\"convertToInteractive('df-c35e3878-04e6-422f-be58-b337eb458204')\"\n",
              "              title=\"Convert this dataframe to an interactive table.\"\n",
              "              style=\"display:none;\">\n",
              "        \n",
              "  <svg xmlns=\"http://www.w3.org/2000/svg\" height=\"24px\"viewBox=\"0 0 24 24\"\n",
              "       width=\"24px\">\n",
              "    <path d=\"M0 0h24v24H0V0z\" fill=\"none\"/>\n",
              "    <path d=\"M18.56 5.44l.94 2.06.94-2.06 2.06-.94-2.06-.94-.94-2.06-.94 2.06-2.06.94zm-11 1L8.5 8.5l.94-2.06 2.06-.94-2.06-.94L8.5 2.5l-.94 2.06-2.06.94zm10 10l.94 2.06.94-2.06 2.06-.94-2.06-.94-.94-2.06-.94 2.06-2.06.94z\"/><path d=\"M17.41 7.96l-1.37-1.37c-.4-.4-.92-.59-1.43-.59-.52 0-1.04.2-1.43.59L10.3 9.45l-7.72 7.72c-.78.78-.78 2.05 0 2.83L4 21.41c.39.39.9.59 1.41.59.51 0 1.02-.2 1.41-.59l7.78-7.78 2.81-2.81c.8-.78.8-2.07 0-2.86zM5.41 20L4 18.59l7.72-7.72 1.47 1.35L5.41 20z\"/>\n",
              "  </svg>\n",
              "      </button>\n",
              "      \n",
              "  <style>\n",
              "    .colab-df-container {\n",
              "      display:flex;\n",
              "      flex-wrap:wrap;\n",
              "      gap: 12px;\n",
              "    }\n",
              "\n",
              "    .colab-df-convert {\n",
              "      background-color: #E8F0FE;\n",
              "      border: none;\n",
              "      border-radius: 50%;\n",
              "      cursor: pointer;\n",
              "      display: none;\n",
              "      fill: #1967D2;\n",
              "      height: 32px;\n",
              "      padding: 0 0 0 0;\n",
              "      width: 32px;\n",
              "    }\n",
              "\n",
              "    .colab-df-convert:hover {\n",
              "      background-color: #E2EBFA;\n",
              "      box-shadow: 0px 1px 2px rgba(60, 64, 67, 0.3), 0px 1px 3px 1px rgba(60, 64, 67, 0.15);\n",
              "      fill: #174EA6;\n",
              "    }\n",
              "\n",
              "    [theme=dark] .colab-df-convert {\n",
              "      background-color: #3B4455;\n",
              "      fill: #D2E3FC;\n",
              "    }\n",
              "\n",
              "    [theme=dark] .colab-df-convert:hover {\n",
              "      background-color: #434B5C;\n",
              "      box-shadow: 0px 1px 3px 1px rgba(0, 0, 0, 0.15);\n",
              "      filter: drop-shadow(0px 1px 2px rgba(0, 0, 0, 0.3));\n",
              "      fill: #FFFFFF;\n",
              "    }\n",
              "  </style>\n",
              "\n",
              "      <script>\n",
              "        const buttonEl =\n",
              "          document.querySelector('#df-c35e3878-04e6-422f-be58-b337eb458204 button.colab-df-convert');\n",
              "        buttonEl.style.display =\n",
              "          google.colab.kernel.accessAllowed ? 'block' : 'none';\n",
              "\n",
              "        async function convertToInteractive(key) {\n",
              "          const element = document.querySelector('#df-c35e3878-04e6-422f-be58-b337eb458204');\n",
              "          const dataTable =\n",
              "            await google.colab.kernel.invokeFunction('convertToInteractive',\n",
              "                                                     [key], {});\n",
              "          if (!dataTable) return;\n",
              "\n",
              "          const docLinkHtml = 'Like what you see? Visit the ' +\n",
              "            '<a target=\"_blank\" href=https://colab.research.google.com/notebooks/data_table.ipynb>data table notebook</a>'\n",
              "            + ' to learn more about interactive tables.';\n",
              "          element.innerHTML = '';\n",
              "          dataTable['output_type'] = 'display_data';\n",
              "          await google.colab.output.renderOutput(dataTable, element);\n",
              "          const docLink = document.createElement('div');\n",
              "          docLink.innerHTML = docLinkHtml;\n",
              "          element.appendChild(docLink);\n",
              "        }\n",
              "      </script>\n",
              "    </div>\n",
              "  </div>\n",
              "  "
            ],
            "text/plain": [
              "             AT        AP        AH  ...       CDP        CO       NOX\n",
              "0     -1.439778 -0.826644  1.281436  ... -1.357331  0.532012  1.387845\n",
              "1     -1.449601 -0.748647  1.304564  ... -1.363676  0.568733  1.393002\n",
              "2     -1.434721 -0.686250  1.219086  ... -1.360957  0.552938  1.363586\n",
              "3     -1.413702 -0.623853  1.169060  ... -1.356424  0.548933  1.382878\n",
              "4     -1.368693 -0.545857  1.161883  ... -1.350985  0.574179  1.348591\n",
              "...         ...       ...       ...  ...       ...       ...       ...\n",
              "15034 -1.153182 -1.185428  1.401860  ... -1.543161  1.145792  1.085751\n",
              "15035 -1.303986 -1.138630  1.447753  ... -1.513247  1.293578  1.119943\n",
              "15036 -1.386267 -1.076233  1.476971  ... -1.467922  2.695925  2.170062\n",
              "15037 -1.420423 -0.998236  1.441590  ... -1.422598  1.924683  2.391165\n",
              "15038 -1.430734 -0.935839  1.334652  ... -1.377273  1.354150  2.321539\n",
              "\n",
              "[15039 rows x 11 columns]"
            ]
          },
          "execution_count": 13,
          "metadata": {},
          "output_type": "execute_result"
        }
      ],
      "source": [
        "df"
      ]
    },
    {
      "cell_type": "code",
      "execution_count": null,
      "metadata": {
        "colab": {
          "base_uri": "https://localhost:8080/"
        },
        "id": "0b_2kpMmORUH",
        "outputId": "846daf3e-5da8-4439-81f5-740b4d495191"
      },
      "outputs": [
        {
          "name": "stdout",
          "output_type": "stream",
          "text": [
            "<class 'pandas.core.frame.DataFrame'>\n",
            "RangeIndex: 15039 entries, 0 to 15038\n",
            "Data columns (total 11 columns):\n",
            " #   Column  Non-Null Count  Dtype  \n",
            "---  ------  --------------  -----  \n",
            " 0   AT      15039 non-null  float64\n",
            " 1   AP      15039 non-null  float64\n",
            " 2   AH      15039 non-null  float64\n",
            " 3   AFDP    15039 non-null  float64\n",
            " 4   GTEP    15039 non-null  float64\n",
            " 5   TIT     15039 non-null  float64\n",
            " 6   TAT     15039 non-null  float64\n",
            " 7   TEY     15039 non-null  float64\n",
            " 8   CDP     15039 non-null  float64\n",
            " 9   CO      15039 non-null  float64\n",
            " 10  NOX     15039 non-null  float64\n",
            "dtypes: float64(11)\n",
            "memory usage: 1.3 MB\n"
          ]
        }
      ],
      "source": [
        "df.info()"
      ]
    },
    {
      "cell_type": "code",
      "execution_count": null,
      "metadata": {
        "colab": {
          "base_uri": "https://localhost:8080/",
          "height": 416
        },
        "id": "KPLi1tTxOS-f",
        "outputId": "14e6a69a-633f-4500-bd5b-c558d3431941"
      },
      "outputs": [
        {
          "data": {
            "text/html": [
              "\n",
              "  <div id=\"df-167860b9-7bd9-428c-9642-27215a0dbd65\">\n",
              "    <div class=\"colab-df-container\">\n",
              "      <div>\n",
              "<style scoped>\n",
              "    .dataframe tbody tr th:only-of-type {\n",
              "        vertical-align: middle;\n",
              "    }\n",
              "\n",
              "    .dataframe tbody tr th {\n",
              "        vertical-align: top;\n",
              "    }\n",
              "\n",
              "    .dataframe thead th {\n",
              "        text-align: right;\n",
              "    }\n",
              "</style>\n",
              "<table border=\"1\" class=\"dataframe\">\n",
              "  <thead>\n",
              "    <tr style=\"text-align: right;\">\n",
              "      <th></th>\n",
              "      <th>AT</th>\n",
              "      <th>AP</th>\n",
              "      <th>AH</th>\n",
              "      <th>AFDP</th>\n",
              "      <th>GTEP</th>\n",
              "      <th>TIT</th>\n",
              "      <th>TAT</th>\n",
              "      <th>TEY</th>\n",
              "      <th>CDP</th>\n",
              "      <th>CO</th>\n",
              "      <th>NOX</th>\n",
              "    </tr>\n",
              "  </thead>\n",
              "  <tbody>\n",
              "    <tr>\n",
              "      <th>count</th>\n",
              "      <td>1.503900e+04</td>\n",
              "      <td>1.503900e+04</td>\n",
              "      <td>1.503900e+04</td>\n",
              "      <td>1.503900e+04</td>\n",
              "      <td>1.503900e+04</td>\n",
              "      <td>1.503900e+04</td>\n",
              "      <td>1.503900e+04</td>\n",
              "      <td>1.503900e+04</td>\n",
              "      <td>1.503900e+04</td>\n",
              "      <td>1.503900e+04</td>\n",
              "      <td>1.503900e+04</td>\n",
              "    </tr>\n",
              "    <tr>\n",
              "      <th>mean</th>\n",
              "      <td>-1.169680e-15</td>\n",
              "      <td>-1.925280e-14</td>\n",
              "      <td>2.007245e-16</td>\n",
              "      <td>3.810001e-16</td>\n",
              "      <td>1.111478e-16</td>\n",
              "      <td>-2.324212e-15</td>\n",
              "      <td>1.744899e-15</td>\n",
              "      <td>1.406445e-15</td>\n",
              "      <td>2.542166e-16</td>\n",
              "      <td>1.959261e-17</td>\n",
              "      <td>-3.646853e-17</td>\n",
              "    </tr>\n",
              "    <tr>\n",
              "      <th>std</th>\n",
              "      <td>1.000033e+00</td>\n",
              "      <td>1.000033e+00</td>\n",
              "      <td>1.000033e+00</td>\n",
              "      <td>1.000033e+00</td>\n",
              "      <td>1.000033e+00</td>\n",
              "      <td>1.000033e+00</td>\n",
              "      <td>1.000033e+00</td>\n",
              "      <td>1.000033e+00</td>\n",
              "      <td>1.000033e+00</td>\n",
              "      <td>1.000033e+00</td>\n",
              "      <td>1.000033e+00</td>\n",
              "    </tr>\n",
              "    <tr>\n",
              "      <th>min</th>\n",
              "      <td>-2.276462e+00</td>\n",
              "      <td>-4.266288e+00</td>\n",
              "      <td>-3.536594e+00</td>\n",
              "      <td>-2.779497e+00</td>\n",
              "      <td>-1.806771e+00</td>\n",
              "      <td>-5.021933e+00</td>\n",
              "      <td>-4.188141e+00</td>\n",
              "      <td>-2.149097e+00</td>\n",
              "      <td>-1.992416e+00</td>\n",
              "      <td>-8.874862e-01</td>\n",
              "      <td>-3.861033e+00</td>\n",
              "    </tr>\n",
              "    <tr>\n",
              "      <th>25%</th>\n",
              "      <td>-8.392292e-01</td>\n",
              "      <td>-6.706510e-01</td>\n",
              "      <td>-6.796337e-01</td>\n",
              "      <td>-6.266930e-01</td>\n",
              "      <td>-5.091458e-01</td>\n",
              "      <td>-2.540512e-01</td>\n",
              "      <td>-4.101146e-01</td>\n",
              "      <td>-3.919003e-01</td>\n",
              "      <td>-4.354335e-01</td>\n",
              "      <td>-5.015202e-01</td>\n",
              "      <td>-6.578107e-01</td>\n",
              "    </tr>\n",
              "    <tr>\n",
              "      <th>50%</th>\n",
              "      <td>5.566605e-02</td>\n",
              "      <td>-6.227861e-02</td>\n",
              "      <td>2.277844e-01</td>\n",
              "      <td>-1.854065e-02</td>\n",
              "      <td>-8.075681e-02</td>\n",
              "      <td>2.965544e-01</td>\n",
              "      <td>5.712570e-01</td>\n",
              "      <td>-2.580448e-02</td>\n",
              "      <td>-7.011925e-02</td>\n",
              "      <td>-2.620452e-01</td>\n",
              "      <td>-1.518527e-01</td>\n",
              "    </tr>\n",
              "    <tr>\n",
              "      <th>75%</th>\n",
              "      <td>8.051309e-01</td>\n",
              "      <td>5.772924e-01</td>\n",
              "      <td>7.916582e-01</td>\n",
              "      <td>4.612196e-01</td>\n",
              "      <td>4.228638e-01</td>\n",
              "      <td>7.382490e-01</td>\n",
              "      <td>5.928675e-01</td>\n",
              "      <td>4.236815e-01</td>\n",
              "      <td>4.311680e-01</td>\n",
              "      <td>8.455882e-02</td>\n",
              "      <td>5.486567e-01</td>\n",
              "    </tr>\n",
              "    <tr>\n",
              "      <th>max</th>\n",
              "      <td>2.266234e+00</td>\n",
              "      <td>3.275970e+00</td>\n",
              "      <td>1.528011e+00</td>\n",
              "      <td>4.486233e+00</td>\n",
              "      <td>2.871006e+00</td>\n",
              "      <td>1.028678e+00</td>\n",
              "      <td>6.627839e-01</td>\n",
              "      <td>2.553607e+00</td>\n",
              "      <td>2.700105e+00</td>\n",
              "      <td>1.895949e+01</td>\n",
              "      <td>4.937717e+00</td>\n",
              "    </tr>\n",
              "  </tbody>\n",
              "</table>\n",
              "</div>\n",
              "      <button class=\"colab-df-convert\" onclick=\"convertToInteractive('df-167860b9-7bd9-428c-9642-27215a0dbd65')\"\n",
              "              title=\"Convert this dataframe to an interactive table.\"\n",
              "              style=\"display:none;\">\n",
              "        \n",
              "  <svg xmlns=\"http://www.w3.org/2000/svg\" height=\"24px\"viewBox=\"0 0 24 24\"\n",
              "       width=\"24px\">\n",
              "    <path d=\"M0 0h24v24H0V0z\" fill=\"none\"/>\n",
              "    <path d=\"M18.56 5.44l.94 2.06.94-2.06 2.06-.94-2.06-.94-.94-2.06-.94 2.06-2.06.94zm-11 1L8.5 8.5l.94-2.06 2.06-.94-2.06-.94L8.5 2.5l-.94 2.06-2.06.94zm10 10l.94 2.06.94-2.06 2.06-.94-2.06-.94-.94-2.06-.94 2.06-2.06.94z\"/><path d=\"M17.41 7.96l-1.37-1.37c-.4-.4-.92-.59-1.43-.59-.52 0-1.04.2-1.43.59L10.3 9.45l-7.72 7.72c-.78.78-.78 2.05 0 2.83L4 21.41c.39.39.9.59 1.41.59.51 0 1.02-.2 1.41-.59l7.78-7.78 2.81-2.81c.8-.78.8-2.07 0-2.86zM5.41 20L4 18.59l7.72-7.72 1.47 1.35L5.41 20z\"/>\n",
              "  </svg>\n",
              "      </button>\n",
              "      \n",
              "  <style>\n",
              "    .colab-df-container {\n",
              "      display:flex;\n",
              "      flex-wrap:wrap;\n",
              "      gap: 12px;\n",
              "    }\n",
              "\n",
              "    .colab-df-convert {\n",
              "      background-color: #E8F0FE;\n",
              "      border: none;\n",
              "      border-radius: 50%;\n",
              "      cursor: pointer;\n",
              "      display: none;\n",
              "      fill: #1967D2;\n",
              "      height: 32px;\n",
              "      padding: 0 0 0 0;\n",
              "      width: 32px;\n",
              "    }\n",
              "\n",
              "    .colab-df-convert:hover {\n",
              "      background-color: #E2EBFA;\n",
              "      box-shadow: 0px 1px 2px rgba(60, 64, 67, 0.3), 0px 1px 3px 1px rgba(60, 64, 67, 0.15);\n",
              "      fill: #174EA6;\n",
              "    }\n",
              "\n",
              "    [theme=dark] .colab-df-convert {\n",
              "      background-color: #3B4455;\n",
              "      fill: #D2E3FC;\n",
              "    }\n",
              "\n",
              "    [theme=dark] .colab-df-convert:hover {\n",
              "      background-color: #434B5C;\n",
              "      box-shadow: 0px 1px 3px 1px rgba(0, 0, 0, 0.15);\n",
              "      filter: drop-shadow(0px 1px 2px rgba(0, 0, 0, 0.3));\n",
              "      fill: #FFFFFF;\n",
              "    }\n",
              "  </style>\n",
              "\n",
              "      <script>\n",
              "        const buttonEl =\n",
              "          document.querySelector('#df-167860b9-7bd9-428c-9642-27215a0dbd65 button.colab-df-convert');\n",
              "        buttonEl.style.display =\n",
              "          google.colab.kernel.accessAllowed ? 'block' : 'none';\n",
              "\n",
              "        async function convertToInteractive(key) {\n",
              "          const element = document.querySelector('#df-167860b9-7bd9-428c-9642-27215a0dbd65');\n",
              "          const dataTable =\n",
              "            await google.colab.kernel.invokeFunction('convertToInteractive',\n",
              "                                                     [key], {});\n",
              "          if (!dataTable) return;\n",
              "\n",
              "          const docLinkHtml = 'Like what you see? Visit the ' +\n",
              "            '<a target=\"_blank\" href=https://colab.research.google.com/notebooks/data_table.ipynb>data table notebook</a>'\n",
              "            + ' to learn more about interactive tables.';\n",
              "          element.innerHTML = '';\n",
              "          dataTable['output_type'] = 'display_data';\n",
              "          await google.colab.output.renderOutput(dataTable, element);\n",
              "          const docLink = document.createElement('div');\n",
              "          docLink.innerHTML = docLinkHtml;\n",
              "          element.appendChild(docLink);\n",
              "        }\n",
              "      </script>\n",
              "    </div>\n",
              "  </div>\n",
              "  "
            ],
            "text/plain": [
              "                 AT            AP  ...            CO           NOX\n",
              "count  1.503900e+04  1.503900e+04  ...  1.503900e+04  1.503900e+04\n",
              "mean  -1.169680e-15 -1.925280e-14  ...  1.959261e-17 -3.646853e-17\n",
              "std    1.000033e+00  1.000033e+00  ...  1.000033e+00  1.000033e+00\n",
              "min   -2.276462e+00 -4.266288e+00  ... -8.874862e-01 -3.861033e+00\n",
              "25%   -8.392292e-01 -6.706510e-01  ... -5.015202e-01 -6.578107e-01\n",
              "50%    5.566605e-02 -6.227861e-02  ... -2.620452e-01 -1.518527e-01\n",
              "75%    8.051309e-01  5.772924e-01  ...  8.455882e-02  5.486567e-01\n",
              "max    2.266234e+00  3.275970e+00  ...  1.895949e+01  4.937717e+00\n",
              "\n",
              "[8 rows x 11 columns]"
            ]
          },
          "execution_count": 15,
          "metadata": {},
          "output_type": "execute_result"
        }
      ],
      "source": [
        "df.describe()"
      ]
    },
    {
      "cell_type": "code",
      "execution_count": null,
      "metadata": {
        "id": "oDqr--zYOBZm"
      },
      "outputs": [],
      "source": [
        "X=df.drop([\"TEY\"],axis=1)\n",
        "y=df[\"TEY\"]"
      ]
    },
    {
      "cell_type": "code",
      "execution_count": null,
      "metadata": {
        "colab": {
          "base_uri": "https://localhost:8080/",
          "height": 424
        },
        "id": "zQnAwVbTO3Fc",
        "outputId": "e81fc8c9-0d48-497f-ff89-44bcf53b90f8"
      },
      "outputs": [
        {
          "data": {
            "text/html": [
              "\n",
              "  <div id=\"df-d8782ce3-e535-4e87-9495-6010b2825121\">\n",
              "    <div class=\"colab-df-container\">\n",
              "      <div>\n",
              "<style scoped>\n",
              "    .dataframe tbody tr th:only-of-type {\n",
              "        vertical-align: middle;\n",
              "    }\n",
              "\n",
              "    .dataframe tbody tr th {\n",
              "        vertical-align: top;\n",
              "    }\n",
              "\n",
              "    .dataframe thead th {\n",
              "        text-align: right;\n",
              "    }\n",
              "</style>\n",
              "<table border=\"1\" class=\"dataframe\">\n",
              "  <thead>\n",
              "    <tr style=\"text-align: right;\">\n",
              "      <th></th>\n",
              "      <th>AT</th>\n",
              "      <th>AP</th>\n",
              "      <th>AH</th>\n",
              "      <th>AFDP</th>\n",
              "      <th>GTEP</th>\n",
              "      <th>TIT</th>\n",
              "      <th>TAT</th>\n",
              "      <th>CDP</th>\n",
              "      <th>CO</th>\n",
              "      <th>NOX</th>\n",
              "    </tr>\n",
              "  </thead>\n",
              "  <tbody>\n",
              "    <tr>\n",
              "      <th>0</th>\n",
              "      <td>-1.439778</td>\n",
              "      <td>-0.826644</td>\n",
              "      <td>1.281436</td>\n",
              "      <td>-0.921232</td>\n",
              "      <td>-1.379101</td>\n",
              "      <td>-1.488376</td>\n",
              "      <td>0.585240</td>\n",
              "      <td>-1.357331</td>\n",
              "      <td>0.532012</td>\n",
              "      <td>1.387845</td>\n",
              "    </tr>\n",
              "    <tr>\n",
              "      <th>1</th>\n",
              "      <td>-1.449601</td>\n",
              "      <td>-0.748647</td>\n",
              "      <td>1.304564</td>\n",
              "      <td>-0.921495</td>\n",
              "      <td>-1.363528</td>\n",
              "      <td>-1.482325</td>\n",
              "      <td>0.585240</td>\n",
              "      <td>-1.363676</td>\n",
              "      <td>0.568733</td>\n",
              "      <td>1.393002</td>\n",
              "    </tr>\n",
              "    <tr>\n",
              "      <th>2</th>\n",
              "      <td>-1.434721</td>\n",
              "      <td>-0.686250</td>\n",
              "      <td>1.219086</td>\n",
              "      <td>-0.944385</td>\n",
              "      <td>-1.351309</td>\n",
              "      <td>-1.476275</td>\n",
              "      <td>0.568715</td>\n",
              "      <td>-1.360957</td>\n",
              "      <td>0.552938</td>\n",
              "      <td>1.363586</td>\n",
              "    </tr>\n",
              "    <tr>\n",
              "      <th>3</th>\n",
              "      <td>-1.413702</td>\n",
              "      <td>-0.623853</td>\n",
              "      <td>1.169060</td>\n",
              "      <td>-0.946884</td>\n",
              "      <td>-1.348194</td>\n",
              "      <td>-1.464173</td>\n",
              "      <td>0.583969</td>\n",
              "      <td>-1.356424</td>\n",
              "      <td>0.548933</td>\n",
              "      <td>1.382878</td>\n",
              "    </tr>\n",
              "    <tr>\n",
              "      <th>4</th>\n",
              "      <td>-1.368693</td>\n",
              "      <td>-0.545857</td>\n",
              "      <td>1.161883</td>\n",
              "      <td>-0.924389</td>\n",
              "      <td>-1.354663</td>\n",
              "      <td>-1.458123</td>\n",
              "      <td>0.582698</td>\n",
              "      <td>-1.350985</td>\n",
              "      <td>0.574179</td>\n",
              "      <td>1.348591</td>\n",
              "    </tr>\n",
              "    <tr>\n",
              "      <th>...</th>\n",
              "      <td>...</td>\n",
              "      <td>...</td>\n",
              "      <td>...</td>\n",
              "      <td>...</td>\n",
              "      <td>...</td>\n",
              "      <td>...</td>\n",
              "      <td>...</td>\n",
              "      <td>...</td>\n",
              "      <td>...</td>\n",
              "      <td>...</td>\n",
              "    </tr>\n",
              "    <tr>\n",
              "      <th>15034</th>\n",
              "      <td>-1.153182</td>\n",
              "      <td>-1.185428</td>\n",
              "      <td>1.401860</td>\n",
              "      <td>-0.865850</td>\n",
              "      <td>-1.498657</td>\n",
              "      <td>-2.063184</td>\n",
              "      <td>0.103453</td>\n",
              "      <td>-1.543161</td>\n",
              "      <td>1.145792</td>\n",
              "      <td>1.085751</td>\n",
              "    </tr>\n",
              "    <tr>\n",
              "      <th>15035</th>\n",
              "      <td>-1.303986</td>\n",
              "      <td>-1.138630</td>\n",
              "      <td>1.447753</td>\n",
              "      <td>-0.913470</td>\n",
              "      <td>-1.438759</td>\n",
              "      <td>-2.268905</td>\n",
              "      <td>-0.276638</td>\n",
              "      <td>-1.513247</td>\n",
              "      <td>1.293578</td>\n",
              "      <td>1.119943</td>\n",
              "    </tr>\n",
              "    <tr>\n",
              "      <th>15036</th>\n",
              "      <td>-1.386267</td>\n",
              "      <td>-1.076233</td>\n",
              "      <td>1.476971</td>\n",
              "      <td>-0.951488</td>\n",
              "      <td>-1.410967</td>\n",
              "      <td>-2.789257</td>\n",
              "      <td>-1.026650</td>\n",
              "      <td>-1.467922</td>\n",
              "      <td>2.695925</td>\n",
              "      <td>2.170062</td>\n",
              "    </tr>\n",
              "    <tr>\n",
              "      <th>15037</th>\n",
              "      <td>-1.420423</td>\n",
              "      <td>-0.998236</td>\n",
              "      <td>1.441590</td>\n",
              "      <td>-0.988848</td>\n",
              "      <td>-1.447624</td>\n",
              "      <td>-2.456474</td>\n",
              "      <td>-0.528337</td>\n",
              "      <td>-1.422598</td>\n",
              "      <td>1.924683</td>\n",
              "      <td>2.391165</td>\n",
              "    </tr>\n",
              "    <tr>\n",
              "      <th>15038</th>\n",
              "      <td>-1.430734</td>\n",
              "      <td>-0.935839</td>\n",
              "      <td>1.334652</td>\n",
              "      <td>-1.016605</td>\n",
              "      <td>-1.464635</td>\n",
              "      <td>-2.051083</td>\n",
              "      <td>0.057689</td>\n",
              "      <td>-1.377273</td>\n",
              "      <td>1.354150</td>\n",
              "      <td>2.321539</td>\n",
              "    </tr>\n",
              "  </tbody>\n",
              "</table>\n",
              "<p>15039 rows × 10 columns</p>\n",
              "</div>\n",
              "      <button class=\"colab-df-convert\" onclick=\"convertToInteractive('df-d8782ce3-e535-4e87-9495-6010b2825121')\"\n",
              "              title=\"Convert this dataframe to an interactive table.\"\n",
              "              style=\"display:none;\">\n",
              "        \n",
              "  <svg xmlns=\"http://www.w3.org/2000/svg\" height=\"24px\"viewBox=\"0 0 24 24\"\n",
              "       width=\"24px\">\n",
              "    <path d=\"M0 0h24v24H0V0z\" fill=\"none\"/>\n",
              "    <path d=\"M18.56 5.44l.94 2.06.94-2.06 2.06-.94-2.06-.94-.94-2.06-.94 2.06-2.06.94zm-11 1L8.5 8.5l.94-2.06 2.06-.94-2.06-.94L8.5 2.5l-.94 2.06-2.06.94zm10 10l.94 2.06.94-2.06 2.06-.94-2.06-.94-.94-2.06-.94 2.06-2.06.94z\"/><path d=\"M17.41 7.96l-1.37-1.37c-.4-.4-.92-.59-1.43-.59-.52 0-1.04.2-1.43.59L10.3 9.45l-7.72 7.72c-.78.78-.78 2.05 0 2.83L4 21.41c.39.39.9.59 1.41.59.51 0 1.02-.2 1.41-.59l7.78-7.78 2.81-2.81c.8-.78.8-2.07 0-2.86zM5.41 20L4 18.59l7.72-7.72 1.47 1.35L5.41 20z\"/>\n",
              "  </svg>\n",
              "      </button>\n",
              "      \n",
              "  <style>\n",
              "    .colab-df-container {\n",
              "      display:flex;\n",
              "      flex-wrap:wrap;\n",
              "      gap: 12px;\n",
              "    }\n",
              "\n",
              "    .colab-df-convert {\n",
              "      background-color: #E8F0FE;\n",
              "      border: none;\n",
              "      border-radius: 50%;\n",
              "      cursor: pointer;\n",
              "      display: none;\n",
              "      fill: #1967D2;\n",
              "      height: 32px;\n",
              "      padding: 0 0 0 0;\n",
              "      width: 32px;\n",
              "    }\n",
              "\n",
              "    .colab-df-convert:hover {\n",
              "      background-color: #E2EBFA;\n",
              "      box-shadow: 0px 1px 2px rgba(60, 64, 67, 0.3), 0px 1px 3px 1px rgba(60, 64, 67, 0.15);\n",
              "      fill: #174EA6;\n",
              "    }\n",
              "\n",
              "    [theme=dark] .colab-df-convert {\n",
              "      background-color: #3B4455;\n",
              "      fill: #D2E3FC;\n",
              "    }\n",
              "\n",
              "    [theme=dark] .colab-df-convert:hover {\n",
              "      background-color: #434B5C;\n",
              "      box-shadow: 0px 1px 3px 1px rgba(0, 0, 0, 0.15);\n",
              "      filter: drop-shadow(0px 1px 2px rgba(0, 0, 0, 0.3));\n",
              "      fill: #FFFFFF;\n",
              "    }\n",
              "  </style>\n",
              "\n",
              "      <script>\n",
              "        const buttonEl =\n",
              "          document.querySelector('#df-d8782ce3-e535-4e87-9495-6010b2825121 button.colab-df-convert');\n",
              "        buttonEl.style.display =\n",
              "          google.colab.kernel.accessAllowed ? 'block' : 'none';\n",
              "\n",
              "        async function convertToInteractive(key) {\n",
              "          const element = document.querySelector('#df-d8782ce3-e535-4e87-9495-6010b2825121');\n",
              "          const dataTable =\n",
              "            await google.colab.kernel.invokeFunction('convertToInteractive',\n",
              "                                                     [key], {});\n",
              "          if (!dataTable) return;\n",
              "\n",
              "          const docLinkHtml = 'Like what you see? Visit the ' +\n",
              "            '<a target=\"_blank\" href=https://colab.research.google.com/notebooks/data_table.ipynb>data table notebook</a>'\n",
              "            + ' to learn more about interactive tables.';\n",
              "          element.innerHTML = '';\n",
              "          dataTable['output_type'] = 'display_data';\n",
              "          await google.colab.output.renderOutput(dataTable, element);\n",
              "          const docLink = document.createElement('div');\n",
              "          docLink.innerHTML = docLinkHtml;\n",
              "          element.appendChild(docLink);\n",
              "        }\n",
              "      </script>\n",
              "    </div>\n",
              "  </div>\n",
              "  "
            ],
            "text/plain": [
              "             AT        AP        AH  ...       CDP        CO       NOX\n",
              "0     -1.439778 -0.826644  1.281436  ... -1.357331  0.532012  1.387845\n",
              "1     -1.449601 -0.748647  1.304564  ... -1.363676  0.568733  1.393002\n",
              "2     -1.434721 -0.686250  1.219086  ... -1.360957  0.552938  1.363586\n",
              "3     -1.413702 -0.623853  1.169060  ... -1.356424  0.548933  1.382878\n",
              "4     -1.368693 -0.545857  1.161883  ... -1.350985  0.574179  1.348591\n",
              "...         ...       ...       ...  ...       ...       ...       ...\n",
              "15034 -1.153182 -1.185428  1.401860  ... -1.543161  1.145792  1.085751\n",
              "15035 -1.303986 -1.138630  1.447753  ... -1.513247  1.293578  1.119943\n",
              "15036 -1.386267 -1.076233  1.476971  ... -1.467922  2.695925  2.170062\n",
              "15037 -1.420423 -0.998236  1.441590  ... -1.422598  1.924683  2.391165\n",
              "15038 -1.430734 -0.935839  1.334652  ... -1.377273  1.354150  2.321539\n",
              "\n",
              "[15039 rows x 10 columns]"
            ]
          },
          "execution_count": 17,
          "metadata": {},
          "output_type": "execute_result"
        }
      ],
      "source": [
        "X"
      ]
    },
    {
      "cell_type": "code",
      "execution_count": null,
      "metadata": {
        "colab": {
          "base_uri": "https://localhost:8080/"
        },
        "id": "dRbA84vhO9jo",
        "outputId": "66b224d1-327e-475a-9a42-7c7ab674991f"
      },
      "outputs": [
        {
          "data": {
            "text/plain": [
              "0       -1.231172\n",
              "1       -1.229909\n",
              "2       -1.230541\n",
              "3       -1.229909\n",
              "4       -1.229909\n",
              "           ...   \n",
              "15034   -1.426381\n",
              "15035   -1.415642\n",
              "15036   -1.516089\n",
              "15037   -1.481343\n",
              "15038   -1.428277\n",
              "Name: TEY, Length: 15039, dtype: float64"
            ]
          },
          "execution_count": 18,
          "metadata": {},
          "output_type": "execute_result"
        }
      ],
      "source": [
        "y"
      ]
    },
    {
      "cell_type": "code",
      "execution_count": null,
      "metadata": {
        "id": "Ji3tKd_yOVgy"
      },
      "outputs": [],
      "source": [
        "# Importing the necessary packages\n",
        "from sklearn.model_selection import GridSearchCV, KFold\n",
        "from keras.models import Sequential\n",
        "from keras.layers import Dense\n",
        "from keras.wrappers.scikit_learn import KerasClassifier\n",
        "#from keras.optimizers import Adam\n",
        "from tensorflow.keras.optimizers import Adam, SGD, RMSprop"
      ]
    },
    {
      "cell_type": "code",
      "execution_count": null,
      "metadata": {
        "colab": {
          "base_uri": "https://localhost:8080/"
        },
        "id": "Wm39NtanSXiu",
        "outputId": "831340b9-9cf2-403f-bfd6-c59ce1c0ab7a"
      },
      "outputs": [
        {
          "data": {
            "text/plain": [
              "10"
            ]
          },
          "execution_count": 20,
          "metadata": {},
          "output_type": "execute_result"
        }
      ],
      "source": [
        "n_features =X.shape[1]\n",
        "n_features"
      ]
    },
    {
      "cell_type": "code",
      "execution_count": null,
      "metadata": {
        "id": "56ToRm87Pgrm"
      },
      "outputs": [],
      "source": [
        "# create model\n",
        "def create_model():\n",
        "    model = Sequential()\n",
        "    model.add(Dense(12, input_dim=n_features, kernel_initializer='uniform', activation='relu'))\n",
        "    model.add(Dense(8, kernel_initializer='uniform', activation='relu'))\n",
        "    model.add(Dense(1, kernel_initializer='uniform', activation='sigmoid'))\n",
        "    #here we take loss func as means_squared_error coz its regression classifier\n",
        "    optmizer =RMSprop(0.03)#Learning_rate is 0.03\n",
        "    model.compile(loss='mean_squared_error', optimizer=optmizer, metrics=['accuracy'])\n",
        "    return model"
      ]
    },
    {
      "cell_type": "code",
      "execution_count": null,
      "metadata": {
        "colab": {
          "base_uri": "https://localhost:8080/"
        },
        "id": "hGjMfocVNjLd",
        "outputId": "7e21119d-14f4-4107-f647-77290467dded"
      },
      "outputs": [
        {
          "name": "stderr",
          "output_type": "stream",
          "text": [
            "/usr/local/lib/python3.7/dist-packages/ipykernel_launcher.py:2: DeprecationWarning: KerasClassifier is deprecated, use Sci-Keras (https://github.com/adriangb/scikeras) instead.\n",
            "  \n"
          ]
        },
        {
          "name": "stdout",
          "output_type": "stream",
          "text": [
            "Fitting 5 folds for each of 9 candidates, totalling 45 fits\n",
            "[CV 1/5; 1/9] START batch_size=10, epochs=10....................................\n",
            "[CV 1/5; 1/9] END .....batch_size=10, epochs=10;, score=0.000 total time=  15.2s\n",
            "[CV 2/5; 1/9] START batch_size=10, epochs=10....................................\n",
            "[CV 2/5; 1/9] END .....batch_size=10, epochs=10;, score=0.000 total time=  21.5s\n",
            "[CV 3/5; 1/9] START batch_size=10, epochs=10....................................\n",
            "[CV 3/5; 1/9] END .....batch_size=10, epochs=10;, score=0.000 total time=  21.6s\n",
            "[CV 4/5; 1/9] START batch_size=10, epochs=10....................................\n",
            "[CV 4/5; 1/9] END .....batch_size=10, epochs=10;, score=0.000 total time=  22.1s\n",
            "[CV 5/5; 1/9] START batch_size=10, epochs=10....................................\n",
            "[CV 5/5; 1/9] END .....batch_size=10, epochs=10;, score=0.000 total time=  21.6s\n",
            "[CV 1/5; 2/9] START batch_size=10, epochs=50....................................\n",
            "[CV 1/5; 2/9] END .....batch_size=10, epochs=50;, score=0.000 total time= 1.4min\n",
            "[CV 2/5; 2/9] START batch_size=10, epochs=50....................................\n",
            "[CV 2/5; 2/9] END .....batch_size=10, epochs=50;, score=0.000 total time= 1.4min\n",
            "[CV 3/5; 2/9] START batch_size=10, epochs=50....................................\n",
            "[CV 3/5; 2/9] END .....batch_size=10, epochs=50;, score=0.000 total time= 1.2min\n",
            "[CV 4/5; 2/9] START batch_size=10, epochs=50....................................\n",
            "[CV 4/5; 2/9] END .....batch_size=10, epochs=50;, score=0.000 total time= 1.4min\n",
            "[CV 5/5; 2/9] START batch_size=10, epochs=50....................................\n",
            "[CV 5/5; 2/9] END .....batch_size=10, epochs=50;, score=0.000 total time= 1.4min\n",
            "[CV 1/5; 3/9] START batch_size=10, epochs=100...................................\n",
            "[CV 1/5; 3/9] END ....batch_size=10, epochs=100;, score=0.000 total time= 3.4min\n",
            "[CV 2/5; 3/9] START batch_size=10, epochs=100...................................\n",
            "[CV 2/5; 3/9] END ....batch_size=10, epochs=100;, score=0.000 total time= 2.3min\n",
            "[CV 3/5; 3/9] START batch_size=10, epochs=100...................................\n",
            "[CV 3/5; 3/9] END ....batch_size=10, epochs=100;, score=0.000 total time= 2.4min\n",
            "[CV 4/5; 3/9] START batch_size=10, epochs=100...................................\n",
            "[CV 4/5; 3/9] END ....batch_size=10, epochs=100;, score=0.000 total time= 2.4min\n",
            "[CV 5/5; 3/9] START batch_size=10, epochs=100...................................\n",
            "[CV 5/5; 3/9] END ....batch_size=10, epochs=100;, score=0.000 total time= 2.3min\n",
            "[CV 1/5; 4/9] START batch_size=20, epochs=10....................................\n",
            "[CV 1/5; 4/9] END .....batch_size=20, epochs=10;, score=0.000 total time=  11.1s\n",
            "[CV 2/5; 4/9] START batch_size=20, epochs=10....................................\n",
            "[CV 2/5; 4/9] END .....batch_size=20, epochs=10;, score=0.000 total time=   8.1s\n",
            "[CV 3/5; 4/9] START batch_size=20, epochs=10....................................\n",
            "[CV 3/5; 4/9] END .....batch_size=20, epochs=10;, score=0.000 total time=   7.9s\n",
            "[CV 4/5; 4/9] START batch_size=20, epochs=10....................................\n",
            "[CV 4/5; 4/9] END .....batch_size=20, epochs=10;, score=0.000 total time=   8.0s\n",
            "[CV 5/5; 4/9] START batch_size=20, epochs=10....................................\n",
            "[CV 5/5; 4/9] END .....batch_size=20, epochs=10;, score=0.000 total time=   7.9s\n",
            "[CV 1/5; 5/9] START batch_size=20, epochs=50....................................\n",
            "[CV 1/5; 5/9] END .....batch_size=20, epochs=50;, score=0.000 total time=  41.8s\n",
            "[CV 2/5; 5/9] START batch_size=20, epochs=50....................................\n",
            "[CV 2/5; 5/9] END .....batch_size=20, epochs=50;, score=0.000 total time=  41.9s\n",
            "[CV 3/5; 5/9] START batch_size=20, epochs=50....................................\n",
            "[CV 3/5; 5/9] END .....batch_size=20, epochs=50;, score=0.000 total time=  36.1s\n",
            "[CV 4/5; 5/9] START batch_size=20, epochs=50....................................\n",
            "[CV 4/5; 5/9] END .....batch_size=20, epochs=50;, score=0.000 total time=  36.3s\n",
            "[CV 5/5; 5/9] START batch_size=20, epochs=50....................................\n",
            "[CV 5/5; 5/9] END .....batch_size=20, epochs=50;, score=0.000 total time=  35.6s\n",
            "[CV 1/5; 6/9] START batch_size=20, epochs=100...................................\n",
            "[CV 1/5; 6/9] END ....batch_size=20, epochs=100;, score=0.000 total time= 1.4min\n",
            "[CV 2/5; 6/9] START batch_size=20, epochs=100...................................\n",
            "[CV 2/5; 6/9] END ....batch_size=20, epochs=100;, score=0.000 total time= 1.4min\n",
            "[CV 3/5; 6/9] START batch_size=20, epochs=100...................................\n",
            "[CV 3/5; 6/9] END ....batch_size=20, epochs=100;, score=0.000 total time= 1.4min\n",
            "[CV 4/5; 6/9] START batch_size=20, epochs=100...................................\n",
            "[CV 4/5; 6/9] END ....batch_size=20, epochs=100;, score=0.000 total time= 1.2min\n",
            "[CV 5/5; 6/9] START batch_size=20, epochs=100...................................\n",
            "[CV 5/5; 6/9] END ....batch_size=20, epochs=100;, score=0.000 total time= 1.4min\n",
            "[CV 1/5; 7/9] START batch_size=40, epochs=10....................................\n",
            "[CV 1/5; 7/9] END .....batch_size=40, epochs=10;, score=0.000 total time=   4.4s\n",
            "[CV 2/5; 7/9] START batch_size=40, epochs=10....................................\n",
            "[CV 2/5; 7/9] END .....batch_size=40, epochs=10;, score=0.000 total time=   4.4s\n",
            "[CV 3/5; 7/9] START batch_size=40, epochs=10....................................\n",
            "[CV 3/5; 7/9] END .....batch_size=40, epochs=10;, score=0.000 total time=   4.5s\n",
            "[CV 4/5; 7/9] START batch_size=40, epochs=10....................................\n",
            "[CV 4/5; 7/9] END .....batch_size=40, epochs=10;, score=0.000 total time=   4.9s\n",
            "[CV 5/5; 7/9] START batch_size=40, epochs=10....................................\n",
            "[CV 5/5; 7/9] END .....batch_size=40, epochs=10;, score=0.000 total time=   6.0s\n",
            "[CV 1/5; 8/9] START batch_size=40, epochs=50....................................\n",
            "[CV 1/5; 8/9] END .....batch_size=40, epochs=50;, score=0.000 total time=  18.9s\n",
            "[CV 2/5; 8/9] START batch_size=40, epochs=50....................................\n",
            "[CV 2/5; 8/9] END .....batch_size=40, epochs=50;, score=0.000 total time=  19.0s\n",
            "[CV 3/5; 8/9] START batch_size=40, epochs=50....................................\n",
            "[CV 3/5; 8/9] END .....batch_size=40, epochs=50;, score=0.000 total time=  18.9s\n",
            "[CV 4/5; 8/9] START batch_size=40, epochs=50....................................\n",
            "[CV 4/5; 8/9] END .....batch_size=40, epochs=50;, score=0.000 total time=  21.3s\n",
            "[CV 5/5; 8/9] START batch_size=40, epochs=50....................................\n",
            "[CV 5/5; 8/9] END .....batch_size=40, epochs=50;, score=0.000 total time=  18.6s\n",
            "[CV 1/5; 9/9] START batch_size=40, epochs=100...................................\n",
            "[CV 1/5; 9/9] END ....batch_size=40, epochs=100;, score=0.000 total time=  35.7s\n",
            "[CV 2/5; 9/9] START batch_size=40, epochs=100...................................\n",
            "[CV 2/5; 9/9] END ....batch_size=40, epochs=100;, score=0.000 total time=  41.8s\n",
            "[CV 3/5; 9/9] START batch_size=40, epochs=100...................................\n",
            "[CV 3/5; 9/9] END ....batch_size=40, epochs=100;, score=0.000 total time=  35.4s\n",
            "[CV 4/5; 9/9] START batch_size=40, epochs=100...................................\n",
            "[CV 4/5; 9/9] END ....batch_size=40, epochs=100;, score=0.000 total time=  42.2s\n",
            "[CV 5/5; 9/9] START batch_size=40, epochs=100...................................\n",
            "[CV 5/5; 9/9] END ....batch_size=40, epochs=100;, score=0.000 total time=  35.4s\n"
          ]
        }
      ],
      "source": [
        "# Create the model\n",
        "model = KerasClassifier(build_fn = create_model,verbose = 0)\n",
        "# Define the grid search parameters\n",
        "batch_size = [10,20,40]\n",
        "epochs = [10,50,100]\n",
        "# Make a dictionary of the grid search parameters\n",
        "param_grid = dict(batch_size = batch_size,epochs = epochs)\n",
        "# Build and fit the GridSearchCV\n",
        "grid = GridSearchCV(estimator = model,param_grid = param_grid,cv = KFold(),verbose = 10)\n",
        "grid_result = grid.fit(X,y)"
      ]
    },
    {
      "cell_type": "code",
      "execution_count": null,
      "metadata": {
        "colab": {
          "base_uri": "https://localhost:8080/"
        },
        "id": "1dKJDwdLQqSL",
        "outputId": "28440223-717c-431e-b392-03abe75314b4"
      },
      "outputs": [
        {
          "name": "stdout",
          "output_type": "stream",
          "text": [
            "Best : 0.0, using {'batch_size': 10, 'epochs': 10}\n",
            "0.0,0.0 with: {'batch_size': 10, 'epochs': 10}\n",
            "0.0,0.0 with: {'batch_size': 10, 'epochs': 50}\n",
            "0.0,0.0 with: {'batch_size': 10, 'epochs': 100}\n",
            "0.0,0.0 with: {'batch_size': 20, 'epochs': 10}\n",
            "0.0,0.0 with: {'batch_size': 20, 'epochs': 50}\n",
            "0.0,0.0 with: {'batch_size': 20, 'epochs': 100}\n",
            "0.0,0.0 with: {'batch_size': 40, 'epochs': 10}\n",
            "0.0,0.0 with: {'batch_size': 40, 'epochs': 50}\n",
            "0.0,0.0 with: {'batch_size': 40, 'epochs': 100}\n"
          ]
        }
      ],
      "source": [
        "# Summarize the results\n",
        "print('Best : {}, using {}'.format(grid_result.best_score_,grid_result.best_params_))\n",
        "means = grid_result.cv_results_['mean_test_score']\n",
        "stds = grid_result.cv_results_['std_test_score']\n",
        "params = grid_result.cv_results_['params']\n",
        "for mean, stdev, param in zip(means, stds, params):\n",
        "    print('{},{} with: {}'.format(mean, stdev, param))"
      ]
    },
    {
      "cell_type": "code",
      "execution_count": null,
      "metadata": {
        "id": "Ly-mhoZiwtGi"
      },
      "outputs": [],
      "source": [
        "#so we get best batch size as 10 and best epoch as 10"
      ]
    },
    {
      "cell_type": "code",
      "execution_count": null,
      "metadata": {
        "id": "HR6u4Lh-xpli"
      },
      "outputs": [],
      "source": [
        "from keras.layers import Dropout\n",
        "\n",
        "# Defining the model\n",
        "\n",
        "def create_model(learning_rate,dropout_rate):\n",
        "    model = Sequential()\n",
        "    model.add(Dense(8,input_dim = n_features,kernel_initializer = 'normal',activation = 'relu'))\n",
        "    model.add(Dropout(dropout_rate))\n",
        "    model.add(Dense(4,input_dim = n_features,kernel_initializer = 'normal',activation = 'relu'))\n",
        "    model.add(Dropout(dropout_rate))\n",
        "    model.add(Dense(1,activation = 'sigmoid'))\n",
        "    \n",
        "    adam = Adam(lr = learning_rate)\n",
        "    model.compile(loss='mean_squared_error',optimizer = adam,metrics = ['accuracy'])\n",
        "    return model\n"
      ]
    },
    {
      "cell_type": "code",
      "execution_count": null,
      "metadata": {
        "colab": {
          "base_uri": "https://localhost:8080/"
        },
        "id": "vprsQHL-ycEr",
        "outputId": "39bda889-da2f-44e9-e5f5-92a82014b174"
      },
      "outputs": [
        {
          "name": "stderr",
          "output_type": "stream",
          "text": [
            "/usr/local/lib/python3.7/dist-packages/ipykernel_launcher.py:3: DeprecationWarning: KerasClassifier is deprecated, use Sci-Keras (https://github.com/adriangb/scikeras) instead.\n",
            "  This is separate from the ipykernel package so we can avoid doing imports until\n",
            "/usr/local/lib/python3.7/dist-packages/keras/optimizer_v2/adam.py:105: UserWarning: The `lr` argument is deprecated, use `learning_rate` instead.\n",
            "  super(Adam, self).__init__(name, **kwargs)\n"
          ]
        },
        {
          "name": "stdout",
          "output_type": "stream",
          "text": [
            "Fitting 5 folds for each of 9 candidates, totalling 45 fits\n",
            "[CV 1/5; 1/9] START dropout_rate=0.0, learning_rate=0.001.......................\n",
            "[CV 1/5; 1/9] END dropout_rate=0.0, learning_rate=0.001;, score=0.000 total time=  14.1s\n",
            "[CV 2/5; 1/9] START dropout_rate=0.0, learning_rate=0.001.......................\n"
          ]
        },
        {
          "name": "stderr",
          "output_type": "stream",
          "text": [
            "/usr/local/lib/python3.7/dist-packages/keras/optimizer_v2/adam.py:105: UserWarning: The `lr` argument is deprecated, use `learning_rate` instead.\n",
            "  super(Adam, self).__init__(name, **kwargs)\n"
          ]
        },
        {
          "name": "stdout",
          "output_type": "stream",
          "text": [
            "[CV 2/5; 1/9] END dropout_rate=0.0, learning_rate=0.001;, score=0.000 total time=  21.5s\n",
            "[CV 3/5; 1/9] START dropout_rate=0.0, learning_rate=0.001.......................\n"
          ]
        },
        {
          "name": "stderr",
          "output_type": "stream",
          "text": [
            "/usr/local/lib/python3.7/dist-packages/keras/optimizer_v2/adam.py:105: UserWarning: The `lr` argument is deprecated, use `learning_rate` instead.\n",
            "  super(Adam, self).__init__(name, **kwargs)\n"
          ]
        },
        {
          "name": "stdout",
          "output_type": "stream",
          "text": [
            "[CV 3/5; 1/9] END dropout_rate=0.0, learning_rate=0.001;, score=0.000 total time=  14.1s\n",
            "[CV 4/5; 1/9] START dropout_rate=0.0, learning_rate=0.001.......................\n"
          ]
        },
        {
          "name": "stderr",
          "output_type": "stream",
          "text": [
            "/usr/local/lib/python3.7/dist-packages/keras/optimizer_v2/adam.py:105: UserWarning: The `lr` argument is deprecated, use `learning_rate` instead.\n",
            "  super(Adam, self).__init__(name, **kwargs)\n"
          ]
        },
        {
          "name": "stdout",
          "output_type": "stream",
          "text": [
            "[CV 4/5; 1/9] END dropout_rate=0.0, learning_rate=0.001;, score=0.000 total time=  21.4s\n",
            "[CV 5/5; 1/9] START dropout_rate=0.0, learning_rate=0.001.......................\n"
          ]
        },
        {
          "name": "stderr",
          "output_type": "stream",
          "text": [
            "/usr/local/lib/python3.7/dist-packages/keras/optimizer_v2/adam.py:105: UserWarning: The `lr` argument is deprecated, use `learning_rate` instead.\n",
            "  super(Adam, self).__init__(name, **kwargs)\n"
          ]
        },
        {
          "name": "stdout",
          "output_type": "stream",
          "text": [
            "[CV 5/5; 1/9] END dropout_rate=0.0, learning_rate=0.001;, score=0.000 total time=  21.4s\n",
            "[CV 1/5; 2/9] START dropout_rate=0.0, learning_rate=0.01........................\n"
          ]
        },
        {
          "name": "stderr",
          "output_type": "stream",
          "text": [
            "/usr/local/lib/python3.7/dist-packages/keras/optimizer_v2/adam.py:105: UserWarning: The `lr` argument is deprecated, use `learning_rate` instead.\n",
            "  super(Adam, self).__init__(name, **kwargs)\n"
          ]
        },
        {
          "name": "stdout",
          "output_type": "stream",
          "text": [
            "[CV 1/5; 2/9] END dropout_rate=0.0, learning_rate=0.01;, score=0.000 total time=  13.9s\n",
            "[CV 2/5; 2/9] START dropout_rate=0.0, learning_rate=0.01........................\n"
          ]
        },
        {
          "name": "stderr",
          "output_type": "stream",
          "text": [
            "/usr/local/lib/python3.7/dist-packages/keras/optimizer_v2/adam.py:105: UserWarning: The `lr` argument is deprecated, use `learning_rate` instead.\n",
            "  super(Adam, self).__init__(name, **kwargs)\n"
          ]
        },
        {
          "name": "stdout",
          "output_type": "stream",
          "text": [
            "[CV 2/5; 2/9] END dropout_rate=0.0, learning_rate=0.01;, score=0.000 total time=  14.0s\n",
            "[CV 3/5; 2/9] START dropout_rate=0.0, learning_rate=0.01........................\n"
          ]
        },
        {
          "name": "stderr",
          "output_type": "stream",
          "text": [
            "/usr/local/lib/python3.7/dist-packages/keras/optimizer_v2/adam.py:105: UserWarning: The `lr` argument is deprecated, use `learning_rate` instead.\n",
            "  super(Adam, self).__init__(name, **kwargs)\n"
          ]
        },
        {
          "name": "stdout",
          "output_type": "stream",
          "text": [
            "[CV 3/5; 2/9] END dropout_rate=0.0, learning_rate=0.01;, score=0.000 total time=  21.4s\n",
            "[CV 4/5; 2/9] START dropout_rate=0.0, learning_rate=0.01........................\n"
          ]
        },
        {
          "name": "stderr",
          "output_type": "stream",
          "text": [
            "/usr/local/lib/python3.7/dist-packages/keras/optimizer_v2/adam.py:105: UserWarning: The `lr` argument is deprecated, use `learning_rate` instead.\n",
            "  super(Adam, self).__init__(name, **kwargs)\n"
          ]
        },
        {
          "name": "stdout",
          "output_type": "stream",
          "text": [
            "[CV 4/5; 2/9] END dropout_rate=0.0, learning_rate=0.01;, score=0.000 total time=  21.7s\n",
            "[CV 5/5; 2/9] START dropout_rate=0.0, learning_rate=0.01........................\n"
          ]
        },
        {
          "name": "stderr",
          "output_type": "stream",
          "text": [
            "/usr/local/lib/python3.7/dist-packages/keras/optimizer_v2/adam.py:105: UserWarning: The `lr` argument is deprecated, use `learning_rate` instead.\n",
            "  super(Adam, self).__init__(name, **kwargs)\n"
          ]
        },
        {
          "name": "stdout",
          "output_type": "stream",
          "text": [
            "[CV 5/5; 2/9] END dropout_rate=0.0, learning_rate=0.01;, score=0.000 total time=  21.4s\n",
            "[CV 1/5; 3/9] START dropout_rate=0.0, learning_rate=0.1.........................\n"
          ]
        },
        {
          "name": "stderr",
          "output_type": "stream",
          "text": [
            "/usr/local/lib/python3.7/dist-packages/keras/optimizer_v2/adam.py:105: UserWarning: The `lr` argument is deprecated, use `learning_rate` instead.\n",
            "  super(Adam, self).__init__(name, **kwargs)\n"
          ]
        },
        {
          "name": "stdout",
          "output_type": "stream",
          "text": [
            "[CV 1/5; 3/9] END dropout_rate=0.0, learning_rate=0.1;, score=0.000 total time=  21.4s\n",
            "[CV 2/5; 3/9] START dropout_rate=0.0, learning_rate=0.1.........................\n"
          ]
        },
        {
          "name": "stderr",
          "output_type": "stream",
          "text": [
            "/usr/local/lib/python3.7/dist-packages/keras/optimizer_v2/adam.py:105: UserWarning: The `lr` argument is deprecated, use `learning_rate` instead.\n",
            "  super(Adam, self).__init__(name, **kwargs)\n"
          ]
        },
        {
          "name": "stdout",
          "output_type": "stream",
          "text": [
            "[CV 2/5; 3/9] END dropout_rate=0.0, learning_rate=0.1;, score=0.000 total time=  21.4s\n",
            "[CV 3/5; 3/9] START dropout_rate=0.0, learning_rate=0.1.........................\n"
          ]
        },
        {
          "name": "stderr",
          "output_type": "stream",
          "text": [
            "/usr/local/lib/python3.7/dist-packages/keras/optimizer_v2/adam.py:105: UserWarning: The `lr` argument is deprecated, use `learning_rate` instead.\n",
            "  super(Adam, self).__init__(name, **kwargs)\n"
          ]
        },
        {
          "name": "stdout",
          "output_type": "stream",
          "text": [
            "[CV 3/5; 3/9] END dropout_rate=0.0, learning_rate=0.1;, score=0.000 total time=  21.4s\n",
            "[CV 4/5; 3/9] START dropout_rate=0.0, learning_rate=0.1.........................\n"
          ]
        },
        {
          "name": "stderr",
          "output_type": "stream",
          "text": [
            "/usr/local/lib/python3.7/dist-packages/keras/optimizer_v2/adam.py:105: UserWarning: The `lr` argument is deprecated, use `learning_rate` instead.\n",
            "  super(Adam, self).__init__(name, **kwargs)\n"
          ]
        },
        {
          "name": "stdout",
          "output_type": "stream",
          "text": [
            "[CV 4/5; 3/9] END dropout_rate=0.0, learning_rate=0.1;, score=0.000 total time=  14.1s\n",
            "[CV 5/5; 3/9] START dropout_rate=0.0, learning_rate=0.1.........................\n"
          ]
        },
        {
          "name": "stderr",
          "output_type": "stream",
          "text": [
            "/usr/local/lib/python3.7/dist-packages/keras/optimizer_v2/adam.py:105: UserWarning: The `lr` argument is deprecated, use `learning_rate` instead.\n",
            "  super(Adam, self).__init__(name, **kwargs)\n"
          ]
        },
        {
          "name": "stdout",
          "output_type": "stream",
          "text": [
            "[CV 5/5; 3/9] END dropout_rate=0.0, learning_rate=0.1;, score=0.000 total time=  21.4s\n",
            "[CV 1/5; 4/9] START dropout_rate=0.1, learning_rate=0.001.......................\n"
          ]
        },
        {
          "name": "stderr",
          "output_type": "stream",
          "text": [
            "/usr/local/lib/python3.7/dist-packages/keras/optimizer_v2/adam.py:105: UserWarning: The `lr` argument is deprecated, use `learning_rate` instead.\n",
            "  super(Adam, self).__init__(name, **kwargs)\n"
          ]
        },
        {
          "name": "stdout",
          "output_type": "stream",
          "text": [
            "[CV 1/5; 4/9] END dropout_rate=0.1, learning_rate=0.001;, score=0.000 total time=  21.5s\n",
            "[CV 2/5; 4/9] START dropout_rate=0.1, learning_rate=0.001.......................\n"
          ]
        },
        {
          "name": "stderr",
          "output_type": "stream",
          "text": [
            "/usr/local/lib/python3.7/dist-packages/keras/optimizer_v2/adam.py:105: UserWarning: The `lr` argument is deprecated, use `learning_rate` instead.\n",
            "  super(Adam, self).__init__(name, **kwargs)\n"
          ]
        },
        {
          "name": "stdout",
          "output_type": "stream",
          "text": [
            "[CV 2/5; 4/9] END dropout_rate=0.1, learning_rate=0.001;, score=0.000 total time=  14.1s\n",
            "[CV 3/5; 4/9] START dropout_rate=0.1, learning_rate=0.001.......................\n"
          ]
        },
        {
          "name": "stderr",
          "output_type": "stream",
          "text": [
            "/usr/local/lib/python3.7/dist-packages/keras/optimizer_v2/adam.py:105: UserWarning: The `lr` argument is deprecated, use `learning_rate` instead.\n",
            "  super(Adam, self).__init__(name, **kwargs)\n"
          ]
        },
        {
          "name": "stdout",
          "output_type": "stream",
          "text": [
            "[CV 3/5; 4/9] END dropout_rate=0.1, learning_rate=0.001;, score=0.000 total time=  21.4s\n",
            "[CV 4/5; 4/9] START dropout_rate=0.1, learning_rate=0.001.......................\n"
          ]
        },
        {
          "name": "stderr",
          "output_type": "stream",
          "text": [
            "/usr/local/lib/python3.7/dist-packages/keras/optimizer_v2/adam.py:105: UserWarning: The `lr` argument is deprecated, use `learning_rate` instead.\n",
            "  super(Adam, self).__init__(name, **kwargs)\n"
          ]
        },
        {
          "name": "stdout",
          "output_type": "stream",
          "text": [
            "[CV 4/5; 4/9] END dropout_rate=0.1, learning_rate=0.001;, score=0.000 total time=  21.4s\n",
            "[CV 5/5; 4/9] START dropout_rate=0.1, learning_rate=0.001.......................\n"
          ]
        },
        {
          "name": "stderr",
          "output_type": "stream",
          "text": [
            "/usr/local/lib/python3.7/dist-packages/keras/optimizer_v2/adam.py:105: UserWarning: The `lr` argument is deprecated, use `learning_rate` instead.\n",
            "  super(Adam, self).__init__(name, **kwargs)\n"
          ]
        },
        {
          "name": "stdout",
          "output_type": "stream",
          "text": [
            "[CV 5/5; 4/9] END dropout_rate=0.1, learning_rate=0.001;, score=0.000 total time=  14.6s\n",
            "[CV 1/5; 5/9] START dropout_rate=0.1, learning_rate=0.01........................\n"
          ]
        },
        {
          "name": "stderr",
          "output_type": "stream",
          "text": [
            "/usr/local/lib/python3.7/dist-packages/keras/optimizer_v2/adam.py:105: UserWarning: The `lr` argument is deprecated, use `learning_rate` instead.\n",
            "  super(Adam, self).__init__(name, **kwargs)\n"
          ]
        },
        {
          "name": "stdout",
          "output_type": "stream",
          "text": [
            "[CV 1/5; 5/9] END dropout_rate=0.1, learning_rate=0.01;, score=0.000 total time=  14.5s\n",
            "[CV 2/5; 5/9] START dropout_rate=0.1, learning_rate=0.01........................\n"
          ]
        },
        {
          "name": "stderr",
          "output_type": "stream",
          "text": [
            "/usr/local/lib/python3.7/dist-packages/keras/optimizer_v2/adam.py:105: UserWarning: The `lr` argument is deprecated, use `learning_rate` instead.\n",
            "  super(Adam, self).__init__(name, **kwargs)\n"
          ]
        },
        {
          "name": "stdout",
          "output_type": "stream",
          "text": [
            "[CV 2/5; 5/9] END dropout_rate=0.1, learning_rate=0.01;, score=0.000 total time=  14.3s\n",
            "[CV 3/5; 5/9] START dropout_rate=0.1, learning_rate=0.01........................\n"
          ]
        },
        {
          "name": "stderr",
          "output_type": "stream",
          "text": [
            "/usr/local/lib/python3.7/dist-packages/keras/optimizer_v2/adam.py:105: UserWarning: The `lr` argument is deprecated, use `learning_rate` instead.\n",
            "  super(Adam, self).__init__(name, **kwargs)\n"
          ]
        },
        {
          "name": "stdout",
          "output_type": "stream",
          "text": [
            "[CV 3/5; 5/9] END dropout_rate=0.1, learning_rate=0.01;, score=0.000 total time=  21.5s\n",
            "[CV 4/5; 5/9] START dropout_rate=0.1, learning_rate=0.01........................\n"
          ]
        },
        {
          "name": "stderr",
          "output_type": "stream",
          "text": [
            "/usr/local/lib/python3.7/dist-packages/keras/optimizer_v2/adam.py:105: UserWarning: The `lr` argument is deprecated, use `learning_rate` instead.\n",
            "  super(Adam, self).__init__(name, **kwargs)\n"
          ]
        },
        {
          "name": "stdout",
          "output_type": "stream",
          "text": [
            "[CV 4/5; 5/9] END dropout_rate=0.1, learning_rate=0.01;, score=0.000 total time=  21.5s\n",
            "[CV 5/5; 5/9] START dropout_rate=0.1, learning_rate=0.01........................\n"
          ]
        },
        {
          "name": "stderr",
          "output_type": "stream",
          "text": [
            "/usr/local/lib/python3.7/dist-packages/keras/optimizer_v2/adam.py:105: UserWarning: The `lr` argument is deprecated, use `learning_rate` instead.\n",
            "  super(Adam, self).__init__(name, **kwargs)\n"
          ]
        },
        {
          "name": "stdout",
          "output_type": "stream",
          "text": [
            "[CV 5/5; 5/9] END dropout_rate=0.1, learning_rate=0.01;, score=0.000 total time=  21.5s\n",
            "[CV 1/5; 6/9] START dropout_rate=0.1, learning_rate=0.1.........................\n"
          ]
        },
        {
          "name": "stderr",
          "output_type": "stream",
          "text": [
            "/usr/local/lib/python3.7/dist-packages/keras/optimizer_v2/adam.py:105: UserWarning: The `lr` argument is deprecated, use `learning_rate` instead.\n",
            "  super(Adam, self).__init__(name, **kwargs)\n"
          ]
        },
        {
          "name": "stdout",
          "output_type": "stream",
          "text": [
            "[CV 1/5; 6/9] END dropout_rate=0.1, learning_rate=0.1;, score=0.000 total time=  14.2s\n",
            "[CV 2/5; 6/9] START dropout_rate=0.1, learning_rate=0.1.........................\n"
          ]
        },
        {
          "name": "stderr",
          "output_type": "stream",
          "text": [
            "/usr/local/lib/python3.7/dist-packages/keras/optimizer_v2/adam.py:105: UserWarning: The `lr` argument is deprecated, use `learning_rate` instead.\n",
            "  super(Adam, self).__init__(name, **kwargs)\n"
          ]
        },
        {
          "name": "stdout",
          "output_type": "stream",
          "text": [
            "[CV 2/5; 6/9] END dropout_rate=0.1, learning_rate=0.1;, score=0.000 total time=  21.4s\n",
            "[CV 3/5; 6/9] START dropout_rate=0.1, learning_rate=0.1.........................\n"
          ]
        },
        {
          "name": "stderr",
          "output_type": "stream",
          "text": [
            "/usr/local/lib/python3.7/dist-packages/keras/optimizer_v2/adam.py:105: UserWarning: The `lr` argument is deprecated, use `learning_rate` instead.\n",
            "  super(Adam, self).__init__(name, **kwargs)\n"
          ]
        },
        {
          "name": "stdout",
          "output_type": "stream",
          "text": [
            "[CV 3/5; 6/9] END dropout_rate=0.1, learning_rate=0.1;, score=0.000 total time=  14.2s\n",
            "[CV 4/5; 6/9] START dropout_rate=0.1, learning_rate=0.1.........................\n"
          ]
        },
        {
          "name": "stderr",
          "output_type": "stream",
          "text": [
            "/usr/local/lib/python3.7/dist-packages/keras/optimizer_v2/adam.py:105: UserWarning: The `lr` argument is deprecated, use `learning_rate` instead.\n",
            "  super(Adam, self).__init__(name, **kwargs)\n"
          ]
        },
        {
          "name": "stdout",
          "output_type": "stream",
          "text": [
            "[CV 4/5; 6/9] END dropout_rate=0.1, learning_rate=0.1;, score=0.000 total time=  21.5s\n",
            "[CV 5/5; 6/9] START dropout_rate=0.1, learning_rate=0.1.........................\n"
          ]
        },
        {
          "name": "stderr",
          "output_type": "stream",
          "text": [
            "/usr/local/lib/python3.7/dist-packages/keras/optimizer_v2/adam.py:105: UserWarning: The `lr` argument is deprecated, use `learning_rate` instead.\n",
            "  super(Adam, self).__init__(name, **kwargs)\n"
          ]
        },
        {
          "name": "stdout",
          "output_type": "stream",
          "text": [
            "[CV 5/5; 6/9] END dropout_rate=0.1, learning_rate=0.1;, score=0.000 total time=  14.6s\n",
            "[CV 1/5; 7/9] START dropout_rate=0.2, learning_rate=0.001.......................\n"
          ]
        },
        {
          "name": "stderr",
          "output_type": "stream",
          "text": [
            "/usr/local/lib/python3.7/dist-packages/keras/optimizer_v2/adam.py:105: UserWarning: The `lr` argument is deprecated, use `learning_rate` instead.\n",
            "  super(Adam, self).__init__(name, **kwargs)\n"
          ]
        },
        {
          "name": "stdout",
          "output_type": "stream",
          "text": [
            "[CV 1/5; 7/9] END dropout_rate=0.2, learning_rate=0.001;, score=0.000 total time=  14.3s\n",
            "[CV 2/5; 7/9] START dropout_rate=0.2, learning_rate=0.001.......................\n"
          ]
        },
        {
          "name": "stderr",
          "output_type": "stream",
          "text": [
            "/usr/local/lib/python3.7/dist-packages/keras/optimizer_v2/adam.py:105: UserWarning: The `lr` argument is deprecated, use `learning_rate` instead.\n",
            "  super(Adam, self).__init__(name, **kwargs)\n"
          ]
        },
        {
          "name": "stdout",
          "output_type": "stream",
          "text": [
            "[CV 2/5; 7/9] END dropout_rate=0.2, learning_rate=0.001;, score=0.000 total time=  14.4s\n",
            "[CV 3/5; 7/9] START dropout_rate=0.2, learning_rate=0.001.......................\n"
          ]
        },
        {
          "name": "stderr",
          "output_type": "stream",
          "text": [
            "/usr/local/lib/python3.7/dist-packages/keras/optimizer_v2/adam.py:105: UserWarning: The `lr` argument is deprecated, use `learning_rate` instead.\n",
            "  super(Adam, self).__init__(name, **kwargs)\n"
          ]
        },
        {
          "name": "stdout",
          "output_type": "stream",
          "text": [
            "[CV 3/5; 7/9] END dropout_rate=0.2, learning_rate=0.001;, score=0.000 total time=  14.4s\n",
            "[CV 4/5; 7/9] START dropout_rate=0.2, learning_rate=0.001.......................\n"
          ]
        },
        {
          "name": "stderr",
          "output_type": "stream",
          "text": [
            "/usr/local/lib/python3.7/dist-packages/keras/optimizer_v2/adam.py:105: UserWarning: The `lr` argument is deprecated, use `learning_rate` instead.\n",
            "  super(Adam, self).__init__(name, **kwargs)\n"
          ]
        },
        {
          "name": "stdout",
          "output_type": "stream",
          "text": [
            "[CV 4/5; 7/9] END dropout_rate=0.2, learning_rate=0.001;, score=0.000 total time=  21.5s\n",
            "[CV 5/5; 7/9] START dropout_rate=0.2, learning_rate=0.001.......................\n"
          ]
        },
        {
          "name": "stderr",
          "output_type": "stream",
          "text": [
            "/usr/local/lib/python3.7/dist-packages/keras/optimizer_v2/adam.py:105: UserWarning: The `lr` argument is deprecated, use `learning_rate` instead.\n",
            "  super(Adam, self).__init__(name, **kwargs)\n"
          ]
        },
        {
          "name": "stdout",
          "output_type": "stream",
          "text": [
            "[CV 5/5; 7/9] END dropout_rate=0.2, learning_rate=0.001;, score=0.000 total time=  21.5s\n",
            "[CV 1/5; 8/9] START dropout_rate=0.2, learning_rate=0.01........................\n"
          ]
        },
        {
          "name": "stderr",
          "output_type": "stream",
          "text": [
            "/usr/local/lib/python3.7/dist-packages/keras/optimizer_v2/adam.py:105: UserWarning: The `lr` argument is deprecated, use `learning_rate` instead.\n",
            "  super(Adam, self).__init__(name, **kwargs)\n"
          ]
        },
        {
          "name": "stdout",
          "output_type": "stream",
          "text": [
            "[CV 1/5; 8/9] END dropout_rate=0.2, learning_rate=0.01;, score=0.000 total time=  21.5s\n",
            "[CV 2/5; 8/9] START dropout_rate=0.2, learning_rate=0.01........................\n"
          ]
        },
        {
          "name": "stderr",
          "output_type": "stream",
          "text": [
            "/usr/local/lib/python3.7/dist-packages/keras/optimizer_v2/adam.py:105: UserWarning: The `lr` argument is deprecated, use `learning_rate` instead.\n",
            "  super(Adam, self).__init__(name, **kwargs)\n"
          ]
        },
        {
          "name": "stdout",
          "output_type": "stream",
          "text": [
            "[CV 2/5; 8/9] END dropout_rate=0.2, learning_rate=0.01;, score=0.000 total time=  14.5s\n",
            "[CV 3/5; 8/9] START dropout_rate=0.2, learning_rate=0.01........................\n"
          ]
        },
        {
          "name": "stderr",
          "output_type": "stream",
          "text": [
            "/usr/local/lib/python3.7/dist-packages/keras/optimizer_v2/adam.py:105: UserWarning: The `lr` argument is deprecated, use `learning_rate` instead.\n",
            "  super(Adam, self).__init__(name, **kwargs)\n"
          ]
        },
        {
          "name": "stdout",
          "output_type": "stream",
          "text": [
            "[CV 3/5; 8/9] END dropout_rate=0.2, learning_rate=0.01;, score=0.000 total time=  21.5s\n",
            "[CV 4/5; 8/9] START dropout_rate=0.2, learning_rate=0.01........................\n"
          ]
        },
        {
          "name": "stderr",
          "output_type": "stream",
          "text": [
            "/usr/local/lib/python3.7/dist-packages/keras/optimizer_v2/adam.py:105: UserWarning: The `lr` argument is deprecated, use `learning_rate` instead.\n",
            "  super(Adam, self).__init__(name, **kwargs)\n"
          ]
        },
        {
          "name": "stdout",
          "output_type": "stream",
          "text": [
            "[CV 4/5; 8/9] END dropout_rate=0.2, learning_rate=0.01;, score=0.000 total time=  14.4s\n",
            "[CV 5/5; 8/9] START dropout_rate=0.2, learning_rate=0.01........................\n"
          ]
        },
        {
          "name": "stderr",
          "output_type": "stream",
          "text": [
            "/usr/local/lib/python3.7/dist-packages/keras/optimizer_v2/adam.py:105: UserWarning: The `lr` argument is deprecated, use `learning_rate` instead.\n",
            "  super(Adam, self).__init__(name, **kwargs)\n"
          ]
        },
        {
          "name": "stdout",
          "output_type": "stream",
          "text": [
            "[CV 5/5; 8/9] END dropout_rate=0.2, learning_rate=0.01;, score=0.000 total time=  21.5s\n",
            "[CV 1/5; 9/9] START dropout_rate=0.2, learning_rate=0.1.........................\n"
          ]
        },
        {
          "name": "stderr",
          "output_type": "stream",
          "text": [
            "/usr/local/lib/python3.7/dist-packages/keras/optimizer_v2/adam.py:105: UserWarning: The `lr` argument is deprecated, use `learning_rate` instead.\n",
            "  super(Adam, self).__init__(name, **kwargs)\n"
          ]
        },
        {
          "name": "stdout",
          "output_type": "stream",
          "text": [
            "[CV 1/5; 9/9] END dropout_rate=0.2, learning_rate=0.1;, score=0.000 total time=  14.8s\n",
            "[CV 2/5; 9/9] START dropout_rate=0.2, learning_rate=0.1.........................\n"
          ]
        },
        {
          "name": "stderr",
          "output_type": "stream",
          "text": [
            "/usr/local/lib/python3.7/dist-packages/keras/optimizer_v2/adam.py:105: UserWarning: The `lr` argument is deprecated, use `learning_rate` instead.\n",
            "  super(Adam, self).__init__(name, **kwargs)\n"
          ]
        },
        {
          "name": "stdout",
          "output_type": "stream",
          "text": [
            "[CV 2/5; 9/9] END dropout_rate=0.2, learning_rate=0.1;, score=0.000 total time=  21.5s\n",
            "[CV 3/5; 9/9] START dropout_rate=0.2, learning_rate=0.1.........................\n"
          ]
        },
        {
          "name": "stderr",
          "output_type": "stream",
          "text": [
            "/usr/local/lib/python3.7/dist-packages/keras/optimizer_v2/adam.py:105: UserWarning: The `lr` argument is deprecated, use `learning_rate` instead.\n",
            "  super(Adam, self).__init__(name, **kwargs)\n"
          ]
        },
        {
          "name": "stdout",
          "output_type": "stream",
          "text": [
            "[CV 3/5; 9/9] END dropout_rate=0.2, learning_rate=0.1;, score=0.000 total time=  14.3s\n",
            "[CV 4/5; 9/9] START dropout_rate=0.2, learning_rate=0.1.........................\n"
          ]
        },
        {
          "name": "stderr",
          "output_type": "stream",
          "text": [
            "/usr/local/lib/python3.7/dist-packages/keras/optimizer_v2/adam.py:105: UserWarning: The `lr` argument is deprecated, use `learning_rate` instead.\n",
            "  super(Adam, self).__init__(name, **kwargs)\n"
          ]
        },
        {
          "name": "stdout",
          "output_type": "stream",
          "text": [
            "[CV 4/5; 9/9] END dropout_rate=0.2, learning_rate=0.1;, score=0.000 total time=  21.5s\n",
            "[CV 5/5; 9/9] START dropout_rate=0.2, learning_rate=0.1.........................\n"
          ]
        },
        {
          "name": "stderr",
          "output_type": "stream",
          "text": [
            "/usr/local/lib/python3.7/dist-packages/keras/optimizer_v2/adam.py:105: UserWarning: The `lr` argument is deprecated, use `learning_rate` instead.\n",
            "  super(Adam, self).__init__(name, **kwargs)\n"
          ]
        },
        {
          "name": "stdout",
          "output_type": "stream",
          "text": [
            "[CV 5/5; 9/9] END dropout_rate=0.2, learning_rate=0.1;, score=0.000 total time=  14.0s\n"
          ]
        },
        {
          "name": "stderr",
          "output_type": "stream",
          "text": [
            "/usr/local/lib/python3.7/dist-packages/keras/optimizer_v2/adam.py:105: UserWarning: The `lr` argument is deprecated, use `learning_rate` instead.\n",
            "  super(Adam, self).__init__(name, **kwargs)\n"
          ]
        }
      ],
      "source": [
        "# Create the model\n",
        "\n",
        "model = KerasClassifier(build_fn = create_model,verbose = 0,batch_size = 10,epochs = 10)\n",
        "\n",
        "# Define the grid search parameters\n",
        "\n",
        "learning_rate = [0.001,0.01,0.1]\n",
        "dropout_rate = [0.0,0.1,0.2]\n",
        "\n",
        "# Make a dictionary of the grid search parameters\n",
        "\n",
        "param_grids = dict(learning_rate = learning_rate,dropout_rate = dropout_rate)\n",
        "\n",
        "# Build and fit the GridSearchCV\n",
        "\n",
        "grid = GridSearchCV(estimator = model,param_grid = param_grids,cv = KFold(),verbose = 10)\n",
        "grid_result = grid.fit(X,y)"
      ]
    },
    {
      "cell_type": "code",
      "execution_count": null,
      "metadata": {
        "colab": {
          "base_uri": "https://localhost:8080/"
        },
        "id": "_HT6GfTR4AkT",
        "outputId": "a4b936bd-cd4a-47f2-8ada-16892b5b34b8"
      },
      "outputs": [
        {
          "name": "stdout",
          "output_type": "stream",
          "text": [
            "Best : 0.0, using {'dropout_rate': 0.0, 'learning_rate': 0.001}\n",
            "0.0,0.0 with: {'dropout_rate': 0.0, 'learning_rate': 0.001}\n",
            "0.0,0.0 with: {'dropout_rate': 0.0, 'learning_rate': 0.01}\n",
            "0.0,0.0 with: {'dropout_rate': 0.0, 'learning_rate': 0.1}\n",
            "0.0,0.0 with: {'dropout_rate': 0.1, 'learning_rate': 0.001}\n",
            "0.0,0.0 with: {'dropout_rate': 0.1, 'learning_rate': 0.01}\n",
            "0.0,0.0 with: {'dropout_rate': 0.1, 'learning_rate': 0.1}\n",
            "0.0,0.0 with: {'dropout_rate': 0.2, 'learning_rate': 0.001}\n",
            "0.0,0.0 with: {'dropout_rate': 0.2, 'learning_rate': 0.01}\n",
            "0.0,0.0 with: {'dropout_rate': 0.2, 'learning_rate': 0.1}\n"
          ]
        }
      ],
      "source": [
        "# Summarize the results\n",
        "print('Best : {}, using {}'.format(grid_result.best_score_,grid_result.best_params_))\n",
        "means = grid_result.cv_results_['mean_test_score']\n",
        "stds = grid_result.cv_results_['std_test_score']\n",
        "params = grid_result.cv_results_['params']\n",
        "for mean, stdev, param in zip(means, stds, params):\n",
        "    print('{},{} with: {}'.format(mean, stdev, param))"
      ]
    },
    {
      "cell_type": "code",
      "execution_count": null,
      "metadata": {
        "id": "MbwU_HRGQIXw"
      },
      "outputs": [],
      "source": [
        "def create_model(neuron1,neuron2):#to determine the no for hidden layers neuron\n",
        "    model = Sequential()\n",
        "    model.add(Dense(neuron1,input_dim = n_features,kernel_initializer = 'uniform',activation = 'tanh'))\n",
        "    model.add(Dense(neuron2,input_dim = neuron1,kernel_initializer = 'uniform',activation = 'tanh'))\n",
        "    model.add(Dense(1,activation = 'sigmoid'))\n",
        "    \n",
        "    optmizer =RMSprop(0.001)#here,Learning_rate is 0.03\n",
        "    model.compile(loss='binary_crossentropy', optimizer=optmizer, metrics=['accuracy'])\n",
        "    return model"
      ]
    },
    {
      "cell_type": "code",
      "execution_count": null,
      "metadata": {
        "colab": {
          "background_save": true,
          "base_uri": "https://localhost:8080/"
        },
        "id": "eVdKB3U1QbnH",
        "outputId": "99329cef-6169-492d-a443-ffc699ecfb18"
      },
      "outputs": [
        {
          "name": "stdout",
          "output_type": "stream",
          "text": [
            "Fitting 5 folds for each of 56 candidates, totalling 280 fits\n",
            "[CV 1/5; 1/56] START neuron1=4, neuron2=2.......................................\n"
          ]
        },
        {
          "name": "stderr",
          "output_type": "stream",
          "text": [
            "/usr/local/lib/python3.7/dist-packages/ipykernel_launcher.py:3: DeprecationWarning: KerasClassifier is deprecated, use Sci-Keras (https://github.com/adriangb/scikeras) instead.\n",
            "  This is separate from the ipykernel package so we can avoid doing imports until\n"
          ]
        },
        {
          "name": "stdout",
          "output_type": "stream",
          "text": [
            "[CV 1/5; 1/56] END ........neuron1=4, neuron2=2;, score=0.000 total time=  14.9s\n",
            "[CV 2/5; 1/56] START neuron1=4, neuron2=2.......................................\n",
            "[CV 2/5; 1/56] END ........neuron1=4, neuron2=2;, score=0.000 total time=  21.6s\n",
            "[CV 3/5; 1/56] START neuron1=4, neuron2=2.......................................\n",
            "[CV 3/5; 1/56] END ........neuron1=4, neuron2=2;, score=0.000 total time=  14.9s\n",
            "[CV 4/5; 1/56] START neuron1=4, neuron2=2.......................................\n",
            "[CV 4/5; 1/56] END ........neuron1=4, neuron2=2;, score=0.000 total time=  14.9s\n",
            "[CV 5/5; 1/56] START neuron1=4, neuron2=2.......................................\n",
            "[CV 5/5; 1/56] END ........neuron1=4, neuron2=2;, score=0.000 total time=  14.8s\n",
            "[CV 1/5; 2/56] START neuron1=4, neuron2=4.......................................\n",
            "[CV 1/5; 2/56] END ........neuron1=4, neuron2=4;, score=0.000 total time=  15.1s\n",
            "[CV 2/5; 2/56] START neuron1=4, neuron2=4.......................................\n",
            "[CV 2/5; 2/56] END ........neuron1=4, neuron2=4;, score=0.000 total time=  15.0s\n",
            "[CV 3/5; 2/56] START neuron1=4, neuron2=4.......................................\n",
            "[CV 3/5; 2/56] END ........neuron1=4, neuron2=4;, score=0.000 total time=  14.8s\n",
            "[CV 4/5; 2/56] START neuron1=4, neuron2=4.......................................\n",
            "[CV 4/5; 2/56] END ........neuron1=4, neuron2=4;, score=0.000 total time=  21.6s\n",
            "[CV 5/5; 2/56] START neuron1=4, neuron2=4.......................................\n",
            "[CV 5/5; 2/56] END ........neuron1=4, neuron2=4;, score=0.000 total time=  14.6s\n",
            "[CV 1/5; 3/56] START neuron1=4, neuron2=8.......................................\n",
            "[CV 1/5; 3/56] END ........neuron1=4, neuron2=8;, score=0.000 total time=  21.6s\n",
            "[CV 2/5; 3/56] START neuron1=4, neuron2=8.......................................\n",
            "[CV 2/5; 3/56] END ........neuron1=4, neuron2=8;, score=0.000 total time=  21.6s\n",
            "[CV 3/5; 3/56] START neuron1=4, neuron2=8.......................................\n",
            "[CV 3/5; 3/56] END ........neuron1=4, neuron2=8;, score=0.000 total time=  21.6s\n",
            "[CV 4/5; 3/56] START neuron1=4, neuron2=8.......................................\n",
            "[CV 4/5; 3/56] END ........neuron1=4, neuron2=8;, score=0.000 total time=  21.6s\n",
            "[CV 5/5; 3/56] START neuron1=4, neuron2=8.......................................\n",
            "[CV 5/5; 3/56] END ........neuron1=4, neuron2=8;, score=0.000 total time=  22.0s\n",
            "[CV 1/5; 4/56] START neuron1=4, neuron2=20......................................\n",
            "[CV 1/5; 4/56] END .......neuron1=4, neuron2=20;, score=0.000 total time=  21.6s\n",
            "[CV 2/5; 4/56] START neuron1=4, neuron2=20......................................\n",
            "[CV 2/5; 4/56] END .......neuron1=4, neuron2=20;, score=0.000 total time=  15.7s\n",
            "[CV 3/5; 4/56] START neuron1=4, neuron2=20......................................\n",
            "[CV 3/5; 4/56] END .......neuron1=4, neuron2=20;, score=0.000 total time=  15.4s\n",
            "[CV 4/5; 4/56] START neuron1=4, neuron2=20......................................\n",
            "[CV 4/5; 4/56] END .......neuron1=4, neuron2=20;, score=0.000 total time=  15.5s\n",
            "[CV 5/5; 4/56] START neuron1=4, neuron2=20......................................\n",
            "[CV 5/5; 4/56] END .......neuron1=4, neuron2=20;, score=0.000 total time=  21.6s\n",
            "[CV 1/5; 5/56] START neuron1=4, neuron2=30......................................\n",
            "[CV 1/5; 5/56] END .......neuron1=4, neuron2=30;, score=0.000 total time=  15.5s\n",
            "[CV 2/5; 5/56] START neuron1=4, neuron2=30......................................\n",
            "[CV 2/5; 5/56] END .......neuron1=4, neuron2=30;, score=0.000 total time=  21.6s\n",
            "[CV 3/5; 5/56] START neuron1=4, neuron2=30......................................\n",
            "[CV 3/5; 5/56] END .......neuron1=4, neuron2=30;, score=0.000 total time=  15.4s\n",
            "[CV 4/5; 5/56] START neuron1=4, neuron2=30......................................\n",
            "[CV 4/5; 5/56] END .......neuron1=4, neuron2=30;, score=0.000 total time=  21.6s\n",
            "[CV 5/5; 5/56] START neuron1=4, neuron2=30......................................\n",
            "[CV 5/5; 5/56] END .......neuron1=4, neuron2=30;, score=0.000 total time=  15.8s\n",
            "[CV 1/5; 6/56] START neuron1=4, neuron2=40......................................\n",
            "[CV 1/5; 6/56] END .......neuron1=4, neuron2=40;, score=0.000 total time=  21.6s\n",
            "[CV 2/5; 6/56] START neuron1=4, neuron2=40......................................\n",
            "[CV 2/5; 6/56] END .......neuron1=4, neuron2=40;, score=0.000 total time=  21.6s\n",
            "[CV 3/5; 6/56] START neuron1=4, neuron2=40......................................\n",
            "[CV 3/5; 6/56] END .......neuron1=4, neuron2=40;, score=0.000 total time=  21.6s\n",
            "[CV 4/5; 6/56] START neuron1=4, neuron2=40......................................\n",
            "[CV 4/5; 6/56] END .......neuron1=4, neuron2=40;, score=0.000 total time=  21.6s\n",
            "[CV 5/5; 6/56] START neuron1=4, neuron2=40......................................\n",
            "[CV 5/5; 6/56] END .......neuron1=4, neuron2=40;, score=0.000 total time=  15.7s\n",
            "[CV 1/5; 7/56] START neuron1=4, neuron2=50......................................\n",
            "[CV 1/5; 7/56] END .......neuron1=4, neuron2=50;, score=0.000 total time=  15.7s\n",
            "[CV 2/5; 7/56] START neuron1=4, neuron2=50......................................\n",
            "[CV 2/5; 7/56] END .......neuron1=4, neuron2=50;, score=0.000 total time=  15.7s\n",
            "[CV 3/5; 7/56] START neuron1=4, neuron2=50......................................\n",
            "[CV 3/5; 7/56] END .......neuron1=4, neuron2=50;, score=0.000 total time=  15.8s\n",
            "[CV 4/5; 7/56] START neuron1=4, neuron2=50......................................\n",
            "[CV 4/5; 7/56] END .......neuron1=4, neuron2=50;, score=0.000 total time=  22.4s\n",
            "[CV 5/5; 7/56] START neuron1=4, neuron2=50......................................\n",
            "[CV 5/5; 7/56] END .......neuron1=4, neuron2=50;, score=0.000 total time=  15.9s\n",
            "[CV 1/5; 8/56] START neuron1=4, neuron2=60......................................\n",
            "[CV 1/5; 8/56] END .......neuron1=4, neuron2=60;, score=0.000 total time=  21.6s\n",
            "[CV 2/5; 8/56] START neuron1=4, neuron2=60......................................\n",
            "[CV 2/5; 8/56] END .......neuron1=4, neuron2=60;, score=0.000 total time=  22.0s\n",
            "[CV 3/5; 8/56] START neuron1=4, neuron2=60......................................\n",
            "[CV 3/5; 8/56] END .......neuron1=4, neuron2=60;, score=0.000 total time=  21.6s\n",
            "[CV 4/5; 8/56] START neuron1=4, neuron2=60......................................\n",
            "[CV 4/5; 8/56] END .......neuron1=4, neuron2=60;, score=0.000 total time=  15.9s\n",
            "[CV 5/5; 8/56] START neuron1=4, neuron2=60......................................\n",
            "[CV 5/5; 8/56] END .......neuron1=4, neuron2=60;, score=0.000 total time=  21.6s\n",
            "[CV 1/5; 9/56] START neuron1=8, neuron2=2.......................................\n",
            "[CV 1/5; 9/56] END ........neuron1=8, neuron2=2;, score=0.000 total time=  21.6s\n",
            "[CV 2/5; 9/56] START neuron1=8, neuron2=2.......................................\n",
            "[CV 2/5; 9/56] END ........neuron1=8, neuron2=2;, score=0.000 total time=  15.1s\n",
            "[CV 3/5; 9/56] START neuron1=8, neuron2=2.......................................\n",
            "[CV 3/5; 9/56] END ........neuron1=8, neuron2=2;, score=0.000 total time=  21.6s\n",
            "[CV 4/5; 9/56] START neuron1=8, neuron2=2.......................................\n",
            "[CV 4/5; 9/56] END ........neuron1=8, neuron2=2;, score=0.000 total time=  22.0s\n",
            "[CV 5/5; 9/56] START neuron1=8, neuron2=2.......................................\n",
            "[CV 5/5; 9/56] END ........neuron1=8, neuron2=2;, score=0.000 total time=  15.0s\n",
            "[CV 1/5; 10/56] START neuron1=8, neuron2=4......................................\n",
            "[CV 1/5; 10/56] END .......neuron1=8, neuron2=4;, score=0.000 total time=  21.6s\n",
            "[CV 2/5; 10/56] START neuron1=8, neuron2=4......................................\n",
            "[CV 2/5; 10/56] END .......neuron1=8, neuron2=4;, score=0.000 total time=  15.6s\n",
            "[CV 3/5; 10/56] START neuron1=8, neuron2=4......................................\n",
            "[CV 3/5; 10/56] END .......neuron1=8, neuron2=4;, score=0.000 total time=  15.3s\n",
            "[CV 4/5; 10/56] START neuron1=8, neuron2=4......................................\n",
            "[CV 4/5; 10/56] END .......neuron1=8, neuron2=4;, score=0.000 total time=  21.6s\n",
            "[CV 5/5; 10/56] START neuron1=8, neuron2=4......................................\n",
            "[CV 5/5; 10/56] END .......neuron1=8, neuron2=4;, score=0.000 total time=  15.2s\n",
            "[CV 1/5; 11/56] START neuron1=8, neuron2=8......................................\n",
            "[CV 1/5; 11/56] END .......neuron1=8, neuron2=8;, score=0.000 total time=  21.6s\n",
            "[CV 2/5; 11/56] START neuron1=8, neuron2=8......................................\n",
            "[CV 2/5; 11/56] END .......neuron1=8, neuron2=8;, score=0.000 total time=  15.7s\n",
            "[CV 3/5; 11/56] START neuron1=8, neuron2=8......................................\n",
            "[CV 3/5; 11/56] END .......neuron1=8, neuron2=8;, score=0.000 total time=  22.0s\n",
            "[CV 4/5; 11/56] START neuron1=8, neuron2=8......................................\n",
            "[CV 4/5; 11/56] END .......neuron1=8, neuron2=8;, score=0.000 total time=  15.2s\n",
            "[CV 5/5; 11/56] START neuron1=8, neuron2=8......................................\n",
            "[CV 5/5; 11/56] END .......neuron1=8, neuron2=8;, score=0.000 total time=  21.6s\n",
            "[CV 1/5; 12/56] START neuron1=8, neuron2=20.....................................\n",
            "[CV 1/5; 12/56] END ......neuron1=8, neuron2=20;, score=0.000 total time=  15.7s\n",
            "[CV 2/5; 12/56] START neuron1=8, neuron2=20.....................................\n",
            "[CV 2/5; 12/56] END ......neuron1=8, neuron2=20;, score=0.000 total time=  15.6s\n",
            "[CV 3/5; 12/56] START neuron1=8, neuron2=20.....................................\n",
            "[CV 3/5; 12/56] END ......neuron1=8, neuron2=20;, score=0.000 total time=  15.6s\n",
            "[CV 4/5; 12/56] START neuron1=8, neuron2=20.....................................\n",
            "[CV 4/5; 12/56] END ......neuron1=8, neuron2=20;, score=0.000 total time=  21.9s\n",
            "[CV 5/5; 12/56] START neuron1=8, neuron2=20.....................................\n",
            "[CV 5/5; 12/56] END ......neuron1=8, neuron2=20;, score=0.000 total time=  15.8s\n",
            "[CV 1/5; 13/56] START neuron1=8, neuron2=30.....................................\n",
            "[CV 1/5; 13/56] END ......neuron1=8, neuron2=30;, score=0.000 total time=  15.5s\n",
            "[CV 2/5; 13/56] START neuron1=8, neuron2=30.....................................\n",
            "[CV 2/5; 13/56] END ......neuron1=8, neuron2=30;, score=0.000 total time=  21.6s\n",
            "[CV 3/5; 13/56] START neuron1=8, neuron2=30.....................................\n",
            "[CV 3/5; 13/56] END ......neuron1=8, neuron2=30;, score=0.000 total time=  22.0s\n",
            "[CV 4/5; 13/56] START neuron1=8, neuron2=30.....................................\n",
            "[CV 4/5; 13/56] END ......neuron1=8, neuron2=30;, score=0.000 total time=  15.5s\n",
            "[CV 5/5; 13/56] START neuron1=8, neuron2=30.....................................\n",
            "[CV 5/5; 13/56] END ......neuron1=8, neuron2=30;, score=0.000 total time=  15.8s\n",
            "[CV 1/5; 14/56] START neuron1=8, neuron2=40.....................................\n",
            "[CV 1/5; 14/56] END ......neuron1=8, neuron2=40;, score=0.000 total time=  22.0s\n",
            "[CV 2/5; 14/56] START neuron1=8, neuron2=40.....................................\n",
            "[CV 2/5; 14/56] END ......neuron1=8, neuron2=40;, score=0.000 total time=  21.6s\n",
            "[CV 3/5; 14/56] START neuron1=8, neuron2=40.....................................\n",
            "[CV 3/5; 14/56] END ......neuron1=8, neuron2=40;, score=0.000 total time=  16.1s\n",
            "[CV 4/5; 14/56] START neuron1=8, neuron2=40.....................................\n",
            "[CV 4/5; 14/56] END ......neuron1=8, neuron2=40;, score=0.000 total time=  21.6s\n",
            "[CV 5/5; 14/56] START neuron1=8, neuron2=40.....................................\n",
            "[CV 5/5; 14/56] END ......neuron1=8, neuron2=40;, score=0.000 total time=  21.6s\n",
            "[CV 1/5; 15/56] START neuron1=8, neuron2=50.....................................\n",
            "[CV 1/5; 15/56] END ......neuron1=8, neuron2=50;, score=0.000 total time=  16.2s\n",
            "[CV 2/5; 15/56] START neuron1=8, neuron2=50.....................................\n",
            "[CV 2/5; 15/56] END ......neuron1=8, neuron2=50;, score=0.000 total time=  16.5s\n",
            "[CV 3/5; 15/56] START neuron1=8, neuron2=50.....................................\n",
            "[CV 3/5; 15/56] END ......neuron1=8, neuron2=50;, score=0.000 total time=  21.6s\n",
            "[CV 4/5; 15/56] START neuron1=8, neuron2=50.....................................\n",
            "[CV 4/5; 15/56] END ......neuron1=8, neuron2=50;, score=0.000 total time=  16.0s\n",
            "[CV 5/5; 15/56] START neuron1=8, neuron2=50.....................................\n",
            "[CV 5/5; 15/56] END ......neuron1=8, neuron2=50;, score=0.000 total time=  16.2s\n",
            "[CV 1/5; 16/56] START neuron1=8, neuron2=60.....................................\n",
            "[CV 1/5; 16/56] END ......neuron1=8, neuron2=60;, score=0.000 total time=  16.1s\n",
            "[CV 2/5; 16/56] START neuron1=8, neuron2=60.....................................\n",
            "[CV 2/5; 16/56] END ......neuron1=8, neuron2=60;, score=0.000 total time=  21.6s\n",
            "[CV 3/5; 16/56] START neuron1=8, neuron2=60.....................................\n",
            "[CV 3/5; 16/56] END ......neuron1=8, neuron2=60;, score=0.000 total time=  21.6s\n",
            "[CV 4/5; 16/56] START neuron1=8, neuron2=60.....................................\n",
            "[CV 4/5; 16/56] END ......neuron1=8, neuron2=60;, score=0.000 total time=  15.8s\n",
            "[CV 5/5; 16/56] START neuron1=8, neuron2=60.....................................\n",
            "[CV 5/5; 16/56] END ......neuron1=8, neuron2=60;, score=0.000 total time=  21.9s\n",
            "[CV 1/5; 17/56] START neuron1=16, neuron2=2.....................................\n",
            "[CV 1/5; 17/56] END ......neuron1=16, neuron2=2;, score=0.000 total time=  15.7s\n",
            "[CV 2/5; 17/56] START neuron1=16, neuron2=2.....................................\n",
            "[CV 2/5; 17/56] END ......neuron1=16, neuron2=2;, score=0.000 total time=  22.0s\n",
            "[CV 3/5; 17/56] START neuron1=16, neuron2=2.....................................\n",
            "[CV 3/5; 17/56] END ......neuron1=16, neuron2=2;, score=0.000 total time=  15.9s\n",
            "[CV 4/5; 17/56] START neuron1=16, neuron2=2.....................................\n",
            "[CV 4/5; 17/56] END ......neuron1=16, neuron2=2;, score=0.000 total time=  15.9s\n",
            "[CV 5/5; 17/56] START neuron1=16, neuron2=2.....................................\n",
            "[CV 5/5; 17/56] END ......neuron1=16, neuron2=2;, score=0.000 total time=  16.0s\n",
            "[CV 1/5; 18/56] START neuron1=16, neuron2=4.....................................\n",
            "[CV 1/5; 18/56] END ......neuron1=16, neuron2=4;, score=0.000 total time=  16.1s\n",
            "[CV 2/5; 18/56] START neuron1=16, neuron2=4.....................................\n",
            "[CV 2/5; 18/56] END ......neuron1=16, neuron2=4;, score=0.000 total time=  21.9s\n",
            "[CV 3/5; 18/56] START neuron1=16, neuron2=4.....................................\n",
            "[CV 3/5; 18/56] END ......neuron1=16, neuron2=4;, score=0.000 total time=  21.6s\n",
            "[CV 4/5; 18/56] START neuron1=16, neuron2=4.....................................\n",
            "[CV 4/5; 18/56] END ......neuron1=16, neuron2=4;, score=0.000 total time=  21.6s\n",
            "[CV 5/5; 18/56] START neuron1=16, neuron2=4.....................................\n",
            "[CV 5/5; 18/56] END ......neuron1=16, neuron2=4;, score=0.000 total time=  15.6s\n",
            "[CV 1/5; 19/56] START neuron1=16, neuron2=8.....................................\n",
            "[CV 1/5; 19/56] END ......neuron1=16, neuron2=8;, score=0.000 total time=  15.6s\n",
            "[CV 2/5; 19/56] START neuron1=16, neuron2=8.....................................\n",
            "[CV 2/5; 19/56] END ......neuron1=16, neuron2=8;, score=0.000 total time=  16.0s\n",
            "[CV 3/5; 19/56] START neuron1=16, neuron2=8.....................................\n",
            "[CV 3/5; 19/56] END ......neuron1=16, neuron2=8;, score=0.000 total time=  21.6s\n",
            "[CV 4/5; 19/56] START neuron1=16, neuron2=8.....................................\n",
            "[CV 4/5; 19/56] END ......neuron1=16, neuron2=8;, score=0.000 total time=  15.8s\n",
            "[CV 5/5; 19/56] START neuron1=16, neuron2=8.....................................\n",
            "[CV 5/5; 19/56] END ......neuron1=16, neuron2=8;, score=0.000 total time=  15.7s\n",
            "[CV 1/5; 20/56] START neuron1=16, neuron2=20....................................\n",
            "[CV 1/5; 20/56] END .....neuron1=16, neuron2=20;, score=0.000 total time=  21.6s\n",
            "[CV 2/5; 20/56] START neuron1=16, neuron2=20....................................\n",
            "[CV 2/5; 20/56] END .....neuron1=16, neuron2=20;, score=0.000 total time=  16.0s\n",
            "[CV 3/5; 20/56] START neuron1=16, neuron2=20....................................\n",
            "[CV 3/5; 20/56] END .....neuron1=16, neuron2=20;, score=0.000 total time=  21.6s\n",
            "[CV 4/5; 20/56] START neuron1=16, neuron2=20....................................\n",
            "[CV 4/5; 20/56] END .....neuron1=16, neuron2=20;, score=0.000 total time=  21.6s\n",
            "[CV 5/5; 20/56] START neuron1=16, neuron2=20....................................\n",
            "[CV 5/5; 20/56] END .....neuron1=16, neuron2=20;, score=0.000 total time=  15.7s\n",
            "[CV 1/5; 21/56] START neuron1=16, neuron2=30....................................\n",
            "[CV 1/5; 21/56] END .....neuron1=16, neuron2=30;, score=0.000 total time=  16.1s\n",
            "[CV 2/5; 21/56] START neuron1=16, neuron2=30....................................\n",
            "[CV 2/5; 21/56] END .....neuron1=16, neuron2=30;, score=0.000 total time=  15.9s\n",
            "[CV 3/5; 21/56] START neuron1=16, neuron2=30....................................\n",
            "[CV 3/5; 21/56] END .....neuron1=16, neuron2=30;, score=0.000 total time=  16.0s\n",
            "[CV 4/5; 21/56] START neuron1=16, neuron2=30....................................\n",
            "[CV 4/5; 21/56] END .....neuron1=16, neuron2=30;, score=0.000 total time=  15.9s\n",
            "[CV 5/5; 21/56] START neuron1=16, neuron2=30....................................\n",
            "[CV 5/5; 21/56] END .....neuron1=16, neuron2=30;, score=0.000 total time=  15.7s\n",
            "[CV 1/5; 22/56] START neuron1=16, neuron2=40....................................\n",
            "[CV 1/5; 22/56] END .....neuron1=16, neuron2=40;, score=0.000 total time=  15.9s\n",
            "[CV 2/5; 22/56] START neuron1=16, neuron2=40....................................\n",
            "[CV 2/5; 22/56] END .....neuron1=16, neuron2=40;, score=0.000 total time=  21.6s\n",
            "[CV 3/5; 22/56] START neuron1=16, neuron2=40....................................\n",
            "[CV 3/5; 22/56] END .....neuron1=16, neuron2=40;, score=0.000 total time=  21.6s\n",
            "[CV 4/5; 22/56] START neuron1=16, neuron2=40....................................\n",
            "[CV 4/5; 22/56] END .....neuron1=16, neuron2=40;, score=0.000 total time=  21.6s\n",
            "[CV 5/5; 22/56] START neuron1=16, neuron2=40....................................\n",
            "[CV 5/5; 22/56] END .....neuron1=16, neuron2=40;, score=0.000 total time=  15.6s\n",
            "[CV 1/5; 23/56] START neuron1=16, neuron2=50....................................\n",
            "[CV 1/5; 23/56] END .....neuron1=16, neuron2=50;, score=0.000 total time=  16.4s\n",
            "[CV 2/5; 23/56] START neuron1=16, neuron2=50....................................\n",
            "[CV 2/5; 23/56] END .....neuron1=16, neuron2=50;, score=0.000 total time=  15.7s\n",
            "[CV 3/5; 23/56] START neuron1=16, neuron2=50....................................\n",
            "[CV 3/5; 23/56] END .....neuron1=16, neuron2=50;, score=0.000 total time=  21.6s\n",
            "[CV 4/5; 23/56] START neuron1=16, neuron2=50....................................\n",
            "[CV 4/5; 23/56] END .....neuron1=16, neuron2=50;, score=0.000 total time=  22.0s\n",
            "[CV 5/5; 23/56] START neuron1=16, neuron2=50....................................\n",
            "[CV 5/5; 23/56] END .....neuron1=16, neuron2=50;, score=0.000 total time=  15.8s\n",
            "[CV 1/5; 24/56] START neuron1=16, neuron2=60....................................\n",
            "[CV 1/5; 24/56] END .....neuron1=16, neuron2=60;, score=0.000 total time=  21.6s\n",
            "[CV 2/5; 24/56] START neuron1=16, neuron2=60....................................\n",
            "[CV 2/5; 24/56] END .....neuron1=16, neuron2=60;, score=0.000 total time=  16.4s\n",
            "[CV 3/5; 24/56] START neuron1=16, neuron2=60....................................\n",
            "[CV 3/5; 24/56] END .....neuron1=16, neuron2=60;, score=0.000 total time=  16.1s\n",
            "[CV 4/5; 24/56] START neuron1=16, neuron2=60....................................\n",
            "[CV 4/5; 24/56] END .....neuron1=16, neuron2=60;, score=0.000 total time=  16.1s\n",
            "[CV 5/5; 24/56] START neuron1=16, neuron2=60....................................\n",
            "[CV 5/5; 24/56] END .....neuron1=16, neuron2=60;, score=0.000 total time=  16.5s\n",
            "[CV 1/5; 25/56] START neuron1=20, neuron2=2.....................................\n",
            "[CV 1/5; 25/56] END ......neuron1=20, neuron2=2;, score=0.000 total time=  21.6s\n",
            "[CV 2/5; 25/56] START neuron1=20, neuron2=2.....................................\n",
            "[CV 2/5; 25/56] END ......neuron1=20, neuron2=2;, score=0.000 total time=  15.7s\n",
            "[CV 3/5; 25/56] START neuron1=20, neuron2=2.....................................\n",
            "[CV 3/5; 25/56] END ......neuron1=20, neuron2=2;, score=0.000 total time=  21.6s\n",
            "[CV 4/5; 25/56] START neuron1=20, neuron2=2.....................................\n",
            "[CV 4/5; 25/56] END ......neuron1=20, neuron2=2;, score=0.000 total time=  15.7s\n",
            "[CV 5/5; 25/56] START neuron1=20, neuron2=2.....................................\n",
            "[CV 5/5; 25/56] END ......neuron1=20, neuron2=2;, score=0.000 total time=  21.6s\n",
            "[CV 1/5; 26/56] START neuron1=20, neuron2=4.....................................\n",
            "[CV 1/5; 26/56] END ......neuron1=20, neuron2=4;, score=0.000 total time=  16.0s\n",
            "[CV 2/5; 26/56] START neuron1=20, neuron2=4.....................................\n",
            "[CV 2/5; 26/56] END ......neuron1=20, neuron2=4;, score=0.000 total time=  15.6s\n",
            "[CV 3/5; 26/56] START neuron1=20, neuron2=4.....................................\n",
            "[CV 3/5; 26/56] END ......neuron1=20, neuron2=4;, score=0.000 total time=  21.9s\n",
            "[CV 4/5; 26/56] START neuron1=20, neuron2=4.....................................\n",
            "[CV 4/5; 26/56] END ......neuron1=20, neuron2=4;, score=0.000 total time=  21.6s\n",
            "[CV 5/5; 26/56] START neuron1=20, neuron2=4.....................................\n",
            "[CV 5/5; 26/56] END ......neuron1=20, neuron2=4;, score=0.000 total time=  16.8s\n",
            "[CV 1/5; 27/56] START neuron1=20, neuron2=8.....................................\n",
            "[CV 1/5; 27/56] END ......neuron1=20, neuron2=8;, score=0.000 total time=  16.3s\n",
            "[CV 2/5; 27/56] START neuron1=20, neuron2=8.....................................\n",
            "[CV 2/5; 27/56] END ......neuron1=20, neuron2=8;, score=0.000 total time=  15.9s\n",
            "[CV 3/5; 27/56] START neuron1=20, neuron2=8.....................................\n",
            "[CV 3/5; 27/56] END ......neuron1=20, neuron2=8;, score=0.000 total time=  16.0s\n",
            "[CV 4/5; 27/56] START neuron1=20, neuron2=8.....................................\n",
            "[CV 4/5; 27/56] END ......neuron1=20, neuron2=8;, score=0.000 total time=  16.1s\n",
            "[CV 5/5; 27/56] START neuron1=20, neuron2=8.....................................\n",
            "[CV 5/5; 27/56] END ......neuron1=20, neuron2=8;, score=0.000 total time=  21.6s\n",
            "[CV 1/5; 28/56] START neuron1=20, neuron2=20....................................\n",
            "[CV 1/5; 28/56] END .....neuron1=20, neuron2=20;, score=0.000 total time=  16.2s\n",
            "[CV 2/5; 28/56] START neuron1=20, neuron2=20....................................\n",
            "[CV 2/5; 28/56] END .....neuron1=20, neuron2=20;, score=0.000 total time=  16.4s\n",
            "[CV 3/5; 28/56] START neuron1=20, neuron2=20....................................\n",
            "[CV 3/5; 28/56] END .....neuron1=20, neuron2=20;, score=0.000 total time=  16.3s\n",
            "[CV 4/5; 28/56] START neuron1=20, neuron2=20....................................\n",
            "[CV 4/5; 28/56] END .....neuron1=20, neuron2=20;, score=0.000 total time=  21.6s\n",
            "[CV 5/5; 28/56] START neuron1=20, neuron2=20....................................\n",
            "[CV 5/5; 28/56] END .....neuron1=20, neuron2=20;, score=0.000 total time=  21.6s\n",
            "[CV 1/5; 29/56] START neuron1=20, neuron2=30....................................\n",
            "[CV 1/5; 29/56] END .....neuron1=20, neuron2=30;, score=0.000 total time=  21.6s\n",
            "[CV 2/5; 29/56] START neuron1=20, neuron2=30....................................\n",
            "[CV 2/5; 29/56] END .....neuron1=20, neuron2=30;, score=0.000 total time=  21.6s\n",
            "[CV 3/5; 29/56] START neuron1=20, neuron2=30....................................\n",
            "[CV 3/5; 29/56] END .....neuron1=20, neuron2=30;, score=0.000 total time=  21.7s\n",
            "[CV 4/5; 29/56] START neuron1=20, neuron2=30....................................\n",
            "[CV 4/5; 29/56] END .....neuron1=20, neuron2=30;, score=0.000 total time=  22.0s\n",
            "[CV 5/5; 29/56] START neuron1=20, neuron2=30....................................\n",
            "[CV 5/5; 29/56] END .....neuron1=20, neuron2=30;, score=0.000 total time=  16.3s\n",
            "[CV 1/5; 30/56] START neuron1=20, neuron2=40....................................\n",
            "[CV 1/5; 30/56] END .....neuron1=20, neuron2=40;, score=0.000 total time=  21.6s\n",
            "[CV 2/5; 30/56] START neuron1=20, neuron2=40....................................\n",
            "[CV 2/5; 30/56] END .....neuron1=20, neuron2=40;, score=0.000 total time=  16.2s\n",
            "[CV 3/5; 30/56] START neuron1=20, neuron2=40....................................\n",
            "[CV 3/5; 30/56] END .....neuron1=20, neuron2=40;, score=0.000 total time=  21.6s\n",
            "[CV 4/5; 30/56] START neuron1=20, neuron2=40....................................\n",
            "[CV 4/5; 30/56] END .....neuron1=20, neuron2=40;, score=0.000 total time=  16.4s\n",
            "[CV 5/5; 30/56] START neuron1=20, neuron2=40....................................\n",
            "[CV 5/5; 30/56] END .....neuron1=20, neuron2=40;, score=0.000 total time=  21.6s\n",
            "[CV 1/5; 31/56] START neuron1=20, neuron2=50....................................\n",
            "[CV 1/5; 31/56] END .....neuron1=20, neuron2=50;, score=0.000 total time=  15.9s\n",
            "[CV 2/5; 31/56] START neuron1=20, neuron2=50....................................\n",
            "[CV 2/5; 31/56] END .....neuron1=20, neuron2=50;, score=0.000 total time=  21.6s\n",
            "[CV 3/5; 31/56] START neuron1=20, neuron2=50....................................\n",
            "[CV 3/5; 31/56] END .....neuron1=20, neuron2=50;, score=0.000 total time=  21.6s\n",
            "[CV 4/5; 31/56] START neuron1=20, neuron2=50....................................\n",
            "[CV 4/5; 31/56] END .....neuron1=20, neuron2=50;, score=0.000 total time=  15.8s\n",
            "[CV 5/5; 31/56] START neuron1=20, neuron2=50....................................\n",
            "[CV 5/5; 31/56] END .....neuron1=20, neuron2=50;, score=0.000 total time=  15.8s\n",
            "[CV 1/5; 32/56] START neuron1=20, neuron2=60....................................\n",
            "[CV 1/5; 32/56] END .....neuron1=20, neuron2=60;, score=0.000 total time=  21.6s\n",
            "[CV 2/5; 32/56] START neuron1=20, neuron2=60....................................\n",
            "[CV 2/5; 32/56] END .....neuron1=20, neuron2=60;, score=0.000 total time=  15.8s\n",
            "[CV 3/5; 32/56] START neuron1=20, neuron2=60....................................\n",
            "[CV 3/5; 32/56] END .....neuron1=20, neuron2=60;, score=0.000 total time=  21.9s\n",
            "[CV 4/5; 32/56] START neuron1=20, neuron2=60....................................\n",
            "[CV 4/5; 32/56] END .....neuron1=20, neuron2=60;, score=0.000 total time=  16.6s\n",
            "[CV 5/5; 32/56] START neuron1=20, neuron2=60....................................\n",
            "[CV 5/5; 32/56] END .....neuron1=20, neuron2=60;, score=0.000 total time=  22.0s\n",
            "[CV 1/5; 33/56] START neuron1=30, neuron2=2.....................................\n",
            "[CV 1/5; 33/56] END ......neuron1=30, neuron2=2;, score=0.000 total time=  21.7s\n",
            "[CV 2/5; 33/56] START neuron1=30, neuron2=2.....................................\n",
            "[CV 2/5; 33/56] END ......neuron1=30, neuron2=2;, score=0.000 total time=  21.6s\n",
            "[CV 3/5; 33/56] START neuron1=30, neuron2=2.....................................\n",
            "[CV 3/5; 33/56] END ......neuron1=30, neuron2=2;, score=0.000 total time=  16.0s\n",
            "[CV 4/5; 33/56] START neuron1=30, neuron2=2.....................................\n",
            "[CV 4/5; 33/56] END ......neuron1=30, neuron2=2;, score=0.000 total time=  21.6s\n",
            "[CV 5/5; 33/56] START neuron1=30, neuron2=2.....................................\n",
            "[CV 5/5; 33/56] END ......neuron1=30, neuron2=2;, score=0.000 total time=  15.8s\n",
            "[CV 1/5; 34/56] START neuron1=30, neuron2=4.....................................\n",
            "[CV 1/5; 34/56] END ......neuron1=30, neuron2=4;, score=0.000 total time=  21.6s\n",
            "[CV 2/5; 34/56] START neuron1=30, neuron2=4.....................................\n",
            "[CV 2/5; 34/56] END ......neuron1=30, neuron2=4;, score=0.000 total time=  15.8s\n",
            "[CV 3/5; 34/56] START neuron1=30, neuron2=4.....................................\n",
            "[CV 3/5; 34/56] END ......neuron1=30, neuron2=4;, score=0.000 total time=  22.0s\n",
            "[CV 4/5; 34/56] START neuron1=30, neuron2=4.....................................\n",
            "[CV 4/5; 34/56] END ......neuron1=30, neuron2=4;, score=0.000 total time=  21.9s\n",
            "[CV 5/5; 34/56] START neuron1=30, neuron2=4.....................................\n",
            "[CV 5/5; 34/56] END ......neuron1=30, neuron2=4;, score=0.000 total time=  21.6s\n",
            "[CV 1/5; 35/56] START neuron1=30, neuron2=8.....................................\n",
            "[CV 1/5; 35/56] END ......neuron1=30, neuron2=8;, score=0.000 total time=  21.6s\n",
            "[CV 2/5; 35/56] START neuron1=30, neuron2=8.....................................\n",
            "[CV 2/5; 35/56] END ......neuron1=30, neuron2=8;, score=0.000 total time=  21.6s\n",
            "[CV 3/5; 35/56] START neuron1=30, neuron2=8.....................................\n",
            "[CV 3/5; 35/56] END ......neuron1=30, neuron2=8;, score=0.000 total time=  16.2s\n",
            "[CV 4/5; 35/56] START neuron1=30, neuron2=8.....................................\n",
            "[CV 4/5; 35/56] END ......neuron1=30, neuron2=8;, score=0.000 total time=  16.0s\n",
            "[CV 5/5; 35/56] START neuron1=30, neuron2=8.....................................\n",
            "[CV 5/5; 35/56] END ......neuron1=30, neuron2=8;, score=0.000 total time=  16.3s\n",
            "[CV 1/5; 36/56] START neuron1=30, neuron2=20....................................\n",
            "[CV 1/5; 36/56] END .....neuron1=30, neuron2=20;, score=0.000 total time=  21.6s\n",
            "[CV 2/5; 36/56] START neuron1=30, neuron2=20....................................\n",
            "[CV 2/5; 36/56] END .....neuron1=30, neuron2=20;, score=0.000 total time=  22.0s\n",
            "[CV 3/5; 36/56] START neuron1=30, neuron2=20....................................\n",
            "[CV 3/5; 36/56] END .....neuron1=30, neuron2=20;, score=0.000 total time=  21.6s\n",
            "[CV 4/5; 36/56] START neuron1=30, neuron2=20....................................\n",
            "[CV 4/5; 36/56] END .....neuron1=30, neuron2=20;, score=0.000 total time=  16.3s\n",
            "[CV 5/5; 36/56] START neuron1=30, neuron2=20....................................\n",
            "[CV 5/5; 36/56] END .....neuron1=30, neuron2=20;, score=0.000 total time=  21.6s\n",
            "[CV 1/5; 37/56] START neuron1=30, neuron2=30....................................\n",
            "[CV 1/5; 37/56] END .....neuron1=30, neuron2=30;, score=0.000 total time=  21.6s\n",
            "[CV 2/5; 37/56] START neuron1=30, neuron2=30....................................\n",
            "[CV 2/5; 37/56] END .....neuron1=30, neuron2=30;, score=0.000 total time=  15.8s\n",
            "[CV 3/5; 37/56] START neuron1=30, neuron2=30....................................\n",
            "[CV 3/5; 37/56] END .....neuron1=30, neuron2=30;, score=0.000 total time=  15.8s\n",
            "[CV 4/5; 37/56] START neuron1=30, neuron2=30....................................\n",
            "[CV 4/5; 37/56] END .....neuron1=30, neuron2=30;, score=0.000 total time=  21.9s\n",
            "[CV 5/5; 37/56] START neuron1=30, neuron2=30....................................\n",
            "[CV 5/5; 37/56] END .....neuron1=30, neuron2=30;, score=0.000 total time=  16.4s\n",
            "[CV 1/5; 38/56] START neuron1=30, neuron2=40....................................\n",
            "[CV 1/5; 38/56] END .....neuron1=30, neuron2=40;, score=0.000 total time=  21.6s\n",
            "[CV 2/5; 38/56] START neuron1=30, neuron2=40....................................\n",
            "[CV 2/5; 38/56] END .....neuron1=30, neuron2=40;, score=0.000 total time=  16.5s\n",
            "[CV 3/5; 38/56] START neuron1=30, neuron2=40....................................\n",
            "[CV 3/5; 38/56] END .....neuron1=30, neuron2=40;, score=0.000 total time=  15.9s\n",
            "[CV 4/5; 38/56] START neuron1=30, neuron2=40....................................\n",
            "[CV 4/5; 38/56] END .....neuron1=30, neuron2=40;, score=0.000 total time=  21.6s\n",
            "[CV 5/5; 38/56] START neuron1=30, neuron2=40....................................\n",
            "[CV 5/5; 38/56] END .....neuron1=30, neuron2=40;, score=0.000 total time=  21.6s\n",
            "[CV 1/5; 39/56] START neuron1=30, neuron2=50....................................\n",
            "[CV 1/5; 39/56] END .....neuron1=30, neuron2=50;, score=0.000 total time=  21.6s\n",
            "[CV 2/5; 39/56] START neuron1=30, neuron2=50....................................\n",
            "[CV 2/5; 39/56] END .....neuron1=30, neuron2=50;, score=0.000 total time=  16.0s\n",
            "[CV 3/5; 39/56] START neuron1=30, neuron2=50....................................\n",
            "[CV 3/5; 39/56] END .....neuron1=30, neuron2=50;, score=0.000 total time=  21.9s\n",
            "[CV 4/5; 39/56] START neuron1=30, neuron2=50....................................\n",
            "[CV 4/5; 39/56] END .....neuron1=30, neuron2=50;, score=0.000 total time=  15.9s\n",
            "[CV 5/5; 39/56] START neuron1=30, neuron2=50....................................\n",
            "[CV 5/5; 39/56] END .....neuron1=30, neuron2=50;, score=0.000 total time=  16.4s\n",
            "[CV 1/5; 40/56] START neuron1=30, neuron2=60....................................\n",
            "[CV 1/5; 40/56] END .....neuron1=30, neuron2=60;, score=0.000 total time=  21.6s\n",
            "[CV 2/5; 40/56] START neuron1=30, neuron2=60....................................\n",
            "[CV 2/5; 40/56] END .....neuron1=30, neuron2=60;, score=0.000 total time=  22.0s\n",
            "[CV 3/5; 40/56] START neuron1=30, neuron2=60....................................\n",
            "[CV 3/5; 40/56] END .....neuron1=30, neuron2=60;, score=0.000 total time=  21.6s\n",
            "[CV 4/5; 40/56] START neuron1=30, neuron2=60....................................\n",
            "[CV 4/5; 40/56] END .....neuron1=30, neuron2=60;, score=0.000 total time=  16.0s\n",
            "[CV 5/5; 40/56] START neuron1=30, neuron2=60....................................\n",
            "[CV 5/5; 40/56] END .....neuron1=30, neuron2=60;, score=0.000 total time=  15.9s\n",
            "[CV 1/5; 41/56] START neuron1=40, neuron2=2.....................................\n",
            "[CV 1/5; 41/56] END ......neuron1=40, neuron2=2;, score=0.000 total time=  21.9s\n",
            "[CV 2/5; 41/56] START neuron1=40, neuron2=2.....................................\n",
            "[CV 2/5; 41/56] END ......neuron1=40, neuron2=2;, score=0.000 total time=  15.7s\n",
            "[CV 3/5; 41/56] START neuron1=40, neuron2=2.....................................\n",
            "[CV 3/5; 41/56] END ......neuron1=40, neuron2=2;, score=0.000 total time=  21.9s\n",
            "[CV 4/5; 41/56] START neuron1=40, neuron2=2.....................................\n",
            "[CV 4/5; 41/56] END ......neuron1=40, neuron2=2;, score=0.000 total time=  21.6s\n",
            "[CV 5/5; 41/56] START neuron1=40, neuron2=2.....................................\n",
            "[CV 5/5; 41/56] END ......neuron1=40, neuron2=2;, score=0.000 total time=  16.3s\n",
            "[CV 1/5; 42/56] START neuron1=40, neuron2=4.....................................\n",
            "[CV 1/5; 42/56] END ......neuron1=40, neuron2=4;, score=0.000 total time=  22.0s\n",
            "[CV 2/5; 42/56] START neuron1=40, neuron2=4.....................................\n",
            "[CV 2/5; 42/56] END ......neuron1=40, neuron2=4;, score=0.000 total time=  16.0s\n",
            "[CV 3/5; 42/56] START neuron1=40, neuron2=4.....................................\n",
            "[CV 3/5; 42/56] END ......neuron1=40, neuron2=4;, score=0.000 total time=  16.0s\n",
            "[CV 4/5; 42/56] START neuron1=40, neuron2=4.....................................\n",
            "[CV 4/5; 42/56] END ......neuron1=40, neuron2=4;, score=0.000 total time=  21.6s\n",
            "[CV 5/5; 42/56] START neuron1=40, neuron2=4.....................................\n",
            "[CV 5/5; 42/56] END ......neuron1=40, neuron2=4;, score=0.000 total time=  15.7s\n",
            "[CV 1/5; 43/56] START neuron1=40, neuron2=8.....................................\n",
            "[CV 1/5; 43/56] END ......neuron1=40, neuron2=8;, score=0.000 total time=  21.6s\n",
            "[CV 2/5; 43/56] START neuron1=40, neuron2=8.....................................\n",
            "[CV 2/5; 43/56] END ......neuron1=40, neuron2=8;, score=0.000 total time=  21.9s\n",
            "[CV 3/5; 43/56] START neuron1=40, neuron2=8.....................................\n",
            "[CV 3/5; 43/56] END ......neuron1=40, neuron2=8;, score=0.000 total time=  15.7s\n",
            "[CV 4/5; 43/56] START neuron1=40, neuron2=8.....................................\n",
            "[CV 4/5; 43/56] END ......neuron1=40, neuron2=8;, score=0.000 total time=  16.0s\n",
            "[CV 5/5; 43/56] START neuron1=40, neuron2=8.....................................\n",
            "[CV 5/5; 43/56] END ......neuron1=40, neuron2=8;, score=0.000 total time=  21.9s\n",
            "[CV 1/5; 44/56] START neuron1=40, neuron2=20....................................\n",
            "[CV 1/5; 44/56] END .....neuron1=40, neuron2=20;, score=0.000 total time=  22.4s\n",
            "[CV 2/5; 44/56] START neuron1=40, neuron2=20....................................\n",
            "[CV 2/5; 44/56] END .....neuron1=40, neuron2=20;, score=0.000 total time=  16.9s\n",
            "[CV 3/5; 44/56] START neuron1=40, neuron2=20....................................\n",
            "[CV 3/5; 44/56] END .....neuron1=40, neuron2=20;, score=0.000 total time=  16.5s\n",
            "[CV 4/5; 44/56] START neuron1=40, neuron2=20....................................\n",
            "[CV 4/5; 44/56] END .....neuron1=40, neuron2=20;, score=0.000 total time=  21.6s\n",
            "[CV 5/5; 44/56] START neuron1=40, neuron2=20....................................\n",
            "[CV 5/5; 44/56] END .....neuron1=40, neuron2=20;, score=0.000 total time=  21.6s\n",
            "[CV 1/5; 45/56] START neuron1=40, neuron2=30....................................\n",
            "[CV 1/5; 45/56] END .....neuron1=40, neuron2=30;, score=0.000 total time=  21.6s\n",
            "[CV 2/5; 45/56] START neuron1=40, neuron2=30....................................\n",
            "[CV 2/5; 45/56] END .....neuron1=40, neuron2=30;, score=0.000 total time=  21.6s\n",
            "[CV 3/5; 45/56] START neuron1=40, neuron2=30....................................\n",
            "[CV 3/5; 45/56] END .....neuron1=40, neuron2=30;, score=0.000 total time=  16.0s\n",
            "[CV 4/5; 45/56] START neuron1=40, neuron2=30....................................\n",
            "[CV 4/5; 45/56] END .....neuron1=40, neuron2=30;, score=0.000 total time=  15.8s\n",
            "[CV 5/5; 45/56] START neuron1=40, neuron2=30....................................\n",
            "[CV 5/5; 45/56] END .....neuron1=40, neuron2=30;, score=0.000 total time=  16.9s\n",
            "[CV 1/5; 46/56] START neuron1=40, neuron2=40....................................\n",
            "[CV 1/5; 46/56] END .....neuron1=40, neuron2=40;, score=0.000 total time=  21.7s\n",
            "[CV 2/5; 46/56] START neuron1=40, neuron2=40....................................\n",
            "[CV 2/5; 46/56] END .....neuron1=40, neuron2=40;, score=0.000 total time=  16.2s\n",
            "[CV 3/5; 46/56] START neuron1=40, neuron2=40....................................\n",
            "[CV 3/5; 46/56] END .....neuron1=40, neuron2=40;, score=0.000 total time=  21.6s\n",
            "[CV 4/5; 46/56] START neuron1=40, neuron2=40....................................\n",
            "[CV 4/5; 46/56] END .....neuron1=40, neuron2=40;, score=0.000 total time=  21.9s\n",
            "[CV 5/5; 46/56] START neuron1=40, neuron2=40....................................\n",
            "[CV 5/5; 46/56] END .....neuron1=40, neuron2=40;, score=0.000 total time=  16.5s\n",
            "[CV 1/5; 47/56] START neuron1=40, neuron2=50....................................\n",
            "[CV 1/5; 47/56] END .....neuron1=40, neuron2=50;, score=0.000 total time=  16.5s\n",
            "[CV 2/5; 47/56] START neuron1=40, neuron2=50....................................\n",
            "[CV 2/5; 47/56] END .....neuron1=40, neuron2=50;, score=0.000 total time=  16.4s\n",
            "[CV 3/5; 47/56] START neuron1=40, neuron2=50....................................\n",
            "[CV 3/5; 47/56] END .....neuron1=40, neuron2=50;, score=0.000 total time=  21.6s\n",
            "[CV 4/5; 47/56] START neuron1=40, neuron2=50....................................\n",
            "[CV 4/5; 47/56] END .....neuron1=40, neuron2=50;, score=0.000 total time=  21.6s\n",
            "[CV 5/5; 47/56] START neuron1=40, neuron2=50....................................\n",
            "[CV 5/5; 47/56] END .....neuron1=40, neuron2=50;, score=0.000 total time=  22.3s\n",
            "[CV 1/5; 48/56] START neuron1=40, neuron2=60....................................\n",
            "[CV 1/5; 48/56] END .....neuron1=40, neuron2=60;, score=0.000 total time=  21.9s\n",
            "[CV 2/5; 48/56] START neuron1=40, neuron2=60....................................\n",
            "[CV 2/5; 48/56] END .....neuron1=40, neuron2=60;, score=0.000 total time=  21.9s\n",
            "[CV 3/5; 48/56] START neuron1=40, neuron2=60....................................\n",
            "[CV 3/5; 48/56] END .....neuron1=40, neuron2=60;, score=0.000 total time=  21.6s\n",
            "[CV 4/5; 48/56] START neuron1=40, neuron2=60....................................\n",
            "[CV 4/5; 48/56] END .....neuron1=40, neuron2=60;, score=0.000 total time=  21.6s\n",
            "[CV 5/5; 48/56] START neuron1=40, neuron2=60....................................\n",
            "[CV 5/5; 48/56] END .....neuron1=40, neuron2=60;, score=0.000 total time=  21.7s\n",
            "[CV 1/5; 49/56] START neuron1=50, neuron2=2.....................................\n",
            "[CV 1/5; 49/56] END ......neuron1=50, neuron2=2;, score=0.000 total time=  21.6s\n",
            "[CV 2/5; 49/56] START neuron1=50, neuron2=2.....................................\n",
            "[CV 2/5; 49/56] END ......neuron1=50, neuron2=2;, score=0.000 total time=  21.7s\n",
            "[CV 3/5; 49/56] START neuron1=50, neuron2=2.....................................\n",
            "[CV 3/5; 49/56] END ......neuron1=50, neuron2=2;, score=0.000 total time=  16.2s\n",
            "[CV 4/5; 49/56] START neuron1=50, neuron2=2.....................................\n",
            "[CV 4/5; 49/56] END ......neuron1=50, neuron2=2;, score=0.000 total time=  16.5s\n",
            "[CV 5/5; 49/56] START neuron1=50, neuron2=2.....................................\n",
            "[CV 5/5; 49/56] END ......neuron1=50, neuron2=2;, score=0.000 total time=  16.1s\n",
            "[CV 1/5; 50/56] START neuron1=50, neuron2=4.....................................\n",
            "[CV 1/5; 50/56] END ......neuron1=50, neuron2=4;, score=0.000 total time=  21.9s\n",
            "[CV 2/5; 50/56] START neuron1=50, neuron2=4.....................................\n",
            "[CV 2/5; 50/56] END ......neuron1=50, neuron2=4;, score=0.000 total time=  21.7s\n",
            "[CV 3/5; 50/56] START neuron1=50, neuron2=4.....................................\n",
            "[CV 3/5; 50/56] END ......neuron1=50, neuron2=4;, score=0.000 total time=  16.1s\n",
            "[CV 4/5; 50/56] START neuron1=50, neuron2=4.....................................\n",
            "[CV 4/5; 50/56] END ......neuron1=50, neuron2=4;, score=0.000 total time=  15.8s\n",
            "[CV 5/5; 50/56] START neuron1=50, neuron2=4.....................................\n",
            "[CV 5/5; 50/56] END ......neuron1=50, neuron2=4;, score=0.000 total time=  21.6s\n",
            "[CV 1/5; 51/56] START neuron1=50, neuron2=8.....................................\n",
            "[CV 1/5; 51/56] END ......neuron1=50, neuron2=8;, score=0.000 total time=  21.9s\n",
            "[CV 2/5; 51/56] START neuron1=50, neuron2=8.....................................\n",
            "[CV 2/5; 51/56] END ......neuron1=50, neuron2=8;, score=0.000 total time=  16.0s\n",
            "[CV 3/5; 51/56] START neuron1=50, neuron2=8.....................................\n",
            "[CV 3/5; 51/56] END ......neuron1=50, neuron2=8;, score=0.000 total time=  21.6s\n",
            "[CV 4/5; 51/56] START neuron1=50, neuron2=8.....................................\n",
            "[CV 4/5; 51/56] END ......neuron1=50, neuron2=8;, score=0.000 total time=  16.8s\n",
            "[CV 5/5; 51/56] START neuron1=50, neuron2=8.....................................\n",
            "[CV 5/5; 51/56] END ......neuron1=50, neuron2=8;, score=0.000 total time=  16.1s\n",
            "[CV 1/5; 52/56] START neuron1=50, neuron2=20....................................\n",
            "[CV 1/5; 52/56] END .....neuron1=50, neuron2=20;, score=0.000 total time=  16.1s\n",
            "[CV 2/5; 52/56] START neuron1=50, neuron2=20....................................\n",
            "[CV 2/5; 52/56] END .....neuron1=50, neuron2=20;, score=0.000 total time=  22.0s\n",
            "[CV 3/5; 52/56] START neuron1=50, neuron2=20....................................\n",
            "[CV 3/5; 52/56] END .....neuron1=50, neuron2=20;, score=0.000 total time=  21.7s\n",
            "[CV 4/5; 52/56] START neuron1=50, neuron2=20....................................\n",
            "[CV 4/5; 52/56] END .....neuron1=50, neuron2=20;, score=0.000 total time=  21.7s\n",
            "[CV 5/5; 52/56] START neuron1=50, neuron2=20....................................\n",
            "[CV 5/5; 52/56] END .....neuron1=50, neuron2=20;, score=0.000 total time=  22.0s\n",
            "[CV 1/5; 53/56] START neuron1=50, neuron2=30....................................\n",
            "[CV 1/5; 53/56] END .....neuron1=50, neuron2=30;, score=0.000 total time=  21.6s\n",
            "[CV 2/5; 53/56] START neuron1=50, neuron2=30....................................\n",
            "[CV 2/5; 53/56] END .....neuron1=50, neuron2=30;, score=0.000 total time=  16.2s\n",
            "[CV 3/5; 53/56] START neuron1=50, neuron2=30....................................\n",
            "[CV 3/5; 53/56] END .....neuron1=50, neuron2=30;, score=0.000 total time=  21.6s\n",
            "[CV 4/5; 53/56] START neuron1=50, neuron2=30....................................\n",
            "[CV 4/5; 53/56] END .....neuron1=50, neuron2=30;, score=0.000 total time=  17.0s\n",
            "[CV 5/5; 53/56] START neuron1=50, neuron2=30....................................\n",
            "[CV 5/5; 53/56] END .....neuron1=50, neuron2=30;, score=0.000 total time=  15.9s\n",
            "[CV 1/5; 54/56] START neuron1=50, neuron2=40....................................\n",
            "[CV 1/5; 54/56] END .....neuron1=50, neuron2=40;, score=0.000 total time=  21.6s\n",
            "[CV 2/5; 54/56] START neuron1=50, neuron2=40....................................\n",
            "[CV 2/5; 54/56] END .....neuron1=50, neuron2=40;, score=0.000 total time=  16.5s\n",
            "[CV 3/5; 54/56] START neuron1=50, neuron2=40....................................\n",
            "[CV 3/5; 54/56] END .....neuron1=50, neuron2=40;, score=0.000 total time=  21.6s\n",
            "[CV 4/5; 54/56] START neuron1=50, neuron2=40....................................\n",
            "[CV 4/5; 54/56] END .....neuron1=50, neuron2=40;, score=0.000 total time=  21.9s\n",
            "[CV 5/5; 54/56] START neuron1=50, neuron2=40....................................\n",
            "[CV 5/5; 54/56] END .....neuron1=50, neuron2=40;, score=0.000 total time=  21.6s\n",
            "[CV 1/5; 55/56] START neuron1=50, neuron2=50....................................\n",
            "[CV 1/5; 55/56] END .....neuron1=50, neuron2=50;, score=0.000 total time=  16.7s\n",
            "[CV 2/5; 55/56] START neuron1=50, neuron2=50....................................\n",
            "[CV 2/5; 55/56] END .....neuron1=50, neuron2=50;, score=0.000 total time=  22.0s\n",
            "[CV 3/5; 55/56] START neuron1=50, neuron2=50....................................\n",
            "[CV 3/5; 55/56] END .....neuron1=50, neuron2=50;, score=0.000 total time=  22.0s\n",
            "[CV 4/5; 55/56] START neuron1=50, neuron2=50....................................\n",
            "[CV 4/5; 55/56] END .....neuron1=50, neuron2=50;, score=0.000 total time=  16.1s\n",
            "[CV 5/5; 55/56] START neuron1=50, neuron2=50....................................\n",
            "[CV 5/5; 55/56] END .....neuron1=50, neuron2=50;, score=0.000 total time=  15.8s\n",
            "[CV 1/5; 56/56] START neuron1=50, neuron2=60....................................\n",
            "[CV 1/5; 56/56] END .....neuron1=50, neuron2=60;, score=0.000 total time=  21.9s\n",
            "[CV 2/5; 56/56] START neuron1=50, neuron2=60....................................\n",
            "[CV 2/5; 56/56] END .....neuron1=50, neuron2=60;, score=0.000 total time=  21.9s\n",
            "[CV 3/5; 56/56] START neuron1=50, neuron2=60....................................\n",
            "[CV 3/5; 56/56] END .....neuron1=50, neuron2=60;, score=0.000 total time=  21.6s\n",
            "[CV 4/5; 56/56] START neuron1=50, neuron2=60....................................\n",
            "[CV 4/5; 56/56] END .....neuron1=50, neuron2=60;, score=0.000 total time=  21.6s\n",
            "[CV 5/5; 56/56] START neuron1=50, neuron2=60....................................\n",
            "[CV 5/5; 56/56] END .....neuron1=50, neuron2=60;, score=0.000 total time=  16.0s\n"
          ]
        }
      ],
      "source": [
        "# Create the model\n",
        "\n",
        "model = KerasClassifier(build_fn = create_model,verbose = 0,batch_size = 10,epochs = 10)\n",
        "\n",
        "# Define the grid search parameters\n",
        "\n",
        "neuron1 = [4,8,16,20,30,40,50]\n",
        "neuron2 = [2,4,8,20,30,40,50,60]\n",
        "\n",
        "# Make a dictionary of the grid search parameters\n",
        "\n",
        "param_grids = dict(neuron1 = neuron1,neuron2 = neuron2)\n",
        "\n",
        "# Build and fit the GridSearchCV\n",
        "\n",
        "grid = GridSearchCV(estimator = model,param_grid = param_grids,cv = KFold(),verbose = 10)\n",
        "grid_result = grid.fit(X,y)"
      ]
    },
    {
      "cell_type": "code",
      "execution_count": null,
      "metadata": {
        "colab": {
          "background_save": true
        },
        "id": "n6LFKQZYYpPP",
        "outputId": "cd8870ec-90d4-4576-863d-9284c1167598"
      },
      "outputs": [
        {
          "name": "stdout",
          "output_type": "stream",
          "text": [
            "Best : 0.0, using {'neuron1': 4, 'neuron2': 2}\n",
            "0.0,0.0 with: {'neuron1': 4, 'neuron2': 2}\n",
            "0.0,0.0 with: {'neuron1': 4, 'neuron2': 4}\n",
            "0.0,0.0 with: {'neuron1': 4, 'neuron2': 8}\n",
            "0.0,0.0 with: {'neuron1': 4, 'neuron2': 20}\n",
            "0.0,0.0 with: {'neuron1': 4, 'neuron2': 30}\n",
            "0.0,0.0 with: {'neuron1': 4, 'neuron2': 40}\n",
            "0.0,0.0 with: {'neuron1': 4, 'neuron2': 50}\n",
            "0.0,0.0 with: {'neuron1': 4, 'neuron2': 60}\n",
            "0.0,0.0 with: {'neuron1': 8, 'neuron2': 2}\n",
            "0.0,0.0 with: {'neuron1': 8, 'neuron2': 4}\n",
            "0.0,0.0 with: {'neuron1': 8, 'neuron2': 8}\n",
            "0.0,0.0 with: {'neuron1': 8, 'neuron2': 20}\n",
            "0.0,0.0 with: {'neuron1': 8, 'neuron2': 30}\n",
            "0.0,0.0 with: {'neuron1': 8, 'neuron2': 40}\n",
            "0.0,0.0 with: {'neuron1': 8, 'neuron2': 50}\n",
            "0.0,0.0 with: {'neuron1': 8, 'neuron2': 60}\n",
            "0.0,0.0 with: {'neuron1': 16, 'neuron2': 2}\n",
            "0.0,0.0 with: {'neuron1': 16, 'neuron2': 4}\n",
            "0.0,0.0 with: {'neuron1': 16, 'neuron2': 8}\n",
            "0.0,0.0 with: {'neuron1': 16, 'neuron2': 20}\n",
            "0.0,0.0 with: {'neuron1': 16, 'neuron2': 30}\n",
            "0.0,0.0 with: {'neuron1': 16, 'neuron2': 40}\n",
            "0.0,0.0 with: {'neuron1': 16, 'neuron2': 50}\n",
            "0.0,0.0 with: {'neuron1': 16, 'neuron2': 60}\n",
            "0.0,0.0 with: {'neuron1': 20, 'neuron2': 2}\n",
            "0.0,0.0 with: {'neuron1': 20, 'neuron2': 4}\n",
            "0.0,0.0 with: {'neuron1': 20, 'neuron2': 8}\n",
            "0.0,0.0 with: {'neuron1': 20, 'neuron2': 20}\n",
            "0.0,0.0 with: {'neuron1': 20, 'neuron2': 30}\n",
            "0.0,0.0 with: {'neuron1': 20, 'neuron2': 40}\n",
            "0.0,0.0 with: {'neuron1': 20, 'neuron2': 50}\n",
            "0.0,0.0 with: {'neuron1': 20, 'neuron2': 60}\n",
            "0.0,0.0 with: {'neuron1': 30, 'neuron2': 2}\n",
            "0.0,0.0 with: {'neuron1': 30, 'neuron2': 4}\n",
            "0.0,0.0 with: {'neuron1': 30, 'neuron2': 8}\n",
            "0.0,0.0 with: {'neuron1': 30, 'neuron2': 20}\n",
            "0.0,0.0 with: {'neuron1': 30, 'neuron2': 30}\n",
            "0.0,0.0 with: {'neuron1': 30, 'neuron2': 40}\n",
            "0.0,0.0 with: {'neuron1': 30, 'neuron2': 50}\n",
            "0.0,0.0 with: {'neuron1': 30, 'neuron2': 60}\n",
            "0.0,0.0 with: {'neuron1': 40, 'neuron2': 2}\n",
            "0.0,0.0 with: {'neuron1': 40, 'neuron2': 4}\n",
            "0.0,0.0 with: {'neuron1': 40, 'neuron2': 8}\n",
            "0.0,0.0 with: {'neuron1': 40, 'neuron2': 20}\n",
            "0.0,0.0 with: {'neuron1': 40, 'neuron2': 30}\n",
            "0.0,0.0 with: {'neuron1': 40, 'neuron2': 40}\n",
            "0.0,0.0 with: {'neuron1': 40, 'neuron2': 50}\n",
            "0.0,0.0 with: {'neuron1': 40, 'neuron2': 60}\n",
            "0.0,0.0 with: {'neuron1': 50, 'neuron2': 2}\n",
            "0.0,0.0 with: {'neuron1': 50, 'neuron2': 4}\n",
            "0.0,0.0 with: {'neuron1': 50, 'neuron2': 8}\n",
            "0.0,0.0 with: {'neuron1': 50, 'neuron2': 20}\n",
            "0.0,0.0 with: {'neuron1': 50, 'neuron2': 30}\n",
            "0.0,0.0 with: {'neuron1': 50, 'neuron2': 40}\n",
            "0.0,0.0 with: {'neuron1': 50, 'neuron2': 50}\n",
            "0.0,0.0 with: {'neuron1': 50, 'neuron2': 60}\n"
          ]
        }
      ],
      "source": [
        " #Summarize the results\n",
        "print('Best : {}, using {}'.format(grid_result.best_score_,grid_result.best_params_))\n",
        "means = grid_result.cv_results_['mean_test_score']\n",
        "stds = grid_result.cv_results_['std_test_score']\n",
        "params = grid_result.cv_results_['params']\n",
        "for mean, stdev, param in zip(means, stds, params):\n",
        "  print('{},{} with: {}'.format(mean, stdev, param))"
      ]
    },
    {
      "cell_type": "code",
      "execution_count": null,
      "metadata": {
        "colab": {
          "background_save": true
        },
        "id": "sGeNSa5m4IQC"
      },
      "outputs": [],
      "source": [
        "#we get best learning rate as 0.001 and dropout rate as 0 and best neurons as 4 and 2, so now we can build final model"
      ]
    },
    {
      "cell_type": "code",
      "execution_count": null,
      "metadata": {
        "colab": {
          "background_save": true
        },
        "id": "TSo7l4Rb4PtJ"
      },
      "outputs": [],
      "source": [
        "from sklearn.model_selection import train_test_split"
      ]
    },
    {
      "cell_type": "code",
      "execution_count": null,
      "metadata": {
        "colab": {
          "background_save": true
        },
        "id": "hOCIg2805-Vl"
      },
      "outputs": [],
      "source": [
        "X_train,X_test,y_train,y_test =train_test_split(X,y,test_size =0.3,random_state =42)"
      ]
    },
    {
      "cell_type": "code",
      "execution_count": null,
      "metadata": {
        "colab": {
          "background_save": true
        },
        "id": "bICnbL4b6GbD",
        "outputId": "bf7f632c-8d2d-40c7-e62c-9a5da62250f3"
      },
      "outputs": [
        {
          "data": {
            "text/plain": [
              "((10527, 10), (4512, 10), (10527,), (4512,))"
            ]
          },
          "execution_count": null,
          "metadata": {},
          "output_type": "execute_result"
        }
      ],
      "source": [
        "X_train.shape,X_test.shape,y_train.shape,y_test.shape"
      ]
    },
    {
      "cell_type": "code",
      "execution_count": null,
      "metadata": {
        "colab": {
          "background_save": true
        },
        "id": "DchMQ8vk6JuD"
      },
      "outputs": [],
      "source": [
        "optmizer =RMSprop(0.001)\n",
        "model_new=keras.Sequential([\n",
        "    keras.layers.Dense(4,input_dim =(n_features),activation='relu'),\n",
        "    keras.layers.Dense(2,activation ='relu')\n",
        "])\n",
        "model_new.compile(optimizer =optmizer,loss= 'mean_squared_error',metrics=['accuracy'])"
      ]
    },
    {
      "cell_type": "code",
      "execution_count": null,
      "metadata": {
        "colab": {
          "background_save": true
        },
        "id": "KJTczqQz6eQS",
        "outputId": "9b1d13c5-ee0f-433c-971e-8fe12556efc9"
      },
      "outputs": [
        {
          "name": "stdout",
          "output_type": "stream",
          "text": [
            "Epoch 1/10\n",
            "1053/1053 [==============================] - 2s 1ms/step - loss: 0.7856 - accuracy: 0.0000e+00\n",
            "Epoch 2/10\n",
            "1053/1053 [==============================] - 1s 1ms/step - loss: 0.7373 - accuracy: 0.0000e+00\n",
            "Epoch 3/10\n",
            "1053/1053 [==============================] - 1s 1ms/step - loss: 0.7357 - accuracy: 0.0000e+00\n",
            "Epoch 4/10\n",
            "1053/1053 [==============================] - 1s 1ms/step - loss: 0.7352 - accuracy: 0.0000e+00\n",
            "Epoch 5/10\n",
            "1053/1053 [==============================] - 1s 1ms/step - loss: 0.7351 - accuracy: 0.0000e+00\n",
            "Epoch 6/10\n",
            "1053/1053 [==============================] - 1s 1ms/step - loss: 0.7350 - accuracy: 0.0000e+00\n",
            "Epoch 7/10\n",
            "1053/1053 [==============================] - 1s 1ms/step - loss: 0.7350 - accuracy: 0.0000e+00\n",
            "Epoch 8/10\n",
            "1053/1053 [==============================] - 1s 1ms/step - loss: 0.7349 - accuracy: 0.0000e+00\n",
            "Epoch 9/10\n",
            "1053/1053 [==============================] - 1s 1ms/step - loss: 0.7349 - accuracy: 0.0000e+00\n",
            "Epoch 10/10\n",
            "1053/1053 [==============================] - 1s 1ms/step - loss: 0.7349 - accuracy: 0.0000e+00\n"
          ]
        },
        {
          "data": {
            "text/plain": [
              "<keras.callbacks.History at 0x7f4badcf4990>"
            ]
          },
          "execution_count": null,
          "metadata": {},
          "output_type": "execute_result"
        }
      ],
      "source": [
        "seed_value =42;\n",
        "import random\n",
        "tensorflow.random.set_seed(seed_value)\n",
        "model_new.fit(X_train, y_train, epochs=10, batch_size=10, verbose = 1)"
      ]
    },
    {
      "cell_type": "code",
      "execution_count": null,
      "metadata": {
        "colab": {
          "background_save": true
        },
        "id": "OMnTuD3jTC6c",
        "outputId": "bfda3729-16ca-4d5a-97a1-5fd51e7219db"
      },
      "outputs": [
        {
          "name": "stdout",
          "output_type": "stream",
          "text": [
            "141/141 [==============================] - 0s 1ms/step - loss: 0.7500 - accuracy: 0.0000e+00\n"
          ]
        },
        {
          "data": {
            "text/plain": [
              "[0.7500248551368713, 0.0]"
            ]
          },
          "execution_count": null,
          "metadata": {},
          "output_type": "execute_result"
        }
      ],
      "source": [
        "model_new.evaluate(X_test,y_test)"
      ]
    },
    {
      "cell_type": "code",
      "execution_count": 38,
      "metadata": {
        "id": "l4BMdNdAKKUx"
      },
      "outputs": [],
      "source": [
        ""
      ]
    }
  ],
  "metadata": {
    "colab": {
      "collapsed_sections": [],
      "name": "Neural Netwrok gas_turbine.ipynb",
      "provenance": [],
      "include_colab_link": true
    },
    "kernelspec": {
      "display_name": "Python 3",
      "language": "python",
      "name": "python3"
    },
    "language_info": {
      "codemirror_mode": {
        "name": "ipython",
        "version": 3
      },
      "file_extension": ".py",
      "mimetype": "text/x-python",
      "name": "python",
      "nbconvert_exporter": "python",
      "pygments_lexer": "ipython3",
      "version": "3.8.8"
    },
    "toc": {
      "base_numbering": 1,
      "nav_menu": {},
      "number_sections": true,
      "sideBar": true,
      "skip_h1_title": false,
      "title_cell": "Table of Contents",
      "title_sidebar": "Contents",
      "toc_cell": false,
      "toc_position": {},
      "toc_section_display": true,
      "toc_window_display": false
    }
  },
  "nbformat": 4,
  "nbformat_minor": 0
}