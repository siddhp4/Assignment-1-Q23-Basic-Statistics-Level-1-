{
  "cells": [
    {
      "cell_type": "markdown",
      "metadata": {
        "id": "view-in-github",
        "colab_type": "text"
      },
      "source": [
        "<a href=\"https://colab.research.google.com/github/siddhp4/Assignment-1-Q23-Basic-Statistics-Level-1-/blob/main/DS_ASSG_HYPHOTHESIS_BUYERRATIO.ipynb\" target=\"_parent\"><img src=\"https://colab.research.google.com/assets/colab-badge.svg\" alt=\"Open In Colab\"/></a>"
      ]
    },
    {
      "cell_type": "code",
      "execution_count": 2,
      "metadata": {
        "id": "5QK6m_f4jQPM"
      },
      "outputs": [],
      "source": [
        "import pandas as pd\n",
        "import numpy as np\n",
        "from scipy import stats"
      ]
    },
    {
      "cell_type": "markdown",
      "metadata": {
        "id": "5wBL_UnBjQPX"
      },
      "source": [
        "# __Problem Statement :__  \n",
        "\n",
        "\n",
        "_Sales of products in four different regions is tabulated for males and females. Find if male-female buyer rations are similar across regions_"
      ]
    },
    {
      "cell_type": "markdown",
      "metadata": {
        "id": "PEIukEAMjQPb"
      },
      "source": [
        "## __1 - Business Problem__  \n",
        "Is the male-female buyer rations are similar across regions"
      ]
    },
    {
      "cell_type": "markdown",
      "metadata": {
        "id": "_ZcI8nIcjQPd"
      },
      "source": [
        "## __2 - Data description__ \n",
        "\n",
        "α == 0.05 (95% Confidence)\n",
        "\n",
        "Y == Discrete  \n",
        "X == Discrete  \n",
        "\n",
        "Since there are more than 2 variable we will perform Chi-Square test"
      ]
    },
    {
      "cell_type": "markdown",
      "metadata": {
        "id": "HXleWg5MjQPf"
      },
      "source": [
        "## __3 - Chi-Square Test__  "
      ]
    },
    {
      "cell_type": "code",
      "execution_count": 3,
      "metadata": {
        "id": "cszL6zczjQPh"
      },
      "outputs": [],
      "source": [
        "df = pd.read_csv(\"BuyerRatio.csv\")"
      ]
    },
    {
      "cell_type": "markdown",
      "metadata": {
        "id": "8QtB3mqhjQPi"
      },
      "source": [
        "H0 == The male-female buyer rations are similar across regions  \n",
        "H1 == The male-female buyer rations are not similar across regions"
      ]
    },
    {
      "cell_type": "code",
      "execution_count": 4,
      "metadata": {
        "colab": {
          "base_uri": "https://localhost:8080/"
        },
        "id": "DMB8TYQXjQPj",
        "outputId": "3e7dad27-0ddd-4846-8ef3-bf4948716cc5"
      },
      "outputs": [
        {
          "output_type": "execute_result",
          "data": {
            "text/plain": [
              "(1.5959455386610577,\n",
              " 0.6603094907091882,\n",
              " 3,\n",
              " array([[  42.76531299,  442.23468701],\n",
              "        [ 146.81287862, 1518.18712138],\n",
              "        [ 131.11756787, 1355.88243213],\n",
              "        [  72.30424052,  747.69575948]]))"
            ]
          },
          "metadata": {},
          "execution_count": 4
        }
      ],
      "source": [
        "stats.chi2_contingency([df[\"East\"], df[\"West\"], df[\"North\"], df[\"South\"]])"
      ]
    },
    {
      "cell_type": "markdown",
      "metadata": {
        "id": "riK055TDjQPm"
      },
      "source": [
        "P value of Chi-Square test  == 0.66 > α\n",
        "\n",
        "## Thus HO is accepted.  \n",
        "## The male-female buyer rations are similar across regions  "
      ]
    },
    {
      "cell_type": "code",
      "execution_count": 4,
      "metadata": {
        "id": "SHCSiKDljQPn"
      },
      "outputs": [],
      "source": [
        ""
      ]
    }
  ],
  "metadata": {
    "kernelspec": {
      "display_name": "Python 3",
      "language": "python",
      "name": "python3"
    },
    "language_info": {
      "codemirror_mode": {
        "name": "ipython",
        "version": 3
      },
      "file_extension": ".py",
      "mimetype": "text/x-python",
      "name": "python",
      "nbconvert_exporter": "python",
      "pygments_lexer": "ipython3",
      "version": "3.7.3"
    },
    "colab": {
      "name": "DS ASSG HYPHOTHESIS BUYERRATIO.ipynb",
      "provenance": [],
      "collapsed_sections": [],
      "include_colab_link": true
    }
  },
  "nbformat": 4,
  "nbformat_minor": 0
}