{
  "cells": [
    {
      "cell_type": "markdown",
      "metadata": {
        "id": "view-in-github",
        "colab_type": "text"
      },
      "source": [
        "<a href=\"https://colab.research.google.com/github/siddhp4/Assignment-1-Q23-Basic-Statistics-Level-1-/blob/main/DS_ASSG_HYPHOTESIS_CUSTORDER.ipynb\" target=\"_parent\"><img src=\"https://colab.research.google.com/assets/colab-badge.svg\" alt=\"Open In Colab\"/></a>"
      ]
    },
    {
      "cell_type": "code",
      "execution_count": 2,
      "metadata": {
        "id": "JePRNdakkJJS"
      },
      "outputs": [],
      "source": [
        "import pandas as pd\n",
        "import numpy as np\n",
        "from scipy import stats"
      ]
    },
    {
      "cell_type": "markdown",
      "metadata": {
        "id": "GDhV16dJkJJe"
      },
      "source": [
        "# __Problem Statement :__  \n",
        "\n",
        "\n",
        "_TeleCall uses 4 centers around the globe to process customer order forms. They audit a certain %  of the customer order forms. Any error in order form renders it defective and has to be reworked before processing.  The manager wants to check whether the defective %  varies by centre. Please analyze the data at 5% significance level and help the manager draw appropriate inferences_"
      ]
    },
    {
      "cell_type": "markdown",
      "metadata": {
        "id": "8BCcb6ZKkJJj"
      },
      "source": [
        "## __1 - Business Problem__  \n",
        "Does the defective % varies significantly by centre ?"
      ]
    },
    {
      "cell_type": "markdown",
      "metadata": {
        "id": "q6fWFt78kJJk"
      },
      "source": [
        "## __2 - Data description__ \n",
        "\n",
        "α == 0.05 (95% Confidence)\n",
        "\n",
        "Y == Discrete  \n",
        "X == Discrete  \n",
        "\n",
        "Since there are more than 2 variable we will perform Chi-Square test"
      ]
    },
    {
      "cell_type": "markdown",
      "metadata": {
        "id": "oQ4ayp3QkJJl"
      },
      "source": [
        "## __3 - Chi-Square Test__  "
      ]
    },
    {
      "cell_type": "code",
      "execution_count": 3,
      "metadata": {
        "id": "KhovY5bikJJn"
      },
      "outputs": [],
      "source": [
        "df = pd.read_csv(\"Costomer+OrderForm.csv\")"
      ]
    },
    {
      "cell_type": "markdown",
      "metadata": {
        "id": "oMY8rOzikJJo"
      },
      "source": [
        "H0 == The defective % does not varies by centre  \n",
        "H1 == The defective % does varies by centre"
      ]
    },
    {
      "cell_type": "code",
      "execution_count": 4,
      "metadata": {
        "colab": {
          "base_uri": "https://localhost:8080/"
        },
        "id": "Y6oq0nzzkJJp",
        "outputId": "10e9e34d-9fed-4707-8745-d6aa8aed3144"
      },
      "outputs": [
        {
          "output_type": "execute_result",
          "data": {
            "text/plain": [
              "(3.8589606858203545, 0.2771020991233144, 3, array([[271.75,  28.25],\n",
              "        [271.75,  28.25],\n",
              "        [271.75,  28.25],\n",
              "        [271.75,  28.25]]))"
            ]
          },
          "metadata": {},
          "execution_count": 4
        }
      ],
      "source": [
        "stats.chi2_contingency([df['Phillippines'].value_counts(), df['Indonesia'].value_counts(), df['Malta'].value_counts(), df['India'].value_counts()])"
      ]
    },
    {
      "cell_type": "markdown",
      "metadata": {
        "id": "4REFycFmkJJs"
      },
      "source": [
        "P value of Chi-Square test  == 0.277 > α\n",
        "\n",
        "## Thus HO is accepted.  \n",
        "## The defective % does not varies significantly by centres"
      ]
    },
    {
      "cell_type": "code",
      "execution_count": 4,
      "metadata": {
        "id": "pdII3gc6kJJw"
      },
      "outputs": [],
      "source": [
        ""
      ]
    }
  ],
  "metadata": {
    "kernelspec": {
      "display_name": "Python 3",
      "language": "python",
      "name": "python3"
    },
    "language_info": {
      "codemirror_mode": {
        "name": "ipython",
        "version": 3
      },
      "file_extension": ".py",
      "mimetype": "text/x-python",
      "name": "python",
      "nbconvert_exporter": "python",
      "pygments_lexer": "ipython3",
      "version": "3.7.3"
    },
    "colab": {
      "name": "DS ASSG HYPHOTESIS CUSTORDER.ipynb",
      "provenance": [],
      "collapsed_sections": [],
      "include_colab_link": true
    }
  },
  "nbformat": 4,
  "nbformat_minor": 0
}